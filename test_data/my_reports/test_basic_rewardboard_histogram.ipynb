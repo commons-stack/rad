{
 "cells": [
  {
   "cell_type": "code",
   "execution_count": null,
   "id": "a4d8d96d",
   "metadata": {
    "tags": [
     "parameters"
    ]
   },
   "outputs": [],
   "source": [
    "input_params= {}"
   ]
  },
  {
   "cell_type": "code",
   "execution_count": null,
   "id": "caaf1418",
   "metadata": {},
   "outputs": [],
   "source": [
    "import pandas as pd\n",
    "import numpy as np\n",
    "import plotly.express as px\n",
    "import importlib"
   ]
  },
  {
   "cell_type": "markdown",
   "id": "8f13de66",
   "metadata": {},
   "source": [
    "# TEST REPORT NUMBER 1\n",
    "This is a header template. It is saved in the /reports folder and is a regular notebook which can be adapted."
   ]
  },
  {
   "cell_type": "code",
   "execution_count": null,
   "id": "4652ff63",
   "metadata": {},
   "outputs": [],
   "source": [
    "current_analysis = rewardboard_overview\n",
    "#print(current_analysis)"
   ]
  },
  {
   "cell_type": "code",
   "execution_count": null,
   "id": "a8925df3",
   "metadata": {},
   "outputs": [],
   "source": [
    "import importlib\n",
    "mod = importlib.import_module(current_analysis[\"module\"])\n",
    "#display(Markdown(mod.header))\n",
    "#display(Markdown(mod.description))\n",
    "mod.printDescription(current_analysis[\"data\"])\n",
    "mod.printGraph(current_analysis[\"data\"])"
   ]
  },
  {
   "cell_type": "code",
   "execution_count": null,
   "id": "7b236d90",
   "metadata": {},
   "outputs": [],
   "source": [
    "current_analysis = another_histogram\n",
    "#print(current_analysis)"
   ]
  },
  {
   "cell_type": "code",
   "execution_count": null,
   "id": "62397e21",
   "metadata": {},
   "outputs": [],
   "source": [
    "import importlib\n",
    "mod = importlib.import_module(current_analysis[\"module\"])\n",
    "#display(Markdown(mod.header))\n",
    "#display(Markdown(mod.description))\n",
    "mod.printDescription(current_analysis[\"data\"])\n",
    "mod.printGraph(current_analysis[\"data\"])"
   ]
  },
  {
   "cell_type": "markdown",
   "id": "639aa749",
   "metadata": {},
   "source": [
    "# END OF NOTEBOOK SUMMARY\n",
    "This is a FOOTER template. It is saved in the /reports folder and is a regular notebook which can be adapted.\n"
   ]
  }
 ],
 "metadata": {},
 "nbformat": 4,
 "nbformat_minor": 5
}
