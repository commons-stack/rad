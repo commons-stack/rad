{
 "cells": [
  {
   "cell_type": "code",
   "execution_count": null,
   "id": "e44958ad",
   "metadata": {
    "tags": [
     "parameters"
    ]
   },
   "outputs": [],
   "source": [
    "input_params= {}"
   ]
  },
  {
   "cell_type": "code",
   "execution_count": null,
   "id": "2814cdc1",
   "metadata": {},
   "outputs": [],
   "source": [
    "import pandas as pd\n",
    "import numpy as np\n",
    "import plotly.express as px\n",
    "import importlib"
   ]
  },
  {
   "cell_type": "markdown",
   "id": "5b665052",
   "metadata": {},
   "source": [
    "# TEST REPORT NUMBER 1\n",
    "This is a header template. It is saved in the /reports folder and is a regular notebook which can be adapted."
   ]
  },
  {
   "cell_type": "code",
   "execution_count": null,
   "id": "bd22cf96",
   "metadata": {},
   "outputs": [],
   "source": [
    "current_analysis = rewardboard_overview\n",
    "#print(current_analysis)"
   ]
  },
  {
   "cell_type": "code",
   "execution_count": null,
   "id": "f2c275d5",
   "metadata": {},
   "outputs": [],
   "source": [
    "import importlib\n",
    "mod = importlib.import_module(current_analysis[\"module\"])\n",
    "#display(Markdown(mod.header))\n",
    "#display(Markdown(mod.description))\n",
    "mod.printDescription(current_analysis[\"data\"])\n",
    "mod.printGraph(current_analysis[\"data\"])"
   ]
  },
  {
   "cell_type": "code",
   "execution_count": null,
   "id": "d8fd0edf",
   "metadata": {},
   "outputs": [],
   "source": [
    "current_analysis = another_histogram\n",
    "#print(current_analysis)"
   ]
  },
  {
   "cell_type": "code",
   "execution_count": null,
   "id": "86ecb04a",
   "metadata": {},
   "outputs": [],
   "source": [
    "import importlib\n",
    "mod = importlib.import_module(current_analysis[\"module\"])\n",
    "#display(Markdown(mod.header))\n",
    "#display(Markdown(mod.description))\n",
    "mod.printDescription(current_analysis[\"data\"])\n",
    "mod.printGraph(current_analysis[\"data\"])"
   ]
  },
  {
   "cell_type": "markdown",
   "id": "cac3ee1e",
   "metadata": {},
   "source": [
    "# END OF NOTEBOOK SUMMARY\n",
    "This is a FOOTER template. It is saved in the /reports folder and is a regular notebook which can be adapted.\n"
   ]
  }
 ],
 "metadata": {},
 "nbformat": 4,
 "nbformat_minor": 5
}
