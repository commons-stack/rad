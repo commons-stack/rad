{
 "cells": [
  {
   "cell_type": "code",
   "execution_count": null,
   "id": "e4d6ed4f",
   "metadata": {
    "tags": [
     "parameters"
    ]
   },
   "outputs": [],
   "source": [
    "input_params= {}"
   ]
  },
  {
   "cell_type": "code",
   "execution_count": null,
   "id": "20898342",
   "metadata": {},
   "outputs": [],
   "source": [
    "import pandas as pd\n",
    "import numpy as np\n",
    "import plotly.express as px\n",
    "import importlib"
   ]
  },
  {
   "cell_type": "markdown",
   "id": "2b33ed11",
   "metadata": {},
   "source": [
    "# TEST RAD REPORT\n",
    "This is a header template. It is saved in the /reports folder and is a regular notebook which can be adapted."
   ]
  },
  {
   "cell_type": "code",
   "execution_count": null,
   "id": "ee7b5544",
   "metadata": {},
   "outputs": [],
   "source": [
    "current_analysis = general_summary\n",
    "#print(current_analysis)"
   ]
  },
  {
   "cell_type": "code",
   "execution_count": null,
   "id": "369b9914",
   "metadata": {},
   "outputs": [],
   "source": [
    "import importlib\n",
    "mod = importlib.import_module(current_analysis[\"module\"])\n",
    "#display(Markdown(mod.header))\n",
    "#display(Markdown(mod.description))\n",
    "mod.printDescription(current_analysis[\"data\"], current_analysis[\"config\"])\n",
    "mod.printGraph(current_analysis[\"data\"], current_analysis[\"config\"])"
   ]
  },
  {
   "cell_type": "code",
   "execution_count": null,
   "id": "4d6170ad",
   "metadata": {},
   "outputs": [],
   "source": [
    "current_analysis = praise_score_distribution\n",
    "#print(current_analysis)"
   ]
  },
  {
   "cell_type": "code",
   "execution_count": null,
   "id": "bd66d59f",
   "metadata": {},
   "outputs": [],
   "source": [
    "import importlib\n",
    "mod = importlib.import_module(current_analysis[\"module\"])\n",
    "#display(Markdown(mod.header))\n",
    "#display(Markdown(mod.description))\n",
    "mod.printDescription(current_analysis[\"data\"], current_analysis[\"config\"])\n",
    "mod.printGraph(current_analysis[\"data\"], current_analysis[\"config\"])"
   ]
  },
  {
   "cell_type": "code",
   "execution_count": null,
   "id": "a30f3a00",
   "metadata": {},
   "outputs": [],
   "source": [
    "current_analysis = top_ten_praise\n",
    "#print(current_analysis)"
   ]
  },
  {
   "cell_type": "code",
   "execution_count": null,
   "id": "7b8fbb6a",
   "metadata": {},
   "outputs": [],
   "source": [
    "import importlib\n",
    "mod = importlib.import_module(current_analysis[\"module\"])\n",
    "#display(Markdown(mod.header))\n",
    "#display(Markdown(mod.description))\n",
    "mod.printDescription(current_analysis[\"data\"], current_analysis[\"config\"])\n",
    "mod.printGraph(current_analysis[\"data\"], current_analysis[\"config\"])"
   ]
  },
  {
   "cell_type": "code",
   "execution_count": null,
   "id": "38a58893",
   "metadata": {},
   "outputs": [],
   "source": [
    "current_analysis = rewardboard_overview\n",
    "#print(current_analysis)"
   ]
  },
  {
   "cell_type": "code",
   "execution_count": null,
   "id": "ff16fa1e",
   "metadata": {},
   "outputs": [],
   "source": [
    "import importlib\n",
    "mod = importlib.import_module(current_analysis[\"module\"])\n",
    "#display(Markdown(mod.header))\n",
    "#display(Markdown(mod.description))\n",
    "mod.printDescription(current_analysis[\"data\"], current_analysis[\"config\"])\n",
    "mod.printGraph(current_analysis[\"data\"], current_analysis[\"config\"])"
   ]
  },
  {
   "cell_type": "code",
   "execution_count": null,
   "id": "98089b06",
   "metadata": {},
   "outputs": [],
   "source": [
    "current_analysis = praise_histogram\n",
    "#print(current_analysis)"
   ]
  },
  {
   "cell_type": "code",
   "execution_count": null,
   "id": "c2b6403a",
   "metadata": {},
   "outputs": [],
   "source": [
    "import importlib\n",
    "mod = importlib.import_module(current_analysis[\"module\"])\n",
    "#display(Markdown(mod.header))\n",
    "#display(Markdown(mod.description))\n",
    "mod.printDescription(current_analysis[\"data\"], current_analysis[\"config\"])\n",
    "mod.printGraph(current_analysis[\"data\"], current_analysis[\"config\"])"
   ]
  },
  {
   "cell_type": "code",
   "execution_count": null,
   "id": "f99ae6e7",
   "metadata": {},
   "outputs": [],
   "source": [
    "current_analysis = epoch_praise_flow\n",
    "#print(current_analysis)"
   ]
  },
  {
   "cell_type": "code",
   "execution_count": null,
   "id": "8fafb0ee",
   "metadata": {},
   "outputs": [],
   "source": [
    "import importlib\n",
    "mod = importlib.import_module(current_analysis[\"module\"])\n",
    "#display(Markdown(mod.header))\n",
    "#display(Markdown(mod.description))\n",
    "mod.printDescription(current_analysis[\"data\"], current_analysis[\"config\"])\n",
    "mod.printGraph(current_analysis[\"data\"], current_analysis[\"config\"])"
   ]
  },
  {
   "cell_type": "markdown",
   "id": "b2a73274",
   "metadata": {},
   "source": [
    "# END OF NOTEBOOK SUMMARY\n",
    "This is a FOOTER template. It is saved in the /reports folder and is a regular notebook which can be adapted.\n"
   ]
  }
 ],
 "metadata": {},
 "nbformat": 4,
 "nbformat_minor": 5
}
