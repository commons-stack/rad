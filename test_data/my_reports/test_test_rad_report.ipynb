{
 "cells": [
  {
   "cell_type": "code",
   "execution_count": null,
   "id": "7621142e",
   "metadata": {
    "tags": [
     "parameters"
    ]
   },
   "outputs": [],
   "source": [
    "input_params= {}"
   ]
  },
  {
   "cell_type": "code",
   "execution_count": null,
   "id": "f5e9fb2d",
   "metadata": {},
   "outputs": [],
   "source": [
    "import pandas as pd\n",
    "import numpy as np\n",
    "import plotly.express as px\n",
    "import importlib"
   ]
  },
  {
   "cell_type": "markdown",
   "id": "32ba51b0",
   "metadata": {},
   "source": [
    "# TEST RAD REPORT\n",
    "This is a header template. It is saved in the /reports folder and is a regular notebook which can be adapted."
   ]
  },
  {
   "cell_type": "code",
   "execution_count": null,
   "id": "c867b3d4",
   "metadata": {},
   "outputs": [],
   "source": [
    "current_analysis = general_summary\n",
    "#print(current_analysis)"
   ]
  },
  {
   "cell_type": "code",
   "execution_count": null,
   "id": "eceb3d99",
   "metadata": {},
   "outputs": [],
   "source": [
    "import importlib\n",
    "mod = importlib.import_module(current_analysis[\"module\"])\n",
    "#display(Markdown(mod.header))\n",
    "#display(Markdown(mod.description))\n",
    "mod.printDescription(current_analysis[\"data\"])\n",
    "mod.printGraph(current_analysis[\"data\"])"
   ]
  },
  {
   "cell_type": "code",
   "execution_count": null,
   "id": "e9f7722b",
   "metadata": {},
   "outputs": [],
   "source": [
    "current_analysis = praise_score_distribution\n",
    "#print(current_analysis)"
   ]
  },
  {
   "cell_type": "code",
   "execution_count": null,
   "id": "642dad58",
   "metadata": {},
   "outputs": [],
   "source": [
    "import importlib\n",
    "mod = importlib.import_module(current_analysis[\"module\"])\n",
    "#display(Markdown(mod.header))\n",
    "#display(Markdown(mod.description))\n",
    "mod.printDescription(current_analysis[\"data\"])\n",
    "mod.printGraph(current_analysis[\"data\"])"
   ]
  },
  {
   "cell_type": "code",
   "execution_count": null,
   "id": "42fa32c5",
   "metadata": {},
   "outputs": [],
   "source": [
    "current_analysis = top_ten_praise\n",
    "#print(current_analysis)"
   ]
  },
  {
   "cell_type": "code",
   "execution_count": null,
   "id": "aa48ce90",
   "metadata": {},
   "outputs": [],
   "source": [
    "import importlib\n",
    "mod = importlib.import_module(current_analysis[\"module\"])\n",
    "#display(Markdown(mod.header))\n",
    "#display(Markdown(mod.description))\n",
    "mod.printDescription(current_analysis[\"data\"])\n",
    "mod.printGraph(current_analysis[\"data\"])"
   ]
  },
  {
   "cell_type": "code",
   "execution_count": null,
   "id": "378eb571",
   "metadata": {},
   "outputs": [],
   "source": [
    "current_analysis = rewardboard_overview\n",
    "#print(current_analysis)"
   ]
  },
  {
   "cell_type": "code",
   "execution_count": null,
   "id": "0230ac51",
   "metadata": {},
   "outputs": [],
   "source": [
    "import importlib\n",
    "mod = importlib.import_module(current_analysis[\"module\"])\n",
    "#display(Markdown(mod.header))\n",
    "#display(Markdown(mod.description))\n",
    "mod.printDescription(current_analysis[\"data\"])\n",
    "mod.printGraph(current_analysis[\"data\"])"
   ]
  },
  {
   "cell_type": "code",
   "execution_count": null,
   "id": "aa36d678",
   "metadata": {},
   "outputs": [],
   "source": [
    "current_analysis = praise_histogram\n",
    "#print(current_analysis)"
   ]
  },
  {
   "cell_type": "code",
   "execution_count": null,
   "id": "8fcddef7",
   "metadata": {},
   "outputs": [],
   "source": [
    "import importlib\n",
    "mod = importlib.import_module(current_analysis[\"module\"])\n",
    "#display(Markdown(mod.header))\n",
    "#display(Markdown(mod.description))\n",
    "mod.printDescription(current_analysis[\"data\"])\n",
    "mod.printGraph(current_analysis[\"data\"])"
   ]
  },
  {
   "cell_type": "code",
   "execution_count": null,
   "id": "7518a7fe",
   "metadata": {},
   "outputs": [],
   "source": [
    "current_analysis = epoch_praise_flow\n",
    "#print(current_analysis)"
   ]
  },
  {
   "cell_type": "code",
   "execution_count": null,
   "id": "725149e3",
   "metadata": {},
   "outputs": [],
   "source": [
    "import importlib\n",
    "mod = importlib.import_module(current_analysis[\"module\"])\n",
    "#display(Markdown(mod.header))\n",
    "#display(Markdown(mod.description))\n",
    "mod.printDescription(current_analysis[\"data\"])\n",
    "mod.printGraph(current_analysis[\"data\"])"
   ]
  },
  {
   "cell_type": "markdown",
   "id": "4ecc3ee7",
   "metadata": {},
   "source": [
    "# END OF NOTEBOOK SUMMARY\n",
    "This is a FOOTER template. It is saved in the /reports folder and is a regular notebook which can be adapted.\n"
   ]
  }
 ],
 "metadata": {},
 "nbformat": 4,
 "nbformat_minor": 5
}
