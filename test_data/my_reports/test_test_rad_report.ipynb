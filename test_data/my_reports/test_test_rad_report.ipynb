{
 "cells": [
  {
   "cell_type": "code",
   "execution_count": null,
   "id": "472de2dc",
   "metadata": {
    "tags": [
     "parameters"
    ]
   },
   "outputs": [],
   "source": [
    "input_params= {}"
   ]
  },
  {
   "cell_type": "code",
   "execution_count": null,
   "id": "f4163fd0",
   "metadata": {},
   "outputs": [],
   "source": [
    "import pandas as pd\n",
    "import numpy as np\n",
    "import plotly.express as px\n",
    "import importlib"
   ]
  },
  {
   "cell_type": "markdown",
   "id": "3f70b1dc",
   "metadata": {},
   "source": [
    "# TEST RAD REPORT\n",
    "This is a header template. It is saved in the /reports folder and is a regular notebook which can be adapted."
   ]
  },
  {
   "cell_type": "code",
   "execution_count": null,
   "id": "7a478992",
   "metadata": {},
   "outputs": [],
   "source": [
    "current_analysis = general_summary\n",
    "#print(current_analysis)"
   ]
  },
  {
   "cell_type": "code",
   "execution_count": null,
   "id": "e9cfaeac",
   "metadata": {},
   "outputs": [],
   "source": [
    "import importlib\n",
    "mod = importlib.import_module(current_analysis[\"module\"])\n",
    "#display(Markdown(mod.header))\n",
    "#display(Markdown(mod.description))\n",
    "mod.printDescription(current_analysis[\"data\"])\n",
    "mod.printGraph(current_analysis[\"data\"])"
   ]
  },
  {
   "cell_type": "code",
   "execution_count": null,
   "id": "9d5f2997",
   "metadata": {},
   "outputs": [],
   "source": [
    "current_analysis = praise_score_distribution\n",
    "#print(current_analysis)"
   ]
  },
  {
   "cell_type": "code",
   "execution_count": null,
   "id": "df8cd6e5",
   "metadata": {},
   "outputs": [],
   "source": [
    "import importlib\n",
    "mod = importlib.import_module(current_analysis[\"module\"])\n",
    "#display(Markdown(mod.header))\n",
    "#display(Markdown(mod.description))\n",
    "mod.printDescription(current_analysis[\"data\"])\n",
    "mod.printGraph(current_analysis[\"data\"])"
   ]
  },
  {
   "cell_type": "code",
   "execution_count": null,
   "id": "3b52c690",
   "metadata": {},
   "outputs": [],
   "source": [
    "current_analysis = top_ten_praise\n",
    "#print(current_analysis)"
   ]
  },
  {
   "cell_type": "code",
   "execution_count": null,
   "id": "de17440a",
   "metadata": {},
   "outputs": [],
   "source": [
    "import importlib\n",
    "mod = importlib.import_module(current_analysis[\"module\"])\n",
    "#display(Markdown(mod.header))\n",
    "#display(Markdown(mod.description))\n",
    "mod.printDescription(current_analysis[\"data\"])\n",
    "mod.printGraph(current_analysis[\"data\"])"
   ]
  },
  {
   "cell_type": "code",
   "execution_count": null,
   "id": "e460da23",
   "metadata": {},
   "outputs": [],
   "source": [
    "current_analysis = rewardboard_overview\n",
    "#print(current_analysis)"
   ]
  },
  {
   "cell_type": "code",
   "execution_count": null,
   "id": "9efc1217",
   "metadata": {},
   "outputs": [],
   "source": [
    "import importlib\n",
    "mod = importlib.import_module(current_analysis[\"module\"])\n",
    "#display(Markdown(mod.header))\n",
    "#display(Markdown(mod.description))\n",
    "mod.printDescription(current_analysis[\"data\"])\n",
    "mod.printGraph(current_analysis[\"data\"])"
   ]
  },
  {
   "cell_type": "code",
   "execution_count": null,
   "id": "45c385ba",
   "metadata": {},
   "outputs": [],
   "source": [
    "current_analysis = praise_histogram\n",
    "#print(current_analysis)"
   ]
  },
  {
   "cell_type": "code",
   "execution_count": null,
   "id": "fec8b069",
   "metadata": {},
   "outputs": [],
   "source": [
    "import importlib\n",
    "mod = importlib.import_module(current_analysis[\"module\"])\n",
    "#display(Markdown(mod.header))\n",
    "#display(Markdown(mod.description))\n",
    "mod.printDescription(current_analysis[\"data\"])\n",
    "mod.printGraph(current_analysis[\"data\"])"
   ]
  },
  {
   "cell_type": "code",
   "execution_count": null,
   "id": "3b2ec161",
   "metadata": {},
   "outputs": [],
   "source": [
    "current_analysis = epoch_praise_flow\n",
    "#print(current_analysis)"
   ]
  },
  {
   "cell_type": "code",
   "execution_count": null,
   "id": "48c7d188",
   "metadata": {},
   "outputs": [],
   "source": [
    "import importlib\n",
    "mod = importlib.import_module(current_analysis[\"module\"])\n",
    "#display(Markdown(mod.header))\n",
    "#display(Markdown(mod.description))\n",
    "mod.printDescription(current_analysis[\"data\"])\n",
    "mod.printGraph(current_analysis[\"data\"])"
   ]
  },
  {
   "cell_type": "markdown",
   "id": "30dfbdda",
   "metadata": {},
   "source": [
    "# END OF NOTEBOOK SUMMARY\n",
    "This is a FOOTER template. It is saved in the /reports folder and is a regular notebook which can be adapted.\n"
   ]
  }
 ],
 "metadata": {},
 "nbformat": 4,
 "nbformat_minor": 5
}
