{
 "cells": [
  {
   "cell_type": "code",
   "execution_count": 1,
   "id": "ff87a160",
   "metadata": {
    "execution": {
     "iopub.execute_input": "2022-07-05T07:31:46.533311Z",
     "iopub.status.busy": "2022-07-05T07:31:46.533004Z",
     "iopub.status.idle": "2022-07-05T07:31:46.540202Z",
     "shell.execute_reply": "2022-07-05T07:31:46.539741Z"
    },
    "papermill": {
     "duration": 0.014085,
     "end_time": "2022-07-05T07:31:46.541385",
     "exception": false,
     "start_time": "2022-07-05T07:31:46.527300",
     "status": "completed"
    },
    "tags": [
     "parameters"
    ]
   },
   "outputs": [],
   "source": [
    "input_params= {}"
   ]
  },
  {
   "cell_type": "code",
   "execution_count": 2,
   "id": "8bccf806",
   "metadata": {
    "execution": {
     "iopub.execute_input": "2022-07-05T07:31:46.551418Z",
     "iopub.status.busy": "2022-07-05T07:31:46.551183Z",
     "iopub.status.idle": "2022-07-05T07:31:46.558727Z",
     "shell.execute_reply": "2022-07-05T07:31:46.558110Z"
    },
    "papermill": {
     "duration": 0.013887,
     "end_time": "2022-07-05T07:31:46.559874",
     "exception": false,
     "start_time": "2022-07-05T07:31:46.545987",
     "status": "completed"
    },
    "tags": [
     "injected-parameters"
    ]
   },
   "outputs": [],
   "source": [
    "# Parameters\n",
    "rewardboard_overview = {\n",
    "    \"module\": \"reward_systems.straight_distribution.analysis_tools.histogram\",\n",
    "    \"data\": {\n",
    "        \"name\": \"straight_distribution\",\n",
    "        \"beneficiaries\": {\n",
    "            \"ID\": {\n",
    "                \"0\": \"0x826976d7c600d45fb8287ca1d7c76fc8eb732030\",\n",
    "                \"1\": \"0xf9c171fb0480fac34289cc5791519fec1d7978c3\",\n",
    "                \"2\": \"0xa32aecda752cf4ef89956e83d60c04835d4fa867\",\n",
    "                \"3\": \"0xb22981ba3fe1de2325935c91a3b717168fb86714\",\n",
    "                \"4\": \"0x0bf920dfe6d36829ab5b0e153857d4ca689e46fb\",\n",
    "                \"5\": \"0x00d18ca9782be1caef611017c2fbc1a39779a57c\",\n",
    "                \"6\": \"0xaa79b87dc8b046a5e4f7d03f1562d7fe5bf98737\",\n",
    "                \"7\": \"0xdd505da2e2a8017f38a715948c6b6a2922ba27f0\",\n",
    "            }\n",
    "        },\n",
    "        \"totalDistAmount\": 1000,\n",
    "        \"tokenName\": \"TEC\",\n",
    "        \"tokenAddress\": \"0x5dF8339c5E282ee48c0c7cE8A7d01a73D38B3B27\",\n",
    "        \"distributionResults\": {},\n",
    "        \"distribution_results\": {\n",
    "            \"ID\": {\n",
    "                \"0\": \"0x826976d7c600d45fb8287ca1d7c76fc8eb732030\",\n",
    "                \"1\": \"0xf9c171fb0480fac34289cc5791519fec1d7978c3\",\n",
    "                \"2\": \"0xa32aecda752cf4ef89956e83d60c04835d4fa867\",\n",
    "                \"3\": \"0xb22981ba3fe1de2325935c91a3b717168fb86714\",\n",
    "                \"4\": \"0x0bf920dfe6d36829ab5b0e153857d4ca689e46fb\",\n",
    "                \"5\": \"0x00d18ca9782be1caef611017c2fbc1a39779a57c\",\n",
    "                \"6\": \"0xaa79b87dc8b046a5e4f7d03f1562d7fe5bf98737\",\n",
    "                \"7\": \"0xdd505da2e2a8017f38a715948c6b6a2922ba27f0\",\n",
    "            },\n",
    "            \"AMOUNT TO RECEIVE\": {\n",
    "                \"0\": 125.0,\n",
    "                \"1\": 125.0,\n",
    "                \"2\": 125.0,\n",
    "                \"3\": 125.0,\n",
    "                \"4\": 125.0,\n",
    "                \"5\": 125.0,\n",
    "                \"6\": 125.0,\n",
    "                \"7\": 125.0,\n",
    "            },\n",
    "        },\n",
    "    },\n",
    "}\n",
    "another_histogram = {\n",
    "    \"module\": \"reward_systems.straight_distribution.analysis_tools.histogram\",\n",
    "    \"data\": {\n",
    "        \"name\": \"straight_distribution\",\n",
    "        \"beneficiaries\": {\n",
    "            \"ID\": {\n",
    "                \"0\": \"Eddie\",\n",
    "                \"1\": \"Lizzie\",\n",
    "                \"2\": \"Chris\",\n",
    "                \"3\": \"Robin\",\n",
    "                \"4\": \"Peter\",\n",
    "                \"5\": \"Frank\",\n",
    "            }\n",
    "        },\n",
    "        \"totalDistAmount\": 500,\n",
    "        \"tokenName\": \"TEC\",\n",
    "        \"tokenAddress\": \"0x5dF8339c5E282ee48c0c7cE8A7d01a73D38B3B27\",\n",
    "        \"distributionResults\": {},\n",
    "        \"distribution_results\": {\n",
    "            \"ID\": {\n",
    "                \"0\": \"Eddie\",\n",
    "                \"1\": \"Lizzie\",\n",
    "                \"2\": \"Chris\",\n",
    "                \"3\": \"Robin\",\n",
    "                \"4\": \"Peter\",\n",
    "                \"5\": \"Frank\",\n",
    "            },\n",
    "            \"AMOUNT TO RECEIVE\": {\n",
    "                \"0\": 83.33333333333333,\n",
    "                \"1\": 83.33333333333333,\n",
    "                \"2\": 83.33333333333333,\n",
    "                \"3\": 83.33333333333333,\n",
    "                \"4\": 83.33333333333333,\n",
    "                \"5\": 83.33333333333333,\n",
    "            },\n",
    "        },\n",
    "    },\n",
    "}\n"
   ]
  },
  {
   "cell_type": "code",
   "execution_count": 3,
   "id": "f545440f",
   "metadata": {
    "execution": {
     "iopub.execute_input": "2022-07-05T07:31:46.569462Z",
     "iopub.status.busy": "2022-07-05T07:31:46.569220Z",
     "iopub.status.idle": "2022-07-05T07:31:46.900455Z",
     "shell.execute_reply": "2022-07-05T07:31:46.900050Z"
    },
    "papermill": {
     "duration": 0.338288,
     "end_time": "2022-07-05T07:31:46.902352",
     "exception": false,
     "start_time": "2022-07-05T07:31:46.564064",
     "status": "completed"
    },
    "tags": []
   },
   "outputs": [],
   "source": [
    "import pandas as pd\n",
    "import numpy as np\n",
    "import plotly.express as px\n",
    "import importlib\n",
    "from IPython.display import Markdown as md"
   ]
  },
  {
   "cell_type": "markdown",
   "id": "ece92869",
   "metadata": {
    "papermill": {
     "duration": 0.005805,
     "end_time": "2022-07-05T07:31:46.914457",
     "exception": false,
     "start_time": "2022-07-05T07:31:46.908652",
     "status": "completed"
    },
    "tags": []
   },
   "source": [
    "# TEST REPORT NUMBER 1\n",
    "This is a header template. It is saved in the /reports folder and is a regular notebook which can be adapted."
   ]
  },
  {
   "cell_type": "code",
   "execution_count": 4,
   "id": "963d7e06",
   "metadata": {
    "execution": {
     "iopub.execute_input": "2022-07-05T07:31:46.927066Z",
     "iopub.status.busy": "2022-07-05T07:31:46.926874Z",
     "iopub.status.idle": "2022-07-05T07:31:46.929169Z",
     "shell.execute_reply": "2022-07-05T07:31:46.928742Z"
    },
    "papermill": {
     "duration": 0.010009,
     "end_time": "2022-07-05T07:31:46.930255",
     "exception": false,
     "start_time": "2022-07-05T07:31:46.920246",
     "status": "completed"
    },
    "tags": []
   },
   "outputs": [],
   "source": [
    "current_analysis = rewardboard_overview\n",
    "#print(current_analysis)"
   ]
  },
  {
   "cell_type": "code",
   "execution_count": 5,
   "id": "7de08bba",
   "metadata": {
    "execution": {
     "iopub.execute_input": "2022-07-05T07:31:46.940020Z",
     "iopub.status.busy": "2022-07-05T07:31:46.939872Z",
     "iopub.status.idle": "2022-07-05T07:31:47.310492Z",
     "shell.execute_reply": "2022-07-05T07:31:47.310191Z"
    },
    "papermill": {
     "duration": 0.401368,
     "end_time": "2022-07-05T07:31:47.336118",
     "exception": false,
     "start_time": "2022-07-05T07:31:46.934750",
     "status": "completed"
    },
    "tags": []
   },
   "outputs": [
    {
     "ename": "ModuleNotFoundError",
     "evalue": "No module named 'reward_systems'",
     "output_type": "error",
     "traceback": [
      "\u001b[0;31m---------------------------------------------------------------------------\u001b[0m",
      "\u001b[0;31mModuleNotFoundError\u001b[0m                       Traceback (most recent call last)",
      "Input \u001b[0;32mIn [5]\u001b[0m, in \u001b[0;36m<cell line: 2>\u001b[0;34m()\u001b[0m\n\u001b[1;32m      1\u001b[0m \u001b[38;5;28;01mimport\u001b[39;00m \u001b[38;5;21;01mimportlib\u001b[39;00m\n\u001b[0;32m----> 2\u001b[0m mod \u001b[38;5;241m=\u001b[39m \u001b[43mimportlib\u001b[49m\u001b[38;5;241;43m.\u001b[39;49m\u001b[43mimport_module\u001b[49m\u001b[43m(\u001b[49m\u001b[43mcurrent_analysis\u001b[49m\u001b[43m[\u001b[49m\u001b[38;5;124;43m\"\u001b[39;49m\u001b[38;5;124;43mmodule\u001b[39;49m\u001b[38;5;124;43m\"\u001b[39;49m\u001b[43m]\u001b[49m\u001b[43m)\u001b[49m\n\u001b[1;32m      3\u001b[0m \u001b[38;5;66;03m#[TO DO]change to markdown\u001b[39;00m\n\u001b[1;32m      4\u001b[0m \u001b[38;5;28mprint\u001b[39m(mod\u001b[38;5;241m.\u001b[39mheader)\n",
      "File \u001b[0;32m/usr/local/lib/python3.10/importlib/__init__.py:126\u001b[0m, in \u001b[0;36mimport_module\u001b[0;34m(name, package)\u001b[0m\n\u001b[1;32m    124\u001b[0m             \u001b[38;5;28;01mbreak\u001b[39;00m\n\u001b[1;32m    125\u001b[0m         level \u001b[38;5;241m+\u001b[39m\u001b[38;5;241m=\u001b[39m \u001b[38;5;241m1\u001b[39m\n\u001b[0;32m--> 126\u001b[0m \u001b[38;5;28;01mreturn\u001b[39;00m \u001b[43m_bootstrap\u001b[49m\u001b[38;5;241;43m.\u001b[39;49m\u001b[43m_gcd_import\u001b[49m\u001b[43m(\u001b[49m\u001b[43mname\u001b[49m\u001b[43m[\u001b[49m\u001b[43mlevel\u001b[49m\u001b[43m:\u001b[49m\u001b[43m]\u001b[49m\u001b[43m,\u001b[49m\u001b[43m \u001b[49m\u001b[43mpackage\u001b[49m\u001b[43m,\u001b[49m\u001b[43m \u001b[49m\u001b[43mlevel\u001b[49m\u001b[43m)\u001b[49m\n",
      "File \u001b[0;32m<frozen importlib._bootstrap>:1050\u001b[0m, in \u001b[0;36m_gcd_import\u001b[0;34m(name, package, level)\u001b[0m\n",
      "File \u001b[0;32m<frozen importlib._bootstrap>:1027\u001b[0m, in \u001b[0;36m_find_and_load\u001b[0;34m(name, import_)\u001b[0m\n",
      "File \u001b[0;32m<frozen importlib._bootstrap>:992\u001b[0m, in \u001b[0;36m_find_and_load_unlocked\u001b[0;34m(name, import_)\u001b[0m\n",
      "File \u001b[0;32m<frozen importlib._bootstrap>:241\u001b[0m, in \u001b[0;36m_call_with_frames_removed\u001b[0;34m(f, *args, **kwds)\u001b[0m\n",
      "File \u001b[0;32m<frozen importlib._bootstrap>:1050\u001b[0m, in \u001b[0;36m_gcd_import\u001b[0;34m(name, package, level)\u001b[0m\n",
      "File \u001b[0;32m<frozen importlib._bootstrap>:1027\u001b[0m, in \u001b[0;36m_find_and_load\u001b[0;34m(name, import_)\u001b[0m\n",
      "File \u001b[0;32m<frozen importlib._bootstrap>:992\u001b[0m, in \u001b[0;36m_find_and_load_unlocked\u001b[0;34m(name, import_)\u001b[0m\n",
      "File \u001b[0;32m<frozen importlib._bootstrap>:241\u001b[0m, in \u001b[0;36m_call_with_frames_removed\u001b[0;34m(f, *args, **kwds)\u001b[0m\n",
      "File \u001b[0;32m<frozen importlib._bootstrap>:1050\u001b[0m, in \u001b[0;36m_gcd_import\u001b[0;34m(name, package, level)\u001b[0m\n",
      "File \u001b[0;32m<frozen importlib._bootstrap>:1027\u001b[0m, in \u001b[0;36m_find_and_load\u001b[0;34m(name, import_)\u001b[0m\n",
      "File \u001b[0;32m<frozen importlib._bootstrap>:992\u001b[0m, in \u001b[0;36m_find_and_load_unlocked\u001b[0;34m(name, import_)\u001b[0m\n",
      "File \u001b[0;32m<frozen importlib._bootstrap>:241\u001b[0m, in \u001b[0;36m_call_with_frames_removed\u001b[0;34m(f, *args, **kwds)\u001b[0m\n",
      "File \u001b[0;32m<frozen importlib._bootstrap>:1050\u001b[0m, in \u001b[0;36m_gcd_import\u001b[0;34m(name, package, level)\u001b[0m\n",
      "File \u001b[0;32m<frozen importlib._bootstrap>:1027\u001b[0m, in \u001b[0;36m_find_and_load\u001b[0;34m(name, import_)\u001b[0m\n",
      "File \u001b[0;32m<frozen importlib._bootstrap>:1004\u001b[0m, in \u001b[0;36m_find_and_load_unlocked\u001b[0;34m(name, import_)\u001b[0m\n",
      "\u001b[0;31mModuleNotFoundError\u001b[0m: No module named 'reward_systems'"
     ]
    }
   ],
   "source": [
    "import importlib\n",
    "mod = importlib.import_module(current_analysis[\"module\"])\n",
    "#[TO DO]change to markdown\n",
    "print(mod.header)\n",
    "print(mod.description)\n",
    "mod.printGraph(current_analysis[\"data\"])"
   ]
  },
  {
   "cell_type": "code",
   "execution_count": 6,
   "id": "0aa32f58",
   "metadata": {
    "execution": {
     "iopub.execute_input": "2022-07-05T07:31:47.430235Z",
     "iopub.status.busy": "2022-07-05T07:31:47.430015Z",
     "iopub.status.idle": "2022-07-05T07:31:47.432591Z",
     "shell.execute_reply": "2022-07-05T07:31:47.432196Z"
    },
    "papermill": {
     "duration": 0.051081,
     "end_time": "2022-07-05T07:31:47.433719",
     "exception": false,
     "start_time": "2022-07-05T07:31:47.382638",
     "status": "completed"
    },
    "tags": []
   },
   "outputs": [],
   "source": [
    "current_analysis = another_histogram\n",
    "#print(current_analysis)"
   ]
  },
  {
   "cell_type": "code",
   "execution_count": 7,
   "id": "4322929a",
   "metadata": {
    "execution": {
     "iopub.execute_input": "2022-07-05T07:31:47.531209Z",
     "iopub.status.busy": "2022-07-05T07:31:47.531069Z",
     "iopub.status.idle": "2022-07-05T07:31:47.566125Z",
     "shell.execute_reply": "2022-07-05T07:31:47.565769Z"
    },
    "papermill": {
     "duration": 0.084438,
     "end_time": "2022-07-05T07:31:47.567180",
     "exception": false,
     "start_time": "2022-07-05T07:31:47.482742",
     "status": "completed"
    },
    "tags": []
   },
   "outputs": [
    {
     "ename": "ModuleNotFoundError",
     "evalue": "No module named 'reward_systems'",
     "output_type": "error",
     "traceback": [
      "\u001b[0;31m---------------------------------------------------------------------------\u001b[0m",
      "\u001b[0;31mModuleNotFoundError\u001b[0m                       Traceback (most recent call last)",
      "Input \u001b[0;32mIn [7]\u001b[0m, in \u001b[0;36m<cell line: 2>\u001b[0;34m()\u001b[0m\n\u001b[1;32m      1\u001b[0m \u001b[38;5;28;01mimport\u001b[39;00m \u001b[38;5;21;01mimportlib\u001b[39;00m\n\u001b[0;32m----> 2\u001b[0m mod \u001b[38;5;241m=\u001b[39m \u001b[43mimportlib\u001b[49m\u001b[38;5;241;43m.\u001b[39;49m\u001b[43mimport_module\u001b[49m\u001b[43m(\u001b[49m\u001b[43mcurrent_analysis\u001b[49m\u001b[43m[\u001b[49m\u001b[38;5;124;43m\"\u001b[39;49m\u001b[38;5;124;43mmodule\u001b[39;49m\u001b[38;5;124;43m\"\u001b[39;49m\u001b[43m]\u001b[49m\u001b[43m)\u001b[49m\n\u001b[1;32m      3\u001b[0m \u001b[38;5;66;03m#[TO DO]change to markdown\u001b[39;00m\n\u001b[1;32m      4\u001b[0m \u001b[38;5;28mprint\u001b[39m(mod\u001b[38;5;241m.\u001b[39mheader)\n",
      "File \u001b[0;32m/usr/local/lib/python3.10/importlib/__init__.py:126\u001b[0m, in \u001b[0;36mimport_module\u001b[0;34m(name, package)\u001b[0m\n\u001b[1;32m    124\u001b[0m             \u001b[38;5;28;01mbreak\u001b[39;00m\n\u001b[1;32m    125\u001b[0m         level \u001b[38;5;241m+\u001b[39m\u001b[38;5;241m=\u001b[39m \u001b[38;5;241m1\u001b[39m\n\u001b[0;32m--> 126\u001b[0m \u001b[38;5;28;01mreturn\u001b[39;00m \u001b[43m_bootstrap\u001b[49m\u001b[38;5;241;43m.\u001b[39;49m\u001b[43m_gcd_import\u001b[49m\u001b[43m(\u001b[49m\u001b[43mname\u001b[49m\u001b[43m[\u001b[49m\u001b[43mlevel\u001b[49m\u001b[43m:\u001b[49m\u001b[43m]\u001b[49m\u001b[43m,\u001b[49m\u001b[43m \u001b[49m\u001b[43mpackage\u001b[49m\u001b[43m,\u001b[49m\u001b[43m \u001b[49m\u001b[43mlevel\u001b[49m\u001b[43m)\u001b[49m\n",
      "File \u001b[0;32m<frozen importlib._bootstrap>:1050\u001b[0m, in \u001b[0;36m_gcd_import\u001b[0;34m(name, package, level)\u001b[0m\n",
      "File \u001b[0;32m<frozen importlib._bootstrap>:1027\u001b[0m, in \u001b[0;36m_find_and_load\u001b[0;34m(name, import_)\u001b[0m\n",
      "File \u001b[0;32m<frozen importlib._bootstrap>:992\u001b[0m, in \u001b[0;36m_find_and_load_unlocked\u001b[0;34m(name, import_)\u001b[0m\n",
      "File \u001b[0;32m<frozen importlib._bootstrap>:241\u001b[0m, in \u001b[0;36m_call_with_frames_removed\u001b[0;34m(f, *args, **kwds)\u001b[0m\n",
      "File \u001b[0;32m<frozen importlib._bootstrap>:1050\u001b[0m, in \u001b[0;36m_gcd_import\u001b[0;34m(name, package, level)\u001b[0m\n",
      "File \u001b[0;32m<frozen importlib._bootstrap>:1027\u001b[0m, in \u001b[0;36m_find_and_load\u001b[0;34m(name, import_)\u001b[0m\n",
      "File \u001b[0;32m<frozen importlib._bootstrap>:992\u001b[0m, in \u001b[0;36m_find_and_load_unlocked\u001b[0;34m(name, import_)\u001b[0m\n",
      "File \u001b[0;32m<frozen importlib._bootstrap>:241\u001b[0m, in \u001b[0;36m_call_with_frames_removed\u001b[0;34m(f, *args, **kwds)\u001b[0m\n",
      "File \u001b[0;32m<frozen importlib._bootstrap>:1050\u001b[0m, in \u001b[0;36m_gcd_import\u001b[0;34m(name, package, level)\u001b[0m\n",
      "File \u001b[0;32m<frozen importlib._bootstrap>:1027\u001b[0m, in \u001b[0;36m_find_and_load\u001b[0;34m(name, import_)\u001b[0m\n",
      "File \u001b[0;32m<frozen importlib._bootstrap>:992\u001b[0m, in \u001b[0;36m_find_and_load_unlocked\u001b[0;34m(name, import_)\u001b[0m\n",
      "File \u001b[0;32m<frozen importlib._bootstrap>:241\u001b[0m, in \u001b[0;36m_call_with_frames_removed\u001b[0;34m(f, *args, **kwds)\u001b[0m\n",
      "File \u001b[0;32m<frozen importlib._bootstrap>:1050\u001b[0m, in \u001b[0;36m_gcd_import\u001b[0;34m(name, package, level)\u001b[0m\n",
      "File \u001b[0;32m<frozen importlib._bootstrap>:1027\u001b[0m, in \u001b[0;36m_find_and_load\u001b[0;34m(name, import_)\u001b[0m\n",
      "File \u001b[0;32m<frozen importlib._bootstrap>:1004\u001b[0m, in \u001b[0;36m_find_and_load_unlocked\u001b[0;34m(name, import_)\u001b[0m\n",
      "\u001b[0;31mModuleNotFoundError\u001b[0m: No module named 'reward_systems'"
     ]
    }
   ],
   "source": [
    "import importlib\n",
    "mod = importlib.import_module(current_analysis[\"module\"])\n",
    "#[TO DO]change to markdown\n",
    "print(mod.header)\n",
    "print(mod.description)\n",
    "mod.printGraph(current_analysis[\"data\"])"
   ]
  },
  {
   "cell_type": "markdown",
   "id": "023b069d",
   "metadata": {
    "papermill": {
     "duration": 0.050058,
     "end_time": "2022-07-05T07:31:47.670175",
     "exception": false,
     "start_time": "2022-07-05T07:31:47.620117",
     "status": "completed"
    },
    "tags": []
   },
   "source": [
    "# END OF NOTEBOOK SUMMARY\n",
    "This is a FOOTER template. It is saved in the /reports folder and is a regular notebook which can be adapted.\n"
   ]
  }
 ],
 "metadata": {
  "kernelspec": {
   "display_name": "Python 3 (ipykernel)",
   "language": "python",
   "name": "python3"
  },
  "language_info": {
   "codemirror_mode": {
    "name": "ipython",
    "version": 3
   },
   "file_extension": ".py",
   "mimetype": "text/x-python",
   "name": "python",
   "nbconvert_exporter": "python",
   "pygments_lexer": "ipython3",
   "version": "3.10.5"
  },
  "papermill": {
   "default_parameters": {},
   "duration": 2.536308,
   "end_time": "2022-07-05T07:31:48.038441",
   "environment_variables": {},
   "exception": null,
   "input_path": "./test_output.ipynb",
   "output_path": "./output_test_output.ipynb",
   "parameters": {
    "another_histogram": {
     "data": {
      "beneficiaries": {
       "ID": {
        "0": "Eddie",
        "1": "Lizzie",
        "2": "Chris",
        "3": "Robin",
        "4": "Peter",
        "5": "Frank"
       }
      },
      "distributionResults": {},
      "distribution_results": {
       "AMOUNT TO RECEIVE": {
        "0": 83.33333333333333,
        "1": 83.33333333333333,
        "2": 83.33333333333333,
        "3": 83.33333333333333,
        "4": 83.33333333333333,
        "5": 83.33333333333333
       },
       "ID": {
        "0": "Eddie",
        "1": "Lizzie",
        "2": "Chris",
        "3": "Robin",
        "4": "Peter",
        "5": "Frank"
       }
      },
      "name": "straight_distribution",
      "tokenAddress": "0x5dF8339c5E282ee48c0c7cE8A7d01a73D38B3B27",
      "tokenName": "TEC",
      "totalDistAmount": 500
     },
     "module": "reward_systems.straight_distribution.analysis_tools.histogram"
    },
    "rewardboard_overview": {
     "data": {
      "beneficiaries": {
       "ID": {
        "0": "0x826976d7c600d45fb8287ca1d7c76fc8eb732030",
        "1": "0xf9c171fb0480fac34289cc5791519fec1d7978c3",
        "2": "0xa32aecda752cf4ef89956e83d60c04835d4fa867",
        "3": "0xb22981ba3fe1de2325935c91a3b717168fb86714",
        "4": "0x0bf920dfe6d36829ab5b0e153857d4ca689e46fb",
        "5": "0x00d18ca9782be1caef611017c2fbc1a39779a57c",
        "6": "0xaa79b87dc8b046a5e4f7d03f1562d7fe5bf98737",
        "7": "0xdd505da2e2a8017f38a715948c6b6a2922ba27f0"
       }
      },
      "distributionResults": {},
      "distribution_results": {
       "AMOUNT TO RECEIVE": {
        "0": 125,
        "1": 125,
        "2": 125,
        "3": 125,
        "4": 125,
        "5": 125,
        "6": 125,
        "7": 125
       },
       "ID": {
        "0": "0x826976d7c600d45fb8287ca1d7c76fc8eb732030",
        "1": "0xf9c171fb0480fac34289cc5791519fec1d7978c3",
        "2": "0xa32aecda752cf4ef89956e83d60c04835d4fa867",
        "3": "0xb22981ba3fe1de2325935c91a3b717168fb86714",
        "4": "0x0bf920dfe6d36829ab5b0e153857d4ca689e46fb",
        "5": "0x00d18ca9782be1caef611017c2fbc1a39779a57c",
        "6": "0xaa79b87dc8b046a5e4f7d03f1562d7fe5bf98737",
        "7": "0xdd505da2e2a8017f38a715948c6b6a2922ba27f0"
       }
      },
      "name": "straight_distribution",
      "tokenAddress": "0x5dF8339c5E282ee48c0c7cE8A7d01a73D38B3B27",
      "tokenName": "TEC",
      "totalDistAmount": 1000
     },
     "module": "reward_systems.straight_distribution.analysis_tools.histogram"
    }
   },
   "start_time": "2022-07-05T07:31:45.502133",
   "version": "2.3.4"
  }
 },
 "nbformat": 4,
 "nbformat_minor": 5
}
