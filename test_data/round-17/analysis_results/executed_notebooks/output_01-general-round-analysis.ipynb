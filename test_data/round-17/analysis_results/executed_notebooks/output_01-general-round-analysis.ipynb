{
 "cells": [
  {
   "cell_type": "markdown",
   "id": "e9532b7f",
   "metadata": {
    "tags": [
     "papermill-error-cell-tag"
    ]
   },
   "source": [
    "<span style=\"color:red; font-family:Helvetica Neue, Helvetica, Arial, sans-serif; font-size:2em;\">An Exception was encountered at '<a href=\"#papermill-error-cell\">In [3]</a>'.</span>"
   ]
  },
  {
   "cell_type": "code",
   "execution_count": 1,
   "id": "2c1f4ceb",
   "metadata": {
    "execution": {
     "iopub.execute_input": "2022-11-30T06:26:41.532928Z",
     "iopub.status.busy": "2022-11-30T06:26:41.532685Z",
     "iopub.status.idle": "2022-11-30T06:26:41.538092Z",
     "shell.execute_reply": "2022-11-30T06:26:41.537749Z"
    },
    "papermill": {
     "duration": 0.022445,
     "end_time": "2022-11-30T06:26:41.539106",
     "exception": false,
     "start_time": "2022-11-30T06:26:41.516661",
     "status": "completed"
    },
    "tags": [
     "parameters"
    ]
   },
   "outputs": [],
   "source": [
    "parameters_path = \"\"\n"
   ]
  },
  {
   "cell_type": "code",
   "execution_count": 2,
   "id": "7ed91362",
   "metadata": {
    "execution": {
     "iopub.execute_input": "2022-11-30T06:26:41.569746Z",
     "iopub.status.busy": "2022-11-30T06:26:41.569613Z",
     "iopub.status.idle": "2022-11-30T06:26:41.571587Z",
     "shell.execute_reply": "2022-11-30T06:26:41.571272Z"
    },
    "papermill": {
     "duration": 0.018602,
     "end_time": "2022-11-30T06:26:41.573078",
     "exception": false,
     "start_time": "2022-11-30T06:26:41.554476",
     "status": "completed"
    },
    "tags": [
     "injected-parameters"
    ]
   },
   "outputs": [],
   "source": [
    "# Parameters\n",
    "parameters_path = \"test_data/round-17/parameters.json\"\n"
   ]
  },
  {
   "cell_type": "markdown",
   "id": "56820684",
   "metadata": {
    "tags": [
     "papermill-error-cell-tag"
    ]
   },
   "source": [
    "<span id=\"papermill-error-cell\" style=\"color:red; font-family:Helvetica Neue, Helvetica, Arial, sans-serif; font-size:2em;\">Execution using papermill encountered an exception here and stopped:</span>"
   ]
  },
  {
   "cell_type": "code",
   "execution_count": 3,
   "id": "careful-unemployment",
   "metadata": {
    "execution": {
     "iopub.execute_input": "2022-11-30T06:26:41.604757Z",
     "iopub.status.busy": "2022-11-30T06:26:41.604555Z",
     "iopub.status.idle": "2022-11-30T06:26:43.270094Z",
     "shell.execute_reply": "2022-11-30T06:26:43.269656Z"
    },
    "papermill": {
     "duration": 1.682742,
     "end_time": "2022-11-30T06:26:43.271018",
     "exception": true,
     "start_time": "2022-11-30T06:26:41.588276",
     "status": "failed"
    },
    "scrolled": true,
    "tags": [
     "hide_input"
    ]
   },
   "outputs": [
    {
     "name": "stderr",
     "output_type": "stream",
     "text": [
      "[nltk_data] Downloading package stopwords to /home/dev/nltk_data...\n",
      "[nltk_data]   Package stopwords is already up-to-date!\n"
     ]
    },
    {
     "ename": "KeyError",
     "evalue": "'sources'",
     "output_type": "error",
     "traceback": [
      "\u001b[0;31m---------------------------------------------------------------------------\u001b[0m",
      "\u001b[0;31mKeyError\u001b[0m                                  Traceback (most recent call last)",
      "Input \u001b[0;32mIn [3]\u001b[0m, in \u001b[0;36m<cell line: 9>\u001b[0;34m()\u001b[0m\n\u001b[1;32m      4\u001b[0m \u001b[38;5;28;01mimport\u001b[39;00m \u001b[38;5;21;01mrad\u001b[39;00m\u001b[38;5;21;01m.\u001b[39;00m\u001b[38;5;21;01mpraise\u001b[39;00m\u001b[38;5;21;01m.\u001b[39;00m\u001b[38;5;21;01mexport\u001b[39;00m \u001b[38;5;28;01mas\u001b[39;00m \u001b[38;5;21;01mpr_export\u001b[39;00m\n\u001b[1;32m      8\u001b[0m \u001b[38;5;66;03m#load the praise objects\u001b[39;00m\n\u001b[0;32m----> 9\u001b[0m (reward_system_objects, distribution_objects) \u001b[38;5;241m=\u001b[39m \u001b[43mimporter\u001b[49m\u001b[38;5;241;43m.\u001b[39;49m\u001b[43mload_sources_from_json\u001b[49m\u001b[43m(\u001b[49m\u001b[43mparameters_path\u001b[49m\u001b[43m)\u001b[49m\n",
      "File \u001b[0;32m~/Documents/GitHub/rad/sources/rad/importer.py:32\u001b[0m, in \u001b[0;36mload_sources_from_json\u001b[0;34m(_fullPath)\u001b[0m\n\u001b[1;32m     29\u001b[0m     params \u001b[38;5;241m=\u001b[39m json\u001b[38;5;241m.\u001b[39mload(read_file)\n\u001b[1;32m     31\u001b[0m rewardsystem_objects \u001b[38;5;241m=\u001b[39m {}\n\u001b[0;32m---> 32\u001b[0m \u001b[38;5;28;01mfor\u001b[39;00m reward_system \u001b[38;5;129;01min\u001b[39;00m \u001b[43mparams\u001b[49m\u001b[43m[\u001b[49m\u001b[38;5;124;43m\"\u001b[39;49m\u001b[38;5;124;43msources\u001b[39;49m\u001b[38;5;124;43m\"\u001b[39;49m\u001b[43m]\u001b[49m:\n\u001b[1;32m     33\u001b[0m     \u001b[38;5;66;03m# make sure the notebook finds the path to the files\u001b[39;00m\n\u001b[1;32m     34\u001b[0m     \u001b[38;5;28;01mfor\u001b[39;00m file \u001b[38;5;129;01min\u001b[39;00m params[\u001b[38;5;124m\"\u001b[39m\u001b[38;5;124msources\u001b[39m\u001b[38;5;124m\"\u001b[39m][reward_system][\u001b[38;5;124m\"\u001b[39m\u001b[38;5;124minput_files\u001b[39m\u001b[38;5;124m\"\u001b[39m]:\n\u001b[1;32m     35\u001b[0m         params[\u001b[38;5;124m\"\u001b[39m\u001b[38;5;124msources\u001b[39m\u001b[38;5;124m\"\u001b[39m][reward_system][\u001b[38;5;124m\"\u001b[39m\u001b[38;5;124minput_files\u001b[39m\u001b[38;5;124m\"\u001b[39m][file] \u001b[38;5;241m=\u001b[39m os\u001b[38;5;241m.\u001b[39mpath\u001b[38;5;241m.\u001b[39mabspath(\n\u001b[1;32m     36\u001b[0m             os\u001b[38;5;241m.\u001b[39mpath\u001b[38;5;241m.\u001b[39mjoin(\n\u001b[1;32m     37\u001b[0m                 input_path, params[\u001b[38;5;124m\"\u001b[39m\u001b[38;5;124msources\u001b[39m\u001b[38;5;124m\"\u001b[39m][reward_system][\u001b[38;5;124m\"\u001b[39m\u001b[38;5;124minput_files\u001b[39m\u001b[38;5;124m\"\u001b[39m][file]\n\u001b[1;32m     38\u001b[0m             )\n\u001b[1;32m     39\u001b[0m         )\n",
      "\u001b[0;31mKeyError\u001b[0m: 'sources'"
     ]
    }
   ],
   "source": [
    "from rad import importer\n",
    "\n",
    "import rad.praise.analysis as pr_analysis\n",
    "import rad.praise.export as pr_export\n",
    "\n",
    "\n",
    "\n",
    "#load the praise objects\n",
    "(reward_system_objects, distribution_objects) = importer.load_sources_from_json(parameters_path)\n"
   ]
  },
  {
   "cell_type": "markdown",
   "id": "indonesian-image",
   "metadata": {
    "papermill": {
     "duration": null,
     "end_time": null,
     "exception": null,
     "start_time": null,
     "status": "pending"
    },
    "tags": []
   },
   "source": [
    "# Rewards Analytics and Distribution Dashboard for Quantification Review\n",
    "This document processes the outputs of the praise reward system and performs an analysis of the resulting token reward distribution. "
   ]
  },
  {
   "cell_type": "markdown",
   "id": "532eeef9",
   "metadata": {
    "papermill": {
     "duration": null,
     "end_time": null,
     "exception": null,
     "start_time": null,
     "status": "pending"
    },
    "tags": []
   },
   "source": [
    "## General round summary"
   ]
  },
  {
   "cell_type": "code",
   "execution_count": null,
   "id": "0b29daa7",
   "metadata": {
    "papermill": {
     "duration": null,
     "end_time": null,
     "exception": null,
     "start_time": null,
     "status": "pending"
    },
    "tags": []
   },
   "outputs": [],
   "source": [
    "pr_analysis.report_summary.printDescription(distribution_objects['tec_praise_dist'], {})\n",
    "pr_analysis.report_summary.printGraph(distribution_objects['tec_praise_dist'], {})"
   ]
  },
  {
   "cell_type": "markdown",
   "id": "spoken-provider",
   "metadata": {
    "papermill": {
     "duration": null,
     "end_time": null,
     "exception": null,
     "start_time": null,
     "status": "pending"
    },
    "tags": []
   },
   "source": [
    "# Praise Data Visualization\n",
    "\n"
   ]
  },
  {
   "cell_type": "code",
   "execution_count": null,
   "id": "595d0243",
   "metadata": {
    "papermill": {
     "duration": null,
     "end_time": null,
     "exception": null,
     "start_time": null,
     "status": "pending"
    },
    "tags": []
   },
   "outputs": [],
   "source": [
    "pr_analysis.rating_distribution.printDescription(distribution_objects['tec_praise_dist'], {})\n",
    "pr_analysis.rating_distribution.printGraph(distribution_objects['tec_praise_dist'], {})"
   ]
  },
  {
   "cell_type": "code",
   "execution_count": null,
   "id": "fantastic-services",
   "metadata": {
    "jupyter": {
     "source_hidden": true
    },
    "papermill": {
     "duration": null,
     "end_time": null,
     "exception": null,
     "start_time": null,
     "status": "pending"
    },
    "scrolled": true,
    "tags": []
   },
   "outputs": [],
   "source": []
  },
  {
   "cell_type": "markdown",
   "id": "f45d9e4c",
   "metadata": {
    "papermill": {
     "duration": null,
     "end_time": null,
     "exception": null,
     "start_time": null,
     "status": "pending"
    },
    "tags": []
   },
   "source": [
    "### Top 10 highest rated contributions\n"
   ]
  },
  {
   "cell_type": "code",
   "execution_count": null,
   "id": "7e26acd2",
   "metadata": {
    "papermill": {
     "duration": null,
     "end_time": null,
     "exception": null,
     "start_time": null,
     "status": "pending"
    },
    "tags": []
   },
   "outputs": [],
   "source": [
    "#from rad_module.praise.analysis import highest_rated_contributions\n",
    "#display(Markdown(mod.header))\n",
    "#display(Markdown(mod.description))\n",
    "pr_analysis.highest_rated_contributions.printDescription(distribution_objects['tec_praise_dist'], {})\n",
    "pr_analysis.highest_rated_contributions.printGraph(distribution_objects['tec_praise_dist'], {})"
   ]
  },
  {
   "cell_type": "markdown",
   "id": "12f4e252",
   "metadata": {
    "papermill": {
     "duration": null,
     "end_time": null,
     "exception": null,
     "start_time": null,
     "status": "pending"
    },
    "tags": []
   },
   "source": [
    "### Praise Reward Distribution\n",
    "\n",
    "We can now take a look at the distribution of the received praise rewards. You can toggle the inclusion of the different sources by clicking on the legend. "
   ]
  },
  {
   "cell_type": "code",
   "execution_count": null,
   "id": "a3f4e76c",
   "metadata": {
    "papermill": {
     "duration": null,
     "end_time": null,
     "exception": null,
     "start_time": null,
     "status": "pending"
    },
    "tags": []
   },
   "outputs": [],
   "source": [
    "\n",
    "pr_analysis.distribution_histogram.printDescription(distribution_objects['tec_praise_dist'], {})\n",
    "pr_analysis.distribution_histogram.printGraph(distribution_objects['tec_praise_dist'], {\"x\":\"USER IDENTITY\", \"y\":[\"QUANT_REWARD\", \"PRAISE_REWARD\"]})\n"
   ]
  },
  {
   "cell_type": "markdown",
   "id": "7c852260",
   "metadata": {
    "papermill": {
     "duration": null,
     "end_time": null,
     "exception": null,
     "start_time": null,
     "status": "pending"
    },
    "tags": []
   },
   "source": [
    "### Praise Giving Distribution\n",
    "We can also take a look at the amount of praise different users gave. \n"
   ]
  },
  {
   "cell_type": "code",
   "execution_count": null,
   "id": "dd56c0c1",
   "metadata": {
    "papermill": {
     "duration": null,
     "end_time": null,
     "exception": null,
     "start_time": null,
     "status": "pending"
    },
    "scrolled": true,
    "tags": []
   },
   "outputs": [],
   "source": [
    "\n",
    "pr_analysis.praise_giver_histogram.printDescription(distribution_objects['tec_praise_dist'], {})\n",
    "pr_analysis.praise_giver_histogram.printGraph(distribution_objects['tec_praise_dist'], {})\n",
    "\n",
    "\n",
    "\n"
   ]
  },
  {
   "cell_type": "markdown",
   "id": "sufficient-drain",
   "metadata": {
    "papermill": {
     "duration": null,
     "end_time": null,
     "exception": null,
     "start_time": null,
     "status": "pending"
    },
    "tags": []
   },
   "source": [
    "### Praise Flows\n",
    "\n",
    "Now for something more fun: let's surface the top \"praise flows\" from the data. Thanks to @inventandchill for this awesome visualization! \n",
    "On one side we have the top 15 praise givers separately, on the other the top 25 receivers. The people outside the selection get aggregated into the \"REST FROM\" and \"REST TO\" categories."
   ]
  },
  {
   "cell_type": "code",
   "execution_count": null,
   "id": "competent-cleveland",
   "metadata": {
    "jupyter": {
     "source_hidden": true
    },
    "papermill": {
     "duration": null,
     "end_time": null,
     "exception": null,
     "start_time": null,
     "status": "pending"
    },
    "tags": []
   },
   "outputs": [],
   "source": [
    "# Config specifying how many of the top users to show\n",
    "#NUMBER_OF_SENDERS: The left side. X largest ones + one bucket for the rest\n",
    "#NUMBER_OF_RECEIVERS: The right side. Y largest ones + one bucket for the rest \n",
    "\n",
    "config = {\n",
    "    \"NUMBER_OF_SENDERS\" : 15, \n",
    "    \"NUMBER_OF_RECEIVERS\" : 25 \n",
    "}\n",
    "\n",
    "pr_analysis.praise_flow.printDescription(distribution_objects['tec_praise_dist'], config)\n",
    "pr_analysis.praise_flow.printGraph(distribution_objects['tec_praise_dist'], config)\n"
   ]
  },
  {
   "cell_type": "markdown",
   "id": "f7017899",
   "metadata": {
    "papermill": {
     "duration": null,
     "end_time": null,
     "exception": null,
     "start_time": null,
     "status": "pending"
    },
    "tags": []
   },
   "source": [
    "# Quantifier Data\n",
    "Now let's take a closer look at the quantification process and the quantifiers:\n"
   ]
  },
  {
   "cell_type": "markdown",
   "id": "f60f5f42",
   "metadata": {
    "papermill": {
     "duration": null,
     "end_time": null,
     "exception": null,
     "start_time": null,
     "status": "pending"
    },
    "tags": []
   },
   "source": [
    "## Praise Outliers\n",
    "To aid the revision process, we highlight disagreements between quantifiers."
   ]
  },
  {
   "cell_type": "markdown",
   "id": "2dc1ab13",
   "metadata": {
    "papermill": {
     "duration": null,
     "end_time": null,
     "exception": null,
     "start_time": null,
     "status": "pending"
    },
    "tags": []
   },
   "source": [
    "### Outliers sort by spreads\n",
    "\n",
    "This graphic visualizes controversial praise ratings by sorting them by the \"spread\" between the highest and lowest received score. <br>\n",
    "\n",
    "Please keep in mind that this is a visual aid. If there are several praise instances with similar spread and quant score, all but one end up \"hidden\" on the chart. For an exhaustive list, take a look at the exported file \"praise_outliers.csv\" ."
   ]
  },
  {
   "cell_type": "code",
   "execution_count": null,
   "id": "5433be7c",
   "metadata": {
    "papermill": {
     "duration": null,
     "end_time": null,
     "exception": null,
     "start_time": null,
     "status": "pending"
    },
    "tags": []
   },
   "outputs": [],
   "source": [
    "pr_analysis.sort_by_controversial.printDescription(distribution_objects['tec_praise_dist'], {})\n",
    "pr_analysis.sort_by_controversial.printGraph(distribution_objects['tec_praise_dist'], {})\n"
   ]
  },
  {
   "cell_type": "markdown",
   "id": "2d9cadd1",
   "metadata": {
    "papermill": {
     "duration": null,
     "end_time": null,
     "exception": null,
     "start_time": null,
     "status": "pending"
    },
    "tags": []
   },
   "source": [
    "## Praise score by quantifier -- outliers among the quantifiers?\n",
    "\n",
    "Let's see how different quantifiers behaved by showing the range of praise scores they gave.\n",
    "\n",
    "To interpret the box plot:\n",
    "\n",
    "- Bottom horizontal line of box plot is minimum value\n",
    "\n",
    "- First horizontal line of rectangle shape of box plot is First quartile or 25%\n",
    "\n",
    "- Second horizontal line of rectangle shape of box plot is Second quartile or 50% or median.\n",
    "\n",
    "- Third horizontal line of rectangle shape of box plot is third quartile or 75%\n",
    "\n",
    "- Top horizontal line of rectangle shape of box plot is maximum value.\n",
    "\n",
    "\n"
   ]
  },
  {
   "cell_type": "code",
   "execution_count": null,
   "id": "17817789",
   "metadata": {
    "execution": {
     "iopub.execute_input": "2022-04-13T21:20:16.205233Z",
     "iopub.status.busy": "2022-04-13T21:20:16.205027Z",
     "iopub.status.idle": "2022-04-13T21:20:16.263571Z",
     "shell.execute_reply": "2022-04-13T21:20:16.263168Z"
    },
    "papermill": {
     "duration": null,
     "end_time": null,
     "exception": null,
     "start_time": null,
     "status": "pending"
    },
    "tags": []
   },
   "outputs": [],
   "source": [
    "'''quant_boxplot = quantifier_rating_table[['QUANT_ID', 'QUANT_VALUE']].copy()\n",
    "fig_box = px.box(quant_boxplot, x=\"QUANT_ID\", y=\"QUANT_VALUE\", points=False)\n",
    "fig_box'''\n",
    "pr_analysis.quantifier_boxplot.printDescription(distribution_objects['tec_praise_dist'], {})\n",
    "pr_analysis.quantifier_boxplot.printGraph(distribution_objects['tec_praise_dist'], {})"
   ]
  },
  {
   "cell_type": "code",
   "execution_count": null,
   "id": "8f351c9a",
   "metadata": {
    "papermill": {
     "duration": null,
     "end_time": null,
     "exception": null,
     "start_time": null,
     "status": "pending"
    },
    "tags": []
   },
   "outputs": [],
   "source": [
    "'''\n",
    "pr = praise_tools.praise_quantifier(praisedata=praise_distribution,quantifiertable=quantifier_rating_table)\n",
    "'''"
   ]
  },
  {
   "cell_type": "markdown",
   "id": "4f95f65a",
   "metadata": {
    "papermill": {
     "duration": null,
     "end_time": null,
     "exception": null,
     "start_time": null,
     "status": "pending"
    },
    "tags": []
   },
   "source": [
    "### Score displacement: tendency to under/over-scoring?"
   ]
  },
  {
   "cell_type": "code",
   "execution_count": null,
   "id": "c9111c27",
   "metadata": {
    "papermill": {
     "duration": null,
     "end_time": null,
     "exception": null,
     "start_time": null,
     "status": "pending"
    },
    "tags": []
   },
   "outputs": [],
   "source": [
    "'''fig=pr.plot_mean_displacement()\n",
    "fig.show()'''\n",
    "pr_analysis.quantifier_scoring_analysis.printGraph(distribution_objects['tec_praise_dist'], {\"mode\":\"displacement\"})"
   ]
  },
  {
   "cell_type": "markdown",
   "id": "ba23d675",
   "metadata": {
    "papermill": {
     "duration": null,
     "end_time": null,
     "exception": null,
     "start_time": null,
     "status": "pending"
    },
    "tags": []
   },
   "source": [
    "### Scoring correlation: how similiar am I scoring with others?"
   ]
  },
  {
   "cell_type": "code",
   "execution_count": null,
   "id": "e2da4d3d",
   "metadata": {
    "papermill": {
     "duration": null,
     "end_time": null,
     "exception": null,
     "start_time": null,
     "status": "pending"
    },
    "tags": []
   },
   "outputs": [],
   "source": [
    "'''fig=pr.plot_coefficient()\n",
    "fig.show()'''\n",
    "pr_analysis.quantifier_scoring_analysis.printGraph(distribution_objects['tec_praise_dist'], {\"mode\":\"correlation\"})"
   ]
  },
  {
   "cell_type": "markdown",
   "id": "1bbc7886",
   "metadata": {
    "papermill": {
     "duration": null,
     "end_time": null,
     "exception": null,
     "start_time": null,
     "status": "pending"
    },
    "tags": []
   },
   "source": [
    "## Agreement on duplication"
   ]
  },
  {
   "cell_type": "code",
   "execution_count": null,
   "id": "44be292b",
   "metadata": {
    "papermill": {
     "duration": null,
     "end_time": null,
     "exception": null,
     "start_time": null,
     "status": "pending"
    },
    "tags": []
   },
   "outputs": [],
   "source": [
    "pr_analysis.quantifier_scoring_analysis.printGraph(distribution_objects['tec_praise_dist'], {\"mode\":\"displacement\"})"
   ]
  },
  {
   "cell_type": "code",
   "execution_count": null,
   "id": "3faf4023",
   "metadata": {
    "papermill": {
     "duration": null,
     "end_time": null,
     "exception": null,
     "start_time": null,
     "status": "pending"
    },
    "tags": []
   },
   "outputs": [],
   "source": [
    "pr_analysis.agreement_check.printDescription(distribution_objects['tec_praise_dist'], {})\n",
    "pr_analysis.agreement_check.printGraph(distribution_objects['tec_praise_dist'], {\"value\": \"duplication\"})"
   ]
  },
  {
   "cell_type": "markdown",
   "id": "e60212a2",
   "metadata": {
    "papermill": {
     "duration": null,
     "end_time": null,
     "exception": null,
     "start_time": null,
     "status": "pending"
    },
    "tags": []
   },
   "source": [
    "Praise instances with disagreements in duplication are collected in 'results/duplication_examination.csv'. To compare, look at the last 4 columns: 'DUPLICATE MSG 1/2/3' and 'ORIGINAL MSG'."
   ]
  },
  {
   "cell_type": "code",
   "execution_count": null,
   "id": "0dcaeb92",
   "metadata": {
    "papermill": {
     "duration": null,
     "end_time": null,
     "exception": null,
     "start_time": null,
     "status": "pending"
    },
    "tags": []
   },
   "outputs": [],
   "source": [
    "'''duplication_disagreement['ORIGINAL MSG']=duplication_disagreement['REASON'] # replicate this column just after the other messages for easy comparison\n",
    "\n",
    "duplication_disagreement.to_csv('duplication_examination.csv')'''"
   ]
  },
  {
   "cell_type": "markdown",
   "id": "23ac3793",
   "metadata": {
    "papermill": {
     "duration": null,
     "end_time": null,
     "exception": null,
     "start_time": null,
     "status": "pending"
    },
    "tags": []
   },
   "source": [
    "## Agreement on dismissal"
   ]
  },
  {
   "cell_type": "code",
   "execution_count": null,
   "id": "201537d9",
   "metadata": {
    "papermill": {
     "duration": null,
     "end_time": null,
     "exception": null,
     "start_time": null,
     "status": "pending"
    },
    "tags": []
   },
   "outputs": [],
   "source": []
  },
  {
   "cell_type": "code",
   "execution_count": null,
   "id": "8ec07ef5",
   "metadata": {
    "papermill": {
     "duration": null,
     "end_time": null,
     "exception": null,
     "start_time": null,
     "status": "pending"
    },
    "tags": []
   },
   "outputs": [],
   "source": [
    "\n",
    "\n",
    "pr_analysis.agreement_check.printDescription(distribution_objects['tec_praise_dist'], {})\n",
    "pr_analysis.agreement_check.printGraph(distribution_objects['tec_praise_dist'], {\"value\": \"dismissal\"})\n"
   ]
  },
  {
   "cell_type": "markdown",
   "id": "74295e31",
   "metadata": {
    "papermill": {
     "duration": null,
     "end_time": null,
     "exception": null,
     "start_time": null,
     "status": "pending"
    },
    "tags": []
   },
   "source": [
    "Praise instances with disagreements in dismissal are collected in'results/dismissal_disaggreed.csv'. You can further look into who dismissed and who did not. \n",
    "\n"
   ]
  },
  {
   "cell_type": "markdown",
   "id": "995db465",
   "metadata": {
    "papermill": {
     "duration": null,
     "end_time": null,
     "exception": null,
     "start_time": null,
     "status": "pending"
    },
    "tags": []
   },
   "source": [
    "## Save the distribution files"
   ]
  },
  {
   "cell_type": "code",
   "execution_count": null,
   "id": "07d915fa",
   "metadata": {
    "papermill": {
     "duration": null,
     "end_time": null,
     "exception": null,
     "start_time": null,
     "status": "pending"
    },
    "tags": []
   },
   "outputs": [],
   "source": [
    "#pr_export.basic_distribution_results.save_export(\"final_token_allocation\", distribution_objects['tec_praise_dist']) \n"
   ]
  },
  {
   "cell_type": "code",
   "execution_count": null,
   "id": "6fbf2d6c",
   "metadata": {
    "papermill": {
     "duration": null,
     "end_time": null,
     "exception": null,
     "start_time": null,
     "status": "pending"
    },
    "tags": []
   },
   "outputs": [],
   "source": [
    "#create \"transactions\" dist\n",
    "#pr_export.aragon_distribution.save_export(\"praise_aragon_distribution\", distribution_objects['tec_praise_dist'])\n"
   ]
  },
  {
   "cell_type": "code",
   "execution_count": null,
   "id": "0b808580",
   "metadata": {
    "papermill": {
     "duration": null,
     "end_time": null,
     "exception": null,
     "start_time": null,
     "status": "pending"
    },
    "tags": []
   },
   "outputs": [],
   "source": [
    "#praise_reward_export = distribution_objects['tec_praise_dist'].#distributionResults.to_csv(index=False)\n",
    "#with open('extended_praise_data.csv', 'w') as f:\n",
    "#    f.write(praise_reward_export)"
   ]
  }
 ],
 "metadata": {
  "celltoolbar": "Tags",
  "hide_input": false,
  "kernelspec": {
   "display_name": "Python 3.10.5 64-bit",
   "language": "python",
   "name": "python3"
  },
  "language_info": {
   "codemirror_mode": {
    "name": "ipython",
    "version": 3
   },
   "file_extension": ".py",
   "mimetype": "text/x-python",
   "name": "python",
   "nbconvert_exporter": "python",
   "pygments_lexer": "ipython3",
   "version": "3.10.5"
  },
  "papermill": {
   "default_parameters": {},
   "duration": 2.939461,
   "end_time": "2022-11-30T06:26:43.700695",
   "environment_variables": {},
   "exception": true,
   "input_path": "./my_reports/01-general-round-analysis.ipynb",
   "output_path": "test_data/round-17/analysis_results/executed_notebooks/output_01-general-round-analysis.ipynb",
   "parameters": {
    "parameters_path": "test_data/round-17/parameters.json"
   },
   "start_time": "2022-11-30T06:26:40.761234",
   "version": "2.3.4"
  },
  "toc": {
   "base_numbering": 1,
   "nav_menu": {},
   "number_sections": true,
   "sideBar": true,
   "skip_h1_title": false,
   "title_cell": "Table of Contents",
   "title_sidebar": "Contents",
   "toc_cell": false,
   "toc_position": {
    "height": "calc(100% - 180px)",
    "left": "10px",
    "top": "150px",
    "width": "303.188px"
   },
   "toc_section_display": true,
   "toc_window_display": true
  },
  "vscode": {
   "interpreter": {
    "hash": "aee8b7b246df8f9039afb4144a1f6fd8d2ca17a180786b69acc140d282b71a49"
   }
  }
 },
 "nbformat": 4,
 "nbformat_minor": 5
}