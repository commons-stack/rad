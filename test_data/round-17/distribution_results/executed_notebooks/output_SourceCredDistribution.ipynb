{
 "cells": [
  {
   "cell_type": "markdown",
   "id": "94f1cf78",
   "metadata": {
    "tags": [
     "papermill-error-cell-tag"
    ]
   },
   "source": [
    "<span style=\"color:red; font-family:Helvetica Neue, Helvetica, Arial, sans-serif; font-size:2em;\">An Exception was encountered at '<a href=\"#papermill-error-cell\">In [4]</a>'.</span>"
   ]
  },
  {
   "cell_type": "code",
   "execution_count": 1,
   "id": "10dc3c7c",
   "metadata": {
    "execution": {
     "iopub.execute_input": "2022-09-19T18:58:02.877395Z",
     "iopub.status.busy": "2022-09-19T18:58:02.877189Z",
     "iopub.status.idle": "2022-09-19T18:58:02.883737Z",
     "shell.execute_reply": "2022-09-19T18:58:02.883280Z"
    },
    "papermill": {
     "duration": 0.015747,
     "end_time": "2022-09-19T18:58:02.884882",
     "exception": false,
     "start_time": "2022-09-19T18:58:02.869135",
     "status": "completed"
    },
    "tags": [
     "parameters"
    ]
   },
   "outputs": [],
   "source": [
    "params = {\n",
    "    \"input_files\": {\n",
    "        \"sourcecred_data\": \"sourcecred.csv\"\n",
    "    },\n",
    "    \"total_tokens_allocated\": 1000,\n",
    "      \"payout_token\": {\n",
    "        \"token_name\": \"wxDAI\",\n",
    "        \"token_address\": \"0xe91D153E0b41518A2Ce8Dd3D7944Fa863463a97d\"\n",
    "      },\n",
    "\n",
    "}"
   ]
  },
  {
   "cell_type": "code",
   "execution_count": 2,
   "id": "f6305043",
   "metadata": {
    "execution": {
     "iopub.execute_input": "2022-09-19T18:58:02.890448Z",
     "iopub.status.busy": "2022-09-19T18:58:02.890353Z",
     "iopub.status.idle": "2022-09-19T18:58:02.892275Z",
     "shell.execute_reply": "2022-09-19T18:58:02.892036Z"
    },
    "papermill": {
     "duration": 0.005349,
     "end_time": "2022-09-19T18:58:02.893069",
     "exception": false,
     "start_time": "2022-09-19T18:58:02.887720",
     "status": "completed"
    },
    "tags": [
     "injected-parameters"
    ]
   },
   "outputs": [],
   "source": [
    "# Parameters\n",
    "input_files = {\n",
    "    \"sourcecred_data\": \"/home/mitch/github/tec-rewards/distribution_rounds/round-17/sourcecred.csv\"\n",
    "}\n",
    "payout_token = {\n",
    "    \"token_name\": \"TEC\",\n",
    "    \"token_address\": \"0x5dF8339c5E282ee48c0c7cE8A7d01a73D38B3B27\",\n",
    "}\n",
    "total_tokens_allocated = \"3839.1\"\n",
    "distribution_name = \"round-17\"\n",
    "results_output_folder = \"distribution_results\"\n"
   ]
  },
  {
   "cell_type": "code",
   "execution_count": 3,
   "id": "24dfeb3f",
   "metadata": {
    "execution": {
     "iopub.execute_input": "2022-09-19T18:58:02.897716Z",
     "iopub.status.busy": "2022-09-19T18:58:02.897622Z",
     "iopub.status.idle": "2022-09-19T18:58:03.134785Z",
     "shell.execute_reply": "2022-09-19T18:58:03.134367Z"
    },
    "papermill": {
     "duration": 0.241059,
     "end_time": "2022-09-19T18:58:03.136116",
     "exception": false,
     "start_time": "2022-09-19T18:58:02.895057",
     "status": "completed"
    },
    "tags": []
   },
   "outputs": [],
   "source": [
    "import os\n",
    "import sys\n",
    "\n",
    "import math\n",
    "import pandas as pd \n",
    "import numpy as np \n",
    "\n",
    "import scrapbook as sb"
   ]
  },
  {
   "cell_type": "markdown",
   "id": "f6aa7ef7",
   "metadata": {
    "tags": [
     "papermill-error-cell-tag"
    ]
   },
   "source": [
    "<span id=\"papermill-error-cell\" style=\"color:red; font-family:Helvetica Neue, Helvetica, Arial, sans-serif; font-size:2em;\">Execution using papermill encountered an exception here and stopped:</span>"
   ]
  },
  {
   "cell_type": "code",
   "execution_count": 4,
   "id": "d40fa112",
   "metadata": {
    "execution": {
     "iopub.execute_input": "2022-09-19T18:58:03.147750Z",
     "iopub.status.busy": "2022-09-19T18:58:03.147622Z",
     "iopub.status.idle": "2022-09-19T18:58:04.075109Z",
     "shell.execute_reply": "2022-09-19T18:58:04.074660Z"
    },
    "papermill": {
     "duration": 0.937451,
     "end_time": "2022-09-19T18:58:04.075917",
     "exception": true,
     "start_time": "2022-09-19T18:58:03.138466",
     "status": "failed"
    },
    "tags": []
   },
   "outputs": [
    {
     "ename": "KeyError",
     "evalue": "'totalGrainPaid'",
     "output_type": "error",
     "traceback": [
      "\u001b[0;31m---------------------------------------------------------------------------\u001b[0m",
      "\u001b[0;31mKeyError\u001b[0m                                  Traceback (most recent call last)",
      "File \u001b[0;32m~/anaconda3/envs/rad-main/lib/python3.9/site-packages/pandas/core/indexes/base.py:3361\u001b[0m, in \u001b[0;36mIndex.get_loc\u001b[0;34m(self, key, method, tolerance)\u001b[0m\n\u001b[1;32m   3360\u001b[0m \u001b[38;5;28;01mtry\u001b[39;00m:\n\u001b[0;32m-> 3361\u001b[0m     \u001b[38;5;28;01mreturn\u001b[39;00m \u001b[38;5;28;43mself\u001b[39;49m\u001b[38;5;241;43m.\u001b[39;49m\u001b[43m_engine\u001b[49m\u001b[38;5;241;43m.\u001b[39;49m\u001b[43mget_loc\u001b[49m\u001b[43m(\u001b[49m\u001b[43mcasted_key\u001b[49m\u001b[43m)\u001b[49m\n\u001b[1;32m   3362\u001b[0m \u001b[38;5;28;01mexcept\u001b[39;00m \u001b[38;5;167;01mKeyError\u001b[39;00m \u001b[38;5;28;01mas\u001b[39;00m err:\n",
      "File \u001b[0;32m~/anaconda3/envs/rad-main/lib/python3.9/site-packages/pandas/_libs/index.pyx:76\u001b[0m, in \u001b[0;36mpandas._libs.index.IndexEngine.get_loc\u001b[0;34m()\u001b[0m\n",
      "File \u001b[0;32m~/anaconda3/envs/rad-main/lib/python3.9/site-packages/pandas/_libs/index.pyx:108\u001b[0m, in \u001b[0;36mpandas._libs.index.IndexEngine.get_loc\u001b[0;34m()\u001b[0m\n",
      "File \u001b[0;32mpandas/_libs/hashtable_class_helper.pxi:5198\u001b[0m, in \u001b[0;36mpandas._libs.hashtable.PyObjectHashTable.get_item\u001b[0;34m()\u001b[0m\n",
      "File \u001b[0;32mpandas/_libs/hashtable_class_helper.pxi:5206\u001b[0m, in \u001b[0;36mpandas._libs.hashtable.PyObjectHashTable.get_item\u001b[0;34m()\u001b[0m\n",
      "\u001b[0;31mKeyError\u001b[0m: 'totalGrainPaid'",
      "\nThe above exception was the direct cause of the following exception:\n",
      "\u001b[0;31mKeyError\u001b[0m                                  Traceback (most recent call last)",
      "Input \u001b[0;32mIn [4]\u001b[0m, in \u001b[0;36m<cell line: 5>\u001b[0;34m()\u001b[0m\n\u001b[1;32m      2\u001b[0m NUMBER_OF_SOURCECRED_REWARD_TOKENS_TO_DISTRIBUTE \u001b[38;5;241m=\u001b[39m \u001b[38;5;28mfloat\u001b[39m(total_tokens_allocated)\n\u001b[1;32m      4\u001b[0m sourcecred_data \u001b[38;5;241m=\u001b[39m pd\u001b[38;5;241m.\u001b[39mread_csv(SOURCECRED_DATA_PATH)\n\u001b[0;32m----> 5\u001b[0m totalGrainPoints \u001b[38;5;241m=\u001b[39m \u001b[43msourcecred_data\u001b[49m\u001b[43m[\u001b[49m\u001b[38;5;124;43m'\u001b[39;49m\u001b[38;5;124;43mtotalGrainPaid\u001b[39;49m\u001b[38;5;124;43m'\u001b[39;49m\u001b[43m]\u001b[49m\u001b[38;5;241m.\u001b[39msum()\n",
      "File \u001b[0;32m~/anaconda3/envs/rad-main/lib/python3.9/site-packages/pandas/core/frame.py:3458\u001b[0m, in \u001b[0;36mDataFrame.__getitem__\u001b[0;34m(self, key)\u001b[0m\n\u001b[1;32m   3456\u001b[0m \u001b[38;5;28;01mif\u001b[39;00m \u001b[38;5;28mself\u001b[39m\u001b[38;5;241m.\u001b[39mcolumns\u001b[38;5;241m.\u001b[39mnlevels \u001b[38;5;241m>\u001b[39m \u001b[38;5;241m1\u001b[39m:\n\u001b[1;32m   3457\u001b[0m     \u001b[38;5;28;01mreturn\u001b[39;00m \u001b[38;5;28mself\u001b[39m\u001b[38;5;241m.\u001b[39m_getitem_multilevel(key)\n\u001b[0;32m-> 3458\u001b[0m indexer \u001b[38;5;241m=\u001b[39m \u001b[38;5;28;43mself\u001b[39;49m\u001b[38;5;241;43m.\u001b[39;49m\u001b[43mcolumns\u001b[49m\u001b[38;5;241;43m.\u001b[39;49m\u001b[43mget_loc\u001b[49m\u001b[43m(\u001b[49m\u001b[43mkey\u001b[49m\u001b[43m)\u001b[49m\n\u001b[1;32m   3459\u001b[0m \u001b[38;5;28;01mif\u001b[39;00m is_integer(indexer):\n\u001b[1;32m   3460\u001b[0m     indexer \u001b[38;5;241m=\u001b[39m [indexer]\n",
      "File \u001b[0;32m~/anaconda3/envs/rad-main/lib/python3.9/site-packages/pandas/core/indexes/base.py:3363\u001b[0m, in \u001b[0;36mIndex.get_loc\u001b[0;34m(self, key, method, tolerance)\u001b[0m\n\u001b[1;32m   3361\u001b[0m         \u001b[38;5;28;01mreturn\u001b[39;00m \u001b[38;5;28mself\u001b[39m\u001b[38;5;241m.\u001b[39m_engine\u001b[38;5;241m.\u001b[39mget_loc(casted_key)\n\u001b[1;32m   3362\u001b[0m     \u001b[38;5;28;01mexcept\u001b[39;00m \u001b[38;5;167;01mKeyError\u001b[39;00m \u001b[38;5;28;01mas\u001b[39;00m err:\n\u001b[0;32m-> 3363\u001b[0m         \u001b[38;5;28;01mraise\u001b[39;00m \u001b[38;5;167;01mKeyError\u001b[39;00m(key) \u001b[38;5;28;01mfrom\u001b[39;00m \u001b[38;5;21;01merr\u001b[39;00m\n\u001b[1;32m   3365\u001b[0m \u001b[38;5;28;01mif\u001b[39;00m is_scalar(key) \u001b[38;5;129;01mand\u001b[39;00m isna(key) \u001b[38;5;129;01mand\u001b[39;00m \u001b[38;5;129;01mnot\u001b[39;00m \u001b[38;5;28mself\u001b[39m\u001b[38;5;241m.\u001b[39mhasnans:\n\u001b[1;32m   3366\u001b[0m     \u001b[38;5;28;01mraise\u001b[39;00m \u001b[38;5;167;01mKeyError\u001b[39;00m(key)\n",
      "\u001b[0;31mKeyError\u001b[0m: 'totalGrainPaid'"
     ]
    }
   ],
   "source": [
    "SOURCECRED_DATA_PATH = input_files[\"sourcecred_data\"]\n",
    "NUMBER_OF_SOURCECRED_REWARD_TOKENS_TO_DISTRIBUTE = float(total_tokens_allocated)\n",
    "\n",
    "sourcecred_data = pd.read_csv(SOURCECRED_DATA_PATH)\n",
    "totalGrainPoints = sourcecred_data['totalGrainPaid'].sum()\n",
    "\n"
   ]
  },
  {
   "cell_type": "code",
   "execution_count": null,
   "id": "cab3c117",
   "metadata": {
    "papermill": {
     "duration": null,
     "end_time": null,
     "exception": null,
     "start_time": null,
     "status": "pending"
    },
    "tags": []
   },
   "outputs": [],
   "source": [
    "#luckily, grain already adds up to 100\n",
    "sourcecred_data['PERCENTAGE'] = sourcecred_data['totalGrainPaid']/totalGrainPoints\n",
    "sourcecred_data['TOKEN TO RECEIVE'] = sourcecred_data['PERCENTAGE'] * NUMBER_OF_SOURCECRED_REWARD_TOKENS_TO_DISTRIBUTE\n"
   ]
  },
  {
   "cell_type": "code",
   "execution_count": null,
   "id": "14b93129",
   "metadata": {
    "papermill": {
     "duration": null,
     "end_time": null,
     "exception": null,
     "start_time": null,
     "status": "pending"
    },
    "tags": []
   },
   "outputs": [],
   "source": [
    "final_alloc = sourcecred_data[['id', 'name', 'TOKEN TO RECEIVE']].copy()\n",
    "final_alloc = final_alloc.to_csv(sep=',', index=False, header=False)\n",
    "with open('sourcecred_allocation.csv', 'w') as f:\n",
    "    f.write(final_alloc)"
   ]
  }
 ],
 "metadata": {
  "celltoolbar": "Tags",
  "kernelspec": {
   "display_name": "Python 3 (ipykernel)",
   "language": "python",
   "name": "python3"
  },
  "language_info": {
   "codemirror_mode": {
    "name": "ipython",
    "version": 3
   },
   "file_extension": ".py",
   "mimetype": "text/x-python",
   "name": "python",
   "nbconvert_exporter": "python",
   "pygments_lexer": "ipython3",
   "version": "3.9.13"
  },
  "papermill": {
   "default_parameters": {},
   "duration": 2.060687,
   "end_time": "2022-09-19T18:58:04.394765",
   "environment_variables": {},
   "exception": true,
   "input_path": "./distribution_tools/sourcecred/SourceCredDistribution.ipynb",
   "output_path": "../tec-rewards/distribution_rounds/round-17/distribution_results/executed_notebooks/output_SourceCredDistribution.ipynb",
   "parameters": {
    "distribution_name": "round-17",
    "input_files": {
     "sourcecred_data": "/home/mitch/github/tec-rewards/distribution_rounds/round-17/sourcecred.csv"
    },
    "payout_token": {
     "token_address": "0x5dF8339c5E282ee48c0c7cE8A7d01a73D38B3B27",
     "token_name": "TEC"
    },
    "results_output_folder": "distribution_results",
    "total_tokens_allocated": "3839.1"
   },
   "start_time": "2022-09-19T18:58:02.334078",
   "version": "2.3.4"
  }
 },
 "nbformat": 4,
 "nbformat_minor": 5
}