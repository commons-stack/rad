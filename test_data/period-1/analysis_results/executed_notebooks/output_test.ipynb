{
 "cells": [
  {
   "cell_type": "markdown",
   "id": "d361c1dd",
   "metadata": {
    "tags": [
     "papermill-error-cell-tag"
    ]
   },
   "source": [
    "<span style=\"color:red; font-family:Helvetica Neue, Helvetica, Arial, sans-serif; font-size:2em;\">An Exception was encountered at '<a href=\"#papermill-error-cell\">In [4]</a>'.</span>"
   ]
  },
  {
   "cell_type": "code",
   "execution_count": 1,
   "id": "fedf6163",
   "metadata": {
    "execution": {
     "iopub.execute_input": "2022-12-06T13:38:01.476502Z",
     "iopub.status.busy": "2022-12-06T13:38:01.476332Z",
     "iopub.status.idle": "2022-12-06T13:38:01.481754Z",
     "shell.execute_reply": "2022-12-06T13:38:01.481443Z"
    },
    "papermill": {
     "duration": 0.01044,
     "end_time": "2022-12-06T13:38:01.482783",
     "exception": false,
     "start_time": "2022-12-06T13:38:01.472343",
     "status": "completed"
    },
    "tags": [
     "parameters"
    ]
   },
   "outputs": [],
   "source": [
    "parameters_path = \"\""
   ]
  },
  {
   "cell_type": "code",
   "execution_count": 2,
   "id": "8d6bc17c",
   "metadata": {
    "execution": {
     "iopub.execute_input": "2022-12-06T13:38:01.489961Z",
     "iopub.status.busy": "2022-12-06T13:38:01.489777Z",
     "iopub.status.idle": "2022-12-06T13:38:01.491870Z",
     "shell.execute_reply": "2022-12-06T13:38:01.491573Z"
    },
    "papermill": {
     "duration": 0.006775,
     "end_time": "2022-12-06T13:38:01.492880",
     "exception": false,
     "start_time": "2022-12-06T13:38:01.486105",
     "status": "completed"
    },
    "tags": [
     "injected-parameters"
    ]
   },
   "outputs": [],
   "source": [
    "# Parameters\n",
    "parameters_path = \"test_data/period-1/parameters.json\"\n"
   ]
  },
  {
   "cell_type": "code",
   "execution_count": 3,
   "id": "34281428",
   "metadata": {
    "execution": {
     "iopub.execute_input": "2022-12-06T13:38:01.500198Z",
     "iopub.status.busy": "2022-12-06T13:38:01.500072Z",
     "iopub.status.idle": "2022-12-06T13:38:03.637567Z",
     "shell.execute_reply": "2022-12-06T13:38:03.637147Z"
    },
    "papermill": {
     "duration": 2.142616,
     "end_time": "2022-12-06T13:38:03.638811",
     "exception": false,
     "start_time": "2022-12-06T13:38:01.496195",
     "status": "completed"
    },
    "tags": []
   },
   "outputs": [],
   "source": [
    "\n",
    "from rad import importer\n",
    "\n",
    "import rad.praise.analysis as pr_analysis\n",
    "import rad.praise.export as pr_export\n",
    "import os\n",
    "import pandas as pd\n",
    "\n"
   ]
  },
  {
   "cell_type": "markdown",
   "id": "4344bc5b",
   "metadata": {
    "tags": [
     "papermill-error-cell-tag"
    ]
   },
   "source": [
    "<span id=\"papermill-error-cell\" style=\"color:red; font-family:Helvetica Neue, Helvetica, Arial, sans-serif; font-size:2em;\">Execution using papermill encountered an exception here and stopped:</span>"
   ]
  },
  {
   "cell_type": "code",
   "execution_count": 4,
   "id": "3fb9655e",
   "metadata": {
    "execution": {
     "iopub.execute_input": "2022-12-06T13:38:03.652252Z",
     "iopub.status.busy": "2022-12-06T13:38:03.651858Z",
     "iopub.status.idle": "2022-12-06T13:38:04.009759Z",
     "shell.execute_reply": "2022-12-06T13:38:04.009330Z"
    },
    "papermill": {
     "duration": 0.36821,
     "end_time": "2022-12-06T13:38:04.010473",
     "exception": true,
     "start_time": "2022-12-06T13:38:03.642263",
     "status": "failed"
    },
    "tags": []
   },
   "outputs": [
    {
     "ename": "TypeError",
     "evalue": "load_multiple_periods() got an unexpected keyword argument 'config'",
     "output_type": "error",
     "traceback": [
      "\u001b[0;31m---------------------------------------------------------------------------\u001b[0m",
      "\u001b[0;31mTypeError\u001b[0m                                 Traceback (most recent call last)",
      "Input \u001b[0;32mIn [4]\u001b[0m, in \u001b[0;36m<cell line: 3>\u001b[0;34m()\u001b[0m\n\u001b[1;32m      1\u001b[0m \u001b[38;5;66;03m#print(os.listdir())\u001b[39;00m\n\u001b[1;32m      2\u001b[0m paths \u001b[38;5;241m=\u001b[39m [\u001b[38;5;124m\"\u001b[39m\u001b[38;5;124m../test_data/cross_period_exp/round-11/parameters.json\u001b[39m\u001b[38;5;124m\"\u001b[39m,\u001b[38;5;124m\"\u001b[39m\u001b[38;5;124m../test_data/cross_period_exp/round-12/parameters.json\u001b[39m\u001b[38;5;124m\"\u001b[39m,\u001b[38;5;124m\"\u001b[39m\u001b[38;5;124m../test_data/cross_period_exp/round-13/parameters.json\u001b[39m\u001b[38;5;124m\"\u001b[39m,\u001b[38;5;124m\"\u001b[39m\u001b[38;5;124m../test_data/cross_period_exp/round-14/parameters.json\u001b[39m\u001b[38;5;124m\"\u001b[39m]\n\u001b[0;32m----> 3\u001b[0m (rwdOj, rwdDist) \u001b[38;5;241m=\u001b[39m \u001b[43mimporter\u001b[49m\u001b[38;5;241;43m.\u001b[39;49m\u001b[43mload_multiple_periods\u001b[49m\u001b[43m(\u001b[49m\u001b[43mpaths\u001b[49m\u001b[43m,\u001b[49m\u001b[43m \u001b[49m\u001b[43mconfig\u001b[49m\u001b[38;5;241;43m=\u001b[39;49m\u001b[43m{\u001b[49m\u001b[38;5;124;43m\"\u001b[39;49m\u001b[38;5;124;43mmode\u001b[39;49m\u001b[38;5;124;43m\"\u001b[39;49m\u001b[43m:\u001b[49m\u001b[38;5;124;43m\"\u001b[39;49m\u001b[38;5;124;43mfile_list\u001b[39;49m\u001b[38;5;124;43m\"\u001b[39;49m\u001b[43m}\u001b[49m\u001b[43m)\u001b[49m\n\u001b[1;32m      5\u001b[0m \u001b[38;5;28mprint\u001b[39m(rwdDist)\n\u001b[1;32m      7\u001b[0m buf1 \u001b[38;5;241m=\u001b[39m pr_analysis\u001b[38;5;241m.\u001b[39mcross_period_helpers\u001b[38;5;241m.\u001b[39mcombine_distribution_table(rwdDist[\u001b[38;5;124m\"\u001b[39m\u001b[38;5;124mpraise\u001b[39m\u001b[38;5;124m\"\u001b[39m])\n",
      "\u001b[0;31mTypeError\u001b[0m: load_multiple_periods() got an unexpected keyword argument 'config'"
     ]
    }
   ],
   "source": [
    "#print(os.listdir())\n",
    "paths = [\"../test_data/cross_period_exp/round-11/parameters.json\",\"../test_data/cross_period_exp/round-12/parameters.json\",\"../test_data/cross_period_exp/round-13/parameters.json\",\"../test_data/cross_period_exp/round-14/parameters.json\"]\n",
    "(rwdOj, rwdDist) = importer.load_multiple_periods(paths, config={\"mode\":\"file_list\"})\n",
    "\n",
    "print(rwdDist)\n",
    "\n",
    "buf1 = pr_analysis.cross_period_helpers.combine_distribution_table(rwdDist[\"praise\"])\n",
    "\n",
    "\n",
    "print(buf1)\n",
    "\n",
    "\n",
    "buf2 = pr_analysis.cross_period_helpers.combine_quantifier_data(rwdDist[\"praise\"])\n",
    "\n",
    "\n",
    "\n",
    "buf2['DATE'] = pd.to_datetime(buf2['DATE'])\n",
    "\n",
    "print(buf2)"
   ]
  },
  {
   "cell_type": "code",
   "execution_count": null,
   "id": "3980192a",
   "metadata": {
    "papermill": {
     "duration": null,
     "end_time": null,
     "exception": null,
     "start_time": null,
     "status": "pending"
    },
    "tags": []
   },
   "outputs": [],
   "source": [
    "test = buf2.groupby(pd.Grouper(key='DATE', axis=0, \n",
    "                      freq='W'))\n",
    "\n",
    "print(test)\n",
    "\n",
    "end_date = buf2[\"DATE\"].max().ceil(\"D\")\n",
    "\n",
    "dates=pd.date_range(end=end_date, periods=5, freq='W')\n",
    "\n",
    "print(dates)\n"
   ]
  },
  {
   "cell_type": "code",
   "execution_count": null,
   "id": "04b2234f",
   "metadata": {
    "papermill": {
     "duration": null,
     "end_time": null,
     "exception": null,
     "start_time": null,
     "status": "pending"
    },
    "tags": []
   },
   "outputs": [],
   "source": []
  }
 ],
 "metadata": {
  "celltoolbar": "Tags",
  "kernelspec": {
   "display_name": "Python 3 (ipykernel)",
   "language": "python",
   "name": "python3"
  },
  "language_info": {
   "codemirror_mode": {
    "name": "ipython",
    "version": 3
   },
   "file_extension": ".py",
   "mimetype": "text/x-python",
   "name": "python",
   "nbconvert_exporter": "python",
   "pygments_lexer": "ipython3",
   "version": "3.10.5"
  },
  "papermill": {
   "default_parameters": {},
   "duration": 3.848445,
   "end_time": "2022-12-06T13:38:04.533853",
   "environment_variables": {},
   "exception": true,
   "input_path": "./my_reports/test.ipynb",
   "output_path": "test_data/period-1/analysis_results/executed_notebooks/output_test.ipynb",
   "parameters": {
    "parameters_path": "test_data/period-1/parameters.json"
   },
   "start_time": "2022-12-06T13:38:00.685408",
   "version": "2.3.4"
  },
  "vscode": {
   "interpreter": {
    "hash": "aee8b7b246df8f9039afb4144a1f6fd8d2ca17a180786b69acc140d282b71a49"
   }
  }
 },
 "nbformat": 4,
 "nbformat_minor": 5
}