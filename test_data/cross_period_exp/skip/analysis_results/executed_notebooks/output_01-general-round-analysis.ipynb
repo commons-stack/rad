{
 "cells": [
  {
   "cell_type": "markdown",
   "id": "4e440721",
   "metadata": {
    "tags": [
     "papermill-error-cell-tag"
    ]
   },
   "source": [
    "<span style=\"color:red; font-family:Helvetica Neue, Helvetica, Arial, sans-serif; font-size:2em;\">An Exception was encountered at '<a href=\"#papermill-error-cell\">In [3]</a>'.</span>"
   ]
  },
  {
   "cell_type": "code",
   "execution_count": 1,
   "id": "2c1f4ceb",
   "metadata": {
    "execution": {
     "iopub.execute_input": "2022-11-30T06:26:21.869674Z",
     "iopub.status.busy": "2022-11-30T06:26:21.869446Z",
     "iopub.status.idle": "2022-11-30T06:26:21.875428Z",
     "shell.execute_reply": "2022-11-30T06:26:21.874973Z"
    },
    "papermill": {
     "duration": 0.023248,
     "end_time": "2022-11-30T06:26:21.876643",
     "exception": false,
     "start_time": "2022-11-30T06:26:21.853395",
     "status": "completed"
    },
    "tags": [
     "parameters"
    ]
   },
   "outputs": [],
   "source": [
    "parameters_path = \"\"\n"
   ]
  },
  {
   "cell_type": "code",
   "execution_count": 2,
   "id": "05a328bf",
   "metadata": {
    "execution": {
     "iopub.execute_input": "2022-11-30T06:26:21.907995Z",
     "iopub.status.busy": "2022-11-30T06:26:21.907792Z",
     "iopub.status.idle": "2022-11-30T06:26:21.910109Z",
     "shell.execute_reply": "2022-11-30T06:26:21.909701Z"
    },
    "papermill": {
     "duration": 0.018825,
     "end_time": "2022-11-30T06:26:21.911149",
     "exception": false,
     "start_time": "2022-11-30T06:26:21.892324",
     "status": "completed"
    },
    "tags": [
     "injected-parameters"
    ]
   },
   "outputs": [],
   "source": [
    "# Parameters\n",
    "parameters_path = \"test_data/cross_period_exp/parameters.json\"\n"
   ]
  },
  {
   "cell_type": "markdown",
   "id": "6959de8b",
   "metadata": {
    "tags": [
     "papermill-error-cell-tag"
    ]
   },
   "source": [
    "<span id=\"papermill-error-cell\" style=\"color:red; font-family:Helvetica Neue, Helvetica, Arial, sans-serif; font-size:2em;\">Execution using papermill encountered an exception here and stopped:</span>"
   ]
  },
  {
   "cell_type": "code",
   "execution_count": 3,
   "id": "careful-unemployment",
   "metadata": {
    "execution": {
     "iopub.execute_input": "2022-11-30T06:26:21.946643Z",
     "iopub.status.busy": "2022-11-30T06:26:21.946440Z",
     "iopub.status.idle": "2022-11-30T06:26:23.700650Z",
     "shell.execute_reply": "2022-11-30T06:26:23.700134Z"
    },
    "papermill": {
     "duration": 1.773612,
     "end_time": "2022-11-30T06:26:23.701493",
     "exception": true,
     "start_time": "2022-11-30T06:26:21.927881",
     "status": "failed"
    },
    "scrolled": true,
    "tags": [
     "hide_input"
    ]
   },
   "outputs": [
    {
     "name": "stderr",
     "output_type": "stream",
     "text": [
      "[nltk_data] Downloading package stopwords to /home/dev/nltk_data...\n",
      "[nltk_data]   Package stopwords is already up-to-date!\n"
     ]
    },
    {
     "ename": "FileNotFoundError",
     "evalue": "[Errno 2] No such file or directory: 'test_data/cross_period_exp/parameters.json'",
     "output_type": "error",
     "traceback": [
      "\u001b[0;31m---------------------------------------------------------------------------\u001b[0m",
      "\u001b[0;31mFileNotFoundError\u001b[0m                         Traceback (most recent call last)",
      "Input \u001b[0;32mIn [3]\u001b[0m, in \u001b[0;36m<cell line: 9>\u001b[0;34m()\u001b[0m\n\u001b[1;32m      4\u001b[0m \u001b[38;5;28;01mimport\u001b[39;00m \u001b[38;5;21;01mrad\u001b[39;00m\u001b[38;5;21;01m.\u001b[39;00m\u001b[38;5;21;01mpraise\u001b[39;00m\u001b[38;5;21;01m.\u001b[39;00m\u001b[38;5;21;01mexport\u001b[39;00m \u001b[38;5;28;01mas\u001b[39;00m \u001b[38;5;21;01mpr_export\u001b[39;00m\n\u001b[1;32m      8\u001b[0m \u001b[38;5;66;03m#load the praise objects\u001b[39;00m\n\u001b[0;32m----> 9\u001b[0m (reward_system_objects, distribution_objects) \u001b[38;5;241m=\u001b[39m \u001b[43mimporter\u001b[49m\u001b[38;5;241;43m.\u001b[39;49m\u001b[43mload_sources_from_json\u001b[49m\u001b[43m(\u001b[49m\u001b[43mparameters_path\u001b[49m\u001b[43m)\u001b[49m\n",
      "File \u001b[0;32m~/Documents/GitHub/rad/sources/rad/importer.py:28\u001b[0m, in \u001b[0;36mload_sources_from_json\u001b[0;34m(_fullPath)\u001b[0m\n\u001b[1;32m     25\u001b[0m input_path, input_name \u001b[38;5;241m=\u001b[39m os\u001b[38;5;241m.\u001b[39mpath\u001b[38;5;241m.\u001b[39msplit(_fullPath)\n\u001b[1;32m     27\u001b[0m params \u001b[38;5;241m=\u001b[39m {}\n\u001b[0;32m---> 28\u001b[0m \u001b[38;5;28;01mwith\u001b[39;00m \u001b[38;5;28;43mopen\u001b[39;49m\u001b[43m(\u001b[49m\u001b[43m_fullPath\u001b[49m\u001b[43m,\u001b[49m\u001b[43m \u001b[49m\u001b[38;5;124;43m\"\u001b[39;49m\u001b[38;5;124;43mr\u001b[39;49m\u001b[38;5;124;43m\"\u001b[39;49m\u001b[43m)\u001b[49m \u001b[38;5;28;01mas\u001b[39;00m read_file:\n\u001b[1;32m     29\u001b[0m     params \u001b[38;5;241m=\u001b[39m json\u001b[38;5;241m.\u001b[39mload(read_file)\n\u001b[1;32m     31\u001b[0m rewardsystem_objects \u001b[38;5;241m=\u001b[39m {}\n",
      "\u001b[0;31mFileNotFoundError\u001b[0m: [Errno 2] No such file or directory: 'test_data/cross_period_exp/parameters.json'"
     ]
    }
   ],
   "source": [
    "from rad import importer\n",
    "\n",
    "import rad.praise.analysis as pr_analysis\n",
    "import rad.praise.export as pr_export\n",
    "\n",
    "\n",
    "\n",
    "#load the praise objects\n",
    "(reward_system_objects, distribution_objects) = importer.load_sources_from_json(parameters_path)\n"
   ]
  },
  {
   "cell_type": "markdown",
   "id": "indonesian-image",
   "metadata": {
    "papermill": {
     "duration": null,
     "end_time": null,
     "exception": null,
     "start_time": null,
     "status": "pending"
    },
    "tags": []
   },
   "source": [
    "# Rewards Analytics and Distribution Dashboard for Quantification Review\n",
    "This document processes the outputs of the praise reward system and performs an analysis of the resulting token reward distribution. "
   ]
  },
  {
   "cell_type": "markdown",
   "id": "532eeef9",
   "metadata": {
    "papermill": {
     "duration": null,
     "end_time": null,
     "exception": null,
     "start_time": null,
     "status": "pending"
    },
    "tags": []
   },
   "source": [
    "## General round summary"
   ]
  },
  {
   "cell_type": "code",
   "execution_count": null,
   "id": "0b29daa7",
   "metadata": {
    "papermill": {
     "duration": null,
     "end_time": null,
     "exception": null,
     "start_time": null,
     "status": "pending"
    },
    "tags": []
   },
   "outputs": [],
   "source": [
    "pr_analysis.report_summary.printDescription(distribution_objects['tec_praise_dist'], {})\n",
    "pr_analysis.report_summary.printGraph(distribution_objects['tec_praise_dist'], {})"
   ]
  },
  {
   "cell_type": "markdown",
   "id": "spoken-provider",
   "metadata": {
    "papermill": {
     "duration": null,
     "end_time": null,
     "exception": null,
     "start_time": null,
     "status": "pending"
    },
    "tags": []
   },
   "source": [
    "# Praise Data Visualization\n",
    "\n"
   ]
  },
  {
   "cell_type": "code",
   "execution_count": null,
   "id": "595d0243",
   "metadata": {
    "papermill": {
     "duration": null,
     "end_time": null,
     "exception": null,
     "start_time": null,
     "status": "pending"
    },
    "tags": []
   },
   "outputs": [],
   "source": [
    "pr_analysis.rating_distribution.printDescription(distribution_objects['tec_praise_dist'], {})\n",
    "pr_analysis.rating_distribution.printGraph(distribution_objects['tec_praise_dist'], {})"
   ]
  },
  {
   "cell_type": "code",
   "execution_count": null,
   "id": "fantastic-services",
   "metadata": {
    "jupyter": {
     "source_hidden": true
    },
    "papermill": {
     "duration": null,
     "end_time": null,
     "exception": null,
     "start_time": null,
     "status": "pending"
    },
    "scrolled": true,
    "tags": []
   },
   "outputs": [],
   "source": []
  },
  {
   "cell_type": "markdown",
   "id": "f45d9e4c",
   "metadata": {
    "papermill": {
     "duration": null,
     "end_time": null,
     "exception": null,
     "start_time": null,
     "status": "pending"
    },
    "tags": []
   },
   "source": [
    "### Top 10 highest rated contributions\n"
   ]
  },
  {
   "cell_type": "code",
   "execution_count": null,
   "id": "7e26acd2",
   "metadata": {
    "papermill": {
     "duration": null,
     "end_time": null,
     "exception": null,
     "start_time": null,
     "status": "pending"
    },
    "tags": []
   },
   "outputs": [],
   "source": [
    "#from rad_module.praise.analysis import highest_rated_contributions\n",
    "#display(Markdown(mod.header))\n",
    "#display(Markdown(mod.description))\n",
    "pr_analysis.highest_rated_contributions.printDescription(distribution_objects['tec_praise_dist'], {})\n",
    "pr_analysis.highest_rated_contributions.printGraph(distribution_objects['tec_praise_dist'], {})"
   ]
  },
  {
   "cell_type": "markdown",
   "id": "12f4e252",
   "metadata": {
    "papermill": {
     "duration": null,
     "end_time": null,
     "exception": null,
     "start_time": null,
     "status": "pending"
    },
    "tags": []
   },
   "source": [
    "### Praise Reward Distribution\n",
    "\n",
    "We can now take a look at the distribution of the received praise rewards. You can toggle the inclusion of the different sources by clicking on the legend. "
   ]
  },
  {
   "cell_type": "code",
   "execution_count": null,
   "id": "a3f4e76c",
   "metadata": {
    "papermill": {
     "duration": null,
     "end_time": null,
     "exception": null,
     "start_time": null,
     "status": "pending"
    },
    "tags": []
   },
   "outputs": [],
   "source": [
    "\n",
    "pr_analysis.distribution_histogram.printDescription(distribution_objects['tec_praise_dist'], {})\n",
    "pr_analysis.distribution_histogram.printGraph(distribution_objects['tec_praise_dist'], {\"x\":\"USER IDENTITY\", \"y\":[\"QUANT_REWARD\", \"PRAISE_REWARD\"]})\n"
   ]
  },
  {
   "cell_type": "markdown",
   "id": "7c852260",
   "metadata": {
    "papermill": {
     "duration": null,
     "end_time": null,
     "exception": null,
     "start_time": null,
     "status": "pending"
    },
    "tags": []
   },
   "source": [
    "### Praise Giving Distribution\n",
    "We can also take a look at the amount of praise different users gave. \n"
   ]
  },
  {
   "cell_type": "code",
   "execution_count": null,
   "id": "dd56c0c1",
   "metadata": {
    "papermill": {
     "duration": null,
     "end_time": null,
     "exception": null,
     "start_time": null,
     "status": "pending"
    },
    "scrolled": true,
    "tags": []
   },
   "outputs": [],
   "source": [
    "\n",
    "pr_analysis.praise_giver_histogram.printDescription(distribution_objects['tec_praise_dist'], {})\n",
    "pr_analysis.praise_giver_histogram.printGraph(distribution_objects['tec_praise_dist'], {})\n",
    "\n",
    "\n",
    "\n"
   ]
  },
  {
   "cell_type": "markdown",
   "id": "sufficient-drain",
   "metadata": {
    "papermill": {
     "duration": null,
     "end_time": null,
     "exception": null,
     "start_time": null,
     "status": "pending"
    },
    "tags": []
   },
   "source": [
    "### Praise Flows\n",
    "\n",
    "Now for something more fun: let's surface the top \"praise flows\" from the data. Thanks to @inventandchill for this awesome visualization! \n",
    "On one side we have the top 15 praise givers separately, on the other the top 25 receivers. The people outside the selection get aggregated into the \"REST FROM\" and \"REST TO\" categories."
   ]
  },
  {
   "cell_type": "code",
   "execution_count": null,
   "id": "competent-cleveland",
   "metadata": {
    "jupyter": {
     "source_hidden": true
    },
    "papermill": {
     "duration": null,
     "end_time": null,
     "exception": null,
     "start_time": null,
     "status": "pending"
    },
    "tags": []
   },
   "outputs": [],
   "source": [
    "# Config specifying how many of the top users to show\n",
    "#NUMBER_OF_SENDERS: The left side. X largest ones + one bucket for the rest\n",
    "#NUMBER_OF_RECEIVERS: The right side. Y largest ones + one bucket for the rest \n",
    "\n",
    "config = {\n",
    "    \"NUMBER_OF_SENDERS\" : 15, \n",
    "    \"NUMBER_OF_RECEIVERS\" : 25 \n",
    "}\n",
    "\n",
    "pr_analysis.praise_flow.printDescription(distribution_objects['tec_praise_dist'], config)\n",
    "pr_analysis.praise_flow.printGraph(distribution_objects['tec_praise_dist'], config)\n"
   ]
  },
  {
   "cell_type": "markdown",
   "id": "f7017899",
   "metadata": {
    "papermill": {
     "duration": null,
     "end_time": null,
     "exception": null,
     "start_time": null,
     "status": "pending"
    },
    "tags": []
   },
   "source": [
    "# Quantifier Data\n",
    "Now let's take a closer look at the quantification process and the quantifiers:\n"
   ]
  },
  {
   "cell_type": "markdown",
   "id": "f60f5f42",
   "metadata": {
    "papermill": {
     "duration": null,
     "end_time": null,
     "exception": null,
     "start_time": null,
     "status": "pending"
    },
    "tags": []
   },
   "source": [
    "## Praise Outliers\n",
    "To aid the revision process, we highlight disagreements between quantifiers."
   ]
  },
  {
   "cell_type": "markdown",
   "id": "2dc1ab13",
   "metadata": {
    "papermill": {
     "duration": null,
     "end_time": null,
     "exception": null,
     "start_time": null,
     "status": "pending"
    },
    "tags": []
   },
   "source": [
    "### Outliers sort by spreads\n",
    "\n",
    "This graphic visualizes controversial praise ratings by sorting them by the \"spread\" between the highest and lowest received score. <br>\n",
    "\n",
    "Please keep in mind that this is a visual aid. If there are several praise instances with similar spread and quant score, all but one end up \"hidden\" on the chart. For an exhaustive list, take a look at the exported file \"praise_outliers.csv\" ."
   ]
  },
  {
   "cell_type": "code",
   "execution_count": null,
   "id": "5433be7c",
   "metadata": {
    "papermill": {
     "duration": null,
     "end_time": null,
     "exception": null,
     "start_time": null,
     "status": "pending"
    },
    "tags": []
   },
   "outputs": [],
   "source": [
    "pr_analysis.sort_by_controversial.printDescription(distribution_objects['tec_praise_dist'], {})\n",
    "pr_analysis.sort_by_controversial.printGraph(distribution_objects['tec_praise_dist'], {})\n"
   ]
  },
  {
   "cell_type": "markdown",
   "id": "2d9cadd1",
   "metadata": {
    "papermill": {
     "duration": null,
     "end_time": null,
     "exception": null,
     "start_time": null,
     "status": "pending"
    },
    "tags": []
   },
   "source": [
    "## Praise score by quantifier -- outliers among the quantifiers?\n",
    "\n",
    "Let's see how different quantifiers behaved by showing the range of praise scores they gave.\n",
    "\n",
    "To interpret the box plot:\n",
    "\n",
    "- Bottom horizontal line of box plot is minimum value\n",
    "\n",
    "- First horizontal line of rectangle shape of box plot is First quartile or 25%\n",
    "\n",
    "- Second horizontal line of rectangle shape of box plot is Second quartile or 50% or median.\n",
    "\n",
    "- Third horizontal line of rectangle shape of box plot is third quartile or 75%\n",
    "\n",
    "- Top horizontal line of rectangle shape of box plot is maximum value.\n",
    "\n",
    "\n"
   ]
  },
  {
   "cell_type": "code",
   "execution_count": null,
   "id": "17817789",
   "metadata": {
    "execution": {
     "iopub.execute_input": "2022-04-13T21:20:16.205233Z",
     "iopub.status.busy": "2022-04-13T21:20:16.205027Z",
     "iopub.status.idle": "2022-04-13T21:20:16.263571Z",
     "shell.execute_reply": "2022-04-13T21:20:16.263168Z"
    },
    "papermill": {
     "duration": null,
     "end_time": null,
     "exception": null,
     "start_time": null,
     "status": "pending"
    },
    "tags": []
   },
   "outputs": [],
   "source": [
    "'''quant_boxplot = quantifier_rating_table[['QUANT_ID', 'QUANT_VALUE']].copy()\n",
    "fig_box = px.box(quant_boxplot, x=\"QUANT_ID\", y=\"QUANT_VALUE\", points=False)\n",
    "fig_box'''\n",
    "pr_analysis.quantifier_boxplot.printDescription(distribution_objects['tec_praise_dist'], {})\n",
    "pr_analysis.quantifier_boxplot.printGraph(distribution_objects['tec_praise_dist'], {})"
   ]
  },
  {
   "cell_type": "code",
   "execution_count": null,
   "id": "8f351c9a",
   "metadata": {
    "papermill": {
     "duration": null,
     "end_time": null,
     "exception": null,
     "start_time": null,
     "status": "pending"
    },
    "tags": []
   },
   "outputs": [],
   "source": [
    "'''\n",
    "pr = praise_tools.praise_quantifier(praisedata=praise_distribution,quantifiertable=quantifier_rating_table)\n",
    "'''"
   ]
  },
  {
   "cell_type": "markdown",
   "id": "4f95f65a",
   "metadata": {
    "papermill": {
     "duration": null,
     "end_time": null,
     "exception": null,
     "start_time": null,
     "status": "pending"
    },
    "tags": []
   },
   "source": [
    "### Score displacement: tendency to under/over-scoring?"
   ]
  },
  {
   "cell_type": "code",
   "execution_count": null,
   "id": "c9111c27",
   "metadata": {
    "papermill": {
     "duration": null,
     "end_time": null,
     "exception": null,
     "start_time": null,
     "status": "pending"
    },
    "tags": []
   },
   "outputs": [],
   "source": [
    "'''fig=pr.plot_mean_displacement()\n",
    "fig.show()'''\n",
    "pr_analysis.quantifier_scoring_analysis.printGraph(distribution_objects['tec_praise_dist'], {\"mode\":\"displacement\"})"
   ]
  },
  {
   "cell_type": "markdown",
   "id": "ba23d675",
   "metadata": {
    "papermill": {
     "duration": null,
     "end_time": null,
     "exception": null,
     "start_time": null,
     "status": "pending"
    },
    "tags": []
   },
   "source": [
    "### Scoring correlation: how similiar am I scoring with others?"
   ]
  },
  {
   "cell_type": "code",
   "execution_count": null,
   "id": "e2da4d3d",
   "metadata": {
    "papermill": {
     "duration": null,
     "end_time": null,
     "exception": null,
     "start_time": null,
     "status": "pending"
    },
    "tags": []
   },
   "outputs": [],
   "source": [
    "'''fig=pr.plot_coefficient()\n",
    "fig.show()'''\n",
    "pr_analysis.quantifier_scoring_analysis.printGraph(distribution_objects['tec_praise_dist'], {\"mode\":\"correlation\"})"
   ]
  },
  {
   "cell_type": "markdown",
   "id": "1bbc7886",
   "metadata": {
    "papermill": {
     "duration": null,
     "end_time": null,
     "exception": null,
     "start_time": null,
     "status": "pending"
    },
    "tags": []
   },
   "source": [
    "## Agreement on duplication"
   ]
  },
  {
   "cell_type": "code",
   "execution_count": null,
   "id": "44be292b",
   "metadata": {
    "papermill": {
     "duration": null,
     "end_time": null,
     "exception": null,
     "start_time": null,
     "status": "pending"
    },
    "tags": []
   },
   "outputs": [],
   "source": [
    "pr_analysis.quantifier_scoring_analysis.printGraph(distribution_objects['tec_praise_dist'], {\"mode\":\"displacement\"})"
   ]
  },
  {
   "cell_type": "code",
   "execution_count": null,
   "id": "3faf4023",
   "metadata": {
    "papermill": {
     "duration": null,
     "end_time": null,
     "exception": null,
     "start_time": null,
     "status": "pending"
    },
    "tags": []
   },
   "outputs": [],
   "source": [
    "pr_analysis.agreement_check.printDescription(distribution_objects['tec_praise_dist'], {})\n",
    "pr_analysis.agreement_check.printGraph(distribution_objects['tec_praise_dist'], {\"value\": \"duplication\"})"
   ]
  },
  {
   "cell_type": "markdown",
   "id": "e60212a2",
   "metadata": {
    "papermill": {
     "duration": null,
     "end_time": null,
     "exception": null,
     "start_time": null,
     "status": "pending"
    },
    "tags": []
   },
   "source": [
    "Praise instances with disagreements in duplication are collected in 'results/duplication_examination.csv'. To compare, look at the last 4 columns: 'DUPLICATE MSG 1/2/3' and 'ORIGINAL MSG'."
   ]
  },
  {
   "cell_type": "code",
   "execution_count": null,
   "id": "0dcaeb92",
   "metadata": {
    "papermill": {
     "duration": null,
     "end_time": null,
     "exception": null,
     "start_time": null,
     "status": "pending"
    },
    "tags": []
   },
   "outputs": [],
   "source": [
    "'''duplication_disagreement['ORIGINAL MSG']=duplication_disagreement['REASON'] # replicate this column just after the other messages for easy comparison\n",
    "\n",
    "duplication_disagreement.to_csv('duplication_examination.csv')'''"
   ]
  },
  {
   "cell_type": "markdown",
   "id": "23ac3793",
   "metadata": {
    "papermill": {
     "duration": null,
     "end_time": null,
     "exception": null,
     "start_time": null,
     "status": "pending"
    },
    "tags": []
   },
   "source": [
    "## Agreement on dismissal"
   ]
  },
  {
   "cell_type": "code",
   "execution_count": null,
   "id": "201537d9",
   "metadata": {
    "papermill": {
     "duration": null,
     "end_time": null,
     "exception": null,
     "start_time": null,
     "status": "pending"
    },
    "tags": []
   },
   "outputs": [],
   "source": []
  },
  {
   "cell_type": "code",
   "execution_count": null,
   "id": "8ec07ef5",
   "metadata": {
    "papermill": {
     "duration": null,
     "end_time": null,
     "exception": null,
     "start_time": null,
     "status": "pending"
    },
    "tags": []
   },
   "outputs": [],
   "source": [
    "\n",
    "\n",
    "pr_analysis.agreement_check.printDescription(distribution_objects['tec_praise_dist'], {})\n",
    "pr_analysis.agreement_check.printGraph(distribution_objects['tec_praise_dist'], {\"value\": \"dismissal\"})\n"
   ]
  },
  {
   "cell_type": "markdown",
   "id": "74295e31",
   "metadata": {
    "papermill": {
     "duration": null,
     "end_time": null,
     "exception": null,
     "start_time": null,
     "status": "pending"
    },
    "tags": []
   },
   "source": [
    "Praise instances with disagreements in dismissal are collected in'results/dismissal_disaggreed.csv'. You can further look into who dismissed and who did not. \n",
    "\n"
   ]
  },
  {
   "cell_type": "markdown",
   "id": "995db465",
   "metadata": {
    "papermill": {
     "duration": null,
     "end_time": null,
     "exception": null,
     "start_time": null,
     "status": "pending"
    },
    "tags": []
   },
   "source": [
    "## Save the distribution files"
   ]
  },
  {
   "cell_type": "code",
   "execution_count": null,
   "id": "07d915fa",
   "metadata": {
    "papermill": {
     "duration": null,
     "end_time": null,
     "exception": null,
     "start_time": null,
     "status": "pending"
    },
    "tags": []
   },
   "outputs": [],
   "source": [
    "#pr_export.basic_distribution_results.save_export(\"final_token_allocation\", distribution_objects['tec_praise_dist']) \n"
   ]
  },
  {
   "cell_type": "code",
   "execution_count": null,
   "id": "6fbf2d6c",
   "metadata": {
    "papermill": {
     "duration": null,
     "end_time": null,
     "exception": null,
     "start_time": null,
     "status": "pending"
    },
    "tags": []
   },
   "outputs": [],
   "source": [
    "#create \"transactions\" dist\n",
    "#pr_export.aragon_distribution.save_export(\"praise_aragon_distribution\", distribution_objects['tec_praise_dist'])\n"
   ]
  },
  {
   "cell_type": "code",
   "execution_count": null,
   "id": "0b808580",
   "metadata": {
    "papermill": {
     "duration": null,
     "end_time": null,
     "exception": null,
     "start_time": null,
     "status": "pending"
    },
    "tags": []
   },
   "outputs": [],
   "source": [
    "#praise_reward_export = distribution_objects['tec_praise_dist'].#distributionResults.to_csv(index=False)\n",
    "#with open('extended_praise_data.csv', 'w') as f:\n",
    "#    f.write(praise_reward_export)"
   ]
  }
 ],
 "metadata": {
  "celltoolbar": "Tags",
  "hide_input": false,
  "kernelspec": {
   "display_name": "Python 3.10.5 64-bit",
   "language": "python",
   "name": "python3"
  },
  "language_info": {
   "codemirror_mode": {
    "name": "ipython",
    "version": 3
   },
   "file_extension": ".py",
   "mimetype": "text/x-python",
   "name": "python",
   "nbconvert_exporter": "python",
   "pygments_lexer": "ipython3",
   "version": "3.10.5"
  },
  "papermill": {
   "default_parameters": {},
   "duration": 3.324695,
   "end_time": "2022-11-30T06:26:24.232874",
   "environment_variables": {},
   "exception": true,
   "input_path": "./my_reports/01-general-round-analysis.ipynb",
   "output_path": "test_data/cross_period_exp/analysis_results/executed_notebooks/output_01-general-round-analysis.ipynb",
   "parameters": {
    "parameters_path": "test_data/cross_period_exp/parameters.json"
   },
   "start_time": "2022-11-30T06:26:20.908179",
   "version": "2.3.4"
  },
  "toc": {
   "base_numbering": 1,
   "nav_menu": {},
   "number_sections": true,
   "sideBar": true,
   "skip_h1_title": false,
   "title_cell": "Table of Contents",
   "title_sidebar": "Contents",
   "toc_cell": false,
   "toc_position": {
    "height": "calc(100% - 180px)",
    "left": "10px",
    "top": "150px",
    "width": "303.188px"
   },
   "toc_section_display": true,
   "toc_window_display": true
  },
  "vscode": {
   "interpreter": {
    "hash": "aee8b7b246df8f9039afb4144a1f6fd8d2ca17a180786b69acc140d282b71a49"
   }
  }
 },
 "nbformat": 4,
 "nbformat_minor": 5
}