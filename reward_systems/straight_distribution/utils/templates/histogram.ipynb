{
 "cells": [
  {
   "cell_type": "markdown",
   "metadata": {},
   "source": [
    "# This is an histogram\n",
    "Histo histo gram gram"
   ]
  },
  {
   "cell_type": "code",
   "execution_count": null,
   "metadata": {},
   "outputs": [],
   "source": [
    "distribution = Praise(_data[\"straightDistribution\"]).get_distribution_results()\n",
    "\n",
    "\n",
    "fig_freq = px.bar(distribution,  x=\"index\", y=\"AMOUNT TO RECEIVE\",labels={\"AMOUNT TO RECEIVE\": \"Received\",\"index\": \"Beneficiary\"}, title=\"Rating Distribution\", width=800, height=300)\n",
    "fig_freq\n"
   ]
  }
 ],
 "metadata": {
  "language_info": {
   "name": "python"
  },
  "orig_nbformat": 4
 },
 "nbformat": 4,
 "nbformat_minor": 2
}
