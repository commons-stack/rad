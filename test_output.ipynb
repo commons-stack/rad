{
 "cells": [
  {
   "cell_type": "code",
   "execution_count": null,
   "id": "e9abae69",
   "metadata": {
    "tags": [
     "parameters"
    ]
   },
   "outputs": [],
   "source": [
    "input_params= {}"
   ]
  },
  {
   "cell_type": "code",
   "execution_count": null,
   "id": "a8208c23",
   "metadata": {},
   "outputs": [],
   "source": [
    "import pandas as pd\n",
    "import numpy as np\n",
    "import plotly.express as px"
   ]
  },
  {
   "cell_type": "markdown",
   "id": "846278bd",
   "metadata": {},
   "source": [
    "# THIS IS THE HEADER OF THE NOTEBOOK\n",
    "We will do cool stuff below"
   ]
  },
  {
   "cell_type": "code",
   "execution_count": null,
   "id": "3013096d",
   "metadata": {},
   "outputs": [],
   "source": [
    "current_analysis = histogram"
   ]
  },
  {
   "cell_type": "code",
   "execution_count": null,
   "id": "d658d013",
   "metadata": {},
   "outputs": [],
   "source": [
    "import importlib\n",
    "mod = importlib.import_module(current_analysis[\"module\"])\n",
    "print(mod.header)\n",
    "print(mod.description)\n",
    "mod.print(current_analysis[\"data\"])"
   ]
  },
  {
   "cell_type": "markdown",
   "id": "a262345e",
   "metadata": {},
   "source": [
    "# THIS IS THE FOOTER OF THE NOTEBOOK\n",
    "We calculated everything calculable\n"
   ]
  }
 ],
 "metadata": {},
 "nbformat": 4,
 "nbformat_minor": 5
}
