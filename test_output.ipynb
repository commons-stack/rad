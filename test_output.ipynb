{
 "cells": [
  {
   "cell_type": "code",
   "execution_count": null,
   "id": "7ffc9c7a",
   "metadata": {
    "tags": [
     "parameters"
    ]
   },
   "outputs": [],
   "source": [
    "input_params= {}"
   ]
  },
  {
   "cell_type": "code",
   "execution_count": null,
   "id": "0a666b22",
   "metadata": {},
   "outputs": [],
   "source": [
    "import pandas as pd\n",
    "import numpy as np\n",
    "import plotly.express as px\n",
    "import importlib\n",
    "from IPython.display import Markdown as md"
   ]
  },
  {
   "cell_type": "markdown",
   "id": "4c464f92",
   "metadata": {},
   "source": [
    "# THIS IS THE HEADER OF THE NOTEBOOK\n",
    "We will do cool stuff below"
   ]
  },
  {
   "cell_type": "code",
   "execution_count": null,
   "id": "6171865e",
   "metadata": {},
   "outputs": [],
   "source": [
    "current_analysis = histogram\n",
    "#print(current_analysis)"
   ]
  },
  {
   "cell_type": "code",
   "execution_count": null,
   "id": "af18286f",
   "metadata": {},
   "outputs": [],
   "source": [
    "import importlib\n",
    "mod = importlib.import_module(current_analysis[\"module\"])\n",
    "#change to markdown\n",
    "print(mod.header)\n",
    "print(mod.description)\n",
    "mod.printGraph(current_analysis[\"data\"])"
   ]
  },
  {
   "cell_type": "markdown",
   "id": "67aa4958",
   "metadata": {},
   "source": [
    "# THIS IS THE FOOTER OF THE NOTEBOOK\n",
    "We calculated everything calculable\n"
   ]
  }
 ],
 "metadata": {},
 "nbformat": 4,
 "nbformat_minor": 5
}
