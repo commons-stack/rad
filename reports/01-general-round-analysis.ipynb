{
 "cells": [
  {
   "cell_type": "code",
   "execution_count": null,
   "id": "2c1f4ceb",
   "metadata": {
    "tags": [
     "parameters"
    ]
   },
   "outputs": [],
   "source": [
    "parameters_path = \"\"\n"
   ]
  },
  {
   "cell_type": "code",
   "execution_count": null,
   "id": "careful-unemployment",
   "metadata": {
    "scrolled": true,
    "tags": [
     "hide_input"
    ]
   },
   "outputs": [],
   "source": [
    "from rad import importer\n",
    "\n",
    "import rad.praise.analysis as pr_analysis\n",
    "\n",
    "\n",
    "\n",
    "#load the praise objects\n",
    "(reward_system_objects, distribution_objects) = importer.load_sources_from_json(parameters_path)\n"
   ]
  },
  {
   "cell_type": "markdown",
   "id": "indonesian-image",
   "metadata": {},
   "source": [
    "# Rewards Analytics and Distribution Dashboard for Quantification Review\n",
    "This document processes the outputs of the praise reward system and performs an analysis of the resulting token reward distribution. "
   ]
  },
  {
   "cell_type": "markdown",
   "id": "532eeef9",
   "metadata": {},
   "source": [
    "## General round summary"
   ]
  },
  {
   "cell_type": "code",
   "execution_count": null,
   "id": "0b29daa7",
   "metadata": {},
   "outputs": [],
   "source": [
    "pr_analysis.report_summary.printDescription(distribution_objects['tec_praise_dist'], {})\n",
    "pr_analysis.report_summary.printGraph(distribution_objects['tec_praise_dist'], {})"
   ]
  },
  {
   "cell_type": "markdown",
   "id": "spoken-provider",
   "metadata": {},
   "source": [
    "# Praise Data Visualization\n",
    "\n"
   ]
  },
  {
   "cell_type": "code",
   "execution_count": null,
   "id": "595d0243",
   "metadata": {},
   "outputs": [],
   "source": [
    "pr_analysis.rating_distribution.printDescription(distribution_objects['tec_praise_dist'], {})\n",
    "pr_analysis.rating_distribution.printGraph(distribution_objects['tec_praise_dist'], {})"
   ]
  },
  {
   "cell_type": "code",
   "execution_count": null,
   "id": "fantastic-services",
   "metadata": {
    "jupyter": {
     "source_hidden": true
    },
    "scrolled": true
   },
   "outputs": [],
   "source": []
  },
  {
   "cell_type": "markdown",
   "id": "f45d9e4c",
   "metadata": {},
   "source": [
    "### Top 10 highest rated contributions\n"
   ]
  },
  {
   "cell_type": "code",
   "execution_count": null,
   "id": "7e26acd2",
   "metadata": {},
   "outputs": [],
   "source": [
    "#from rad_module.praise.analysis import highest_rated_contributions\n",
    "#display(Markdown(mod.header))\n",
    "#display(Markdown(mod.description))\n",
    "pr_analysis.highest_rated_contributions.printDescription(distribution_objects['tec_praise_dist'], {})\n",
    "pr_analysis.highest_rated_contributions.printGraph(distribution_objects['tec_praise_dist'], {})"
   ]
  },
  {
   "cell_type": "markdown",
   "id": "12f4e252",
   "metadata": {},
   "source": [
    "### Praise Reward Distribution\n",
    "\n",
    "We can now take a look at the distribution of the received praise rewards. You can toggle the inclusion of the different sources by clicking on the legend. "
   ]
  },
  {
   "cell_type": "code",
   "execution_count": null,
   "id": "a3f4e76c",
   "metadata": {},
   "outputs": [],
   "source": [
    "\n",
    "'''fig_final_alloc = px.bar(final_token_allocations, x=\"USER IDENTITY\", y = [\"QUANT_REWARD\", \"REWARDBOARD_REWARD\", \"PRAISE_REWARD\"], title=\"Rewards received by category\", color_discrete_map = {'PRAISE_REWARD': 'blue', 'QUANT_REWARD':'green', 'REWARDBOARD_REWARD':'yellow'})\n",
    "fig_final_alloc.update_xaxes(showticklabels=False)\n",
    "fig_final_alloc\n",
    "'''"
   ]
  },
  {
   "cell_type": "markdown",
   "id": "7c852260",
   "metadata": {},
   "source": [
    "### Praise Giving Distribution\n",
    "We can also take a look at the amount of praise different users gave. \n"
   ]
  },
  {
   "cell_type": "code",
   "execution_count": null,
   "id": "dd56c0c1",
   "metadata": {
    "scrolled": true
   },
   "outputs": [],
   "source": [
    "'''#first we calculate the individual contributions of each praise giver\n",
    "praise_by_giver = praise_distribution[['FROM USER ACCOUNT', 'AVG SCORE', 'PERCENTAGE', 'TOKEN TO RECEIVE']].copy().groupby(['FROM USER ACCOUNT']).agg('sum').reset_index()\n",
    "praise_by_giver.rename(columns= {'TOKEN TO RECEIVE': 'TOKENS GAVE'}, inplace = True)\n",
    "praise_by_giver.sort_values(by='TOKENS GAVE',inplace=True,ascending=False)\n",
    "\n",
    "fig_praisegiver = px.bar(praise_by_giver, x=\"FROM USER ACCOUNT\",y='TOKENS GAVE',title='Praise Giver Sorted by Total Score')\n",
    "fig_praisegiver.show()'''"
   ]
  },
  {
   "cell_type": "markdown",
   "id": "sufficient-drain",
   "metadata": {},
   "source": [
    "### Praise Flows\n",
    "\n",
    "Now for something more fun: let's surface the top \"praise flows\" from the data. Thanks to @inventandchill for this awesome visualization! \n",
    "On one side we have the top 15 praise givers separately, on the other the top 25 receivers. The people outside the selection get aggregated into the \"REST FROM\" and \"REST TO\" categories."
   ]
  },
  {
   "cell_type": "code",
   "execution_count": null,
   "id": "competent-cleveland",
   "metadata": {
    "jupyter": {
     "source_hidden": true
    }
   },
   "outputs": [],
   "source": [
    "# Config specifying how many of the top users to show\n",
    "#NUMBER_OF_SENDERS: The left side. X largest ones + one bucket for the rest\n",
    "#NUMBER_OF_RECEIVERS: The right side. Y largest ones + one bucket for the rest \n",
    "\n",
    "config = {\n",
    "    \"NUMBER_OF_SENDERS\" : 15, \n",
    "    \"NUMBER_OF_RECEIVERS\" : 25 \n",
    "}\n",
    "\n",
    "pr_analysis.praise_flow.printDescription(distribution_objects['tec_praise_dist'], {})\n",
    "pr_analysis.praise_flow.printGraph(distribution_objects['tec_praise_dist'], config)\n"
   ]
  },
  {
   "cell_type": "markdown",
   "id": "f7017899",
   "metadata": {
    "papermill": {
     "duration": 0.209823,
     "end_time": "2022-04-13T21:20:13.465387",
     "exception": false,
     "start_time": "2022-04-13T21:20:13.255564",
     "status": "completed"
    },
    "tags": []
   },
   "source": [
    "# Quantifier Data\n",
    "Now let's take a closer look at the quantification process and the quantifiers:\n"
   ]
  },
  {
   "cell_type": "markdown",
   "id": "f60f5f42",
   "metadata": {
    "papermill": {
     "duration": 0.210179,
     "end_time": "2022-04-13T21:20:13.881434",
     "exception": false,
     "start_time": "2022-04-13T21:20:13.671255",
     "status": "completed"
    },
    "tags": []
   },
   "source": [
    "## Praise Outliers\n",
    "To aid the revision process, we highlight disagreements between quantifiers."
   ]
  },
  {
   "cell_type": "markdown",
   "id": "2dc1ab13",
   "metadata": {},
   "source": [
    "### Outliers sort by spreads\n",
    "\n",
    "This graphic visualizes controversial praise ratings by sorting them by the \"spread\" between the highest and lowest received score. <br>\n",
    "\n",
    "Please keep in mind that this is a visual aid. If there are several praise instances with similar spread and quant score, all but one end up \"hidden\" on the chart. For an exhaustive list, take a look at the exported file \"praise_outliers.csv\" ."
   ]
  },
  {
   "cell_type": "code",
   "execution_count": null,
   "id": "ad585df6",
   "metadata": {},
   "outputs": [],
   "source": [
    "'''col_dismissed = [f'DISMISSED {k+1}' for k in range(NUMBER_OF_QUANTIFIERS_PER_PRAISE)]\n",
    "col_dupids = [f'DUPLICATE ID {k+1}' for k in range(NUMBER_OF_QUANTIFIERS_PER_PRAISE)]\n",
    "col_scores= [f'SCORE {k+1}' for k in range(NUMBER_OF_QUANTIFIERS_PER_PRAISE)]\n",
    "\n",
    "sort_by_controversial = praise_tools.spread_sort(praise_distribution.copy(), NUMBER_OF_QUANTIFIERS_PER_PRAISE)'''"
   ]
  },
  {
   "cell_type": "code",
   "execution_count": null,
   "id": "c568def1",
   "metadata": {},
   "outputs": [],
   "source": [
    "'''# Save the outlier table in an external file for easier review\n",
    "praise_outliers_csv = sort_by_controversial.to_csv(index=False)\n",
    "with open('praise_outliers.csv', 'w') as f:\n",
    "    f.write(praise_outliers_csv)'''"
   ]
  },
  {
   "cell_type": "code",
   "execution_count": null,
   "id": "5433be7c",
   "metadata": {},
   "outputs": [],
   "source": [
    "'''# look at what kinda messages get higher spread \n",
    "sort_by_controversial['MAX SCORE'] = sort_by_controversial[col_scores].max(axis=1)\n",
    "spread_df = sort_by_controversial[['REASON','AVG SCORE','MAX SCORE','SPREAD']].sort_values(by='SPREAD')\n",
    "px.scatter(spread_df,y='MAX SCORE',x='SPREAD',hover_name='REASON')'''"
   ]
  },
  {
   "cell_type": "markdown",
   "id": "2d9cadd1",
   "metadata": {
    "papermill": {
     "duration": 0.215617,
     "end_time": "2022-04-13T21:20:15.767379",
     "exception": false,
     "start_time": "2022-04-13T21:20:15.551762",
     "status": "completed"
    },
    "tags": []
   },
   "source": [
    "## Praise score by quantifier -- outliers among the quantifiers?\n",
    "\n",
    "Let's see how different quantifiers behaved by showing the range of praise scores they gave.\n",
    "\n",
    "To interpret the box plot:\n",
    "\n",
    "- Bottom horizontal line of box plot is minimum value\n",
    "\n",
    "- First horizontal line of rectangle shape of box plot is First quartile or 25%\n",
    "\n",
    "- Second horizontal line of rectangle shape of box plot is Second quartile or 50% or median.\n",
    "\n",
    "- Third horizontal line of rectangle shape of box plot is third quartile or 75%\n",
    "\n",
    "- Top horizontal line of rectangle shape of box plot is maximum value.\n",
    "\n",
    "\n"
   ]
  },
  {
   "cell_type": "code",
   "execution_count": null,
   "id": "17817789",
   "metadata": {
    "execution": {
     "iopub.execute_input": "2022-04-13T21:20:16.205233Z",
     "iopub.status.busy": "2022-04-13T21:20:16.205027Z",
     "iopub.status.idle": "2022-04-13T21:20:16.263571Z",
     "shell.execute_reply": "2022-04-13T21:20:16.263168Z"
    },
    "papermill": {
     "duration": 0.278811,
     "end_time": "2022-04-13T21:20:16.265747",
     "exception": false,
     "start_time": "2022-04-13T21:20:15.986936",
     "status": "completed"
    },
    "tags": []
   },
   "outputs": [],
   "source": [
    "'''quant_boxplot = quantifier_rating_table[['QUANT_ID', 'QUANT_VALUE']].copy()\n",
    "fig_box = px.box(quant_boxplot, x=\"QUANT_ID\", y=\"QUANT_VALUE\", points=False)\n",
    "fig_box'''"
   ]
  },
  {
   "cell_type": "code",
   "execution_count": null,
   "id": "8f351c9a",
   "metadata": {},
   "outputs": [],
   "source": [
    "'''\n",
    "pr = praise_tools.praise_quantifier(praisedata=praise_distribution,quantifiertable=quantifier_rating_table)\n",
    "'''"
   ]
  },
  {
   "cell_type": "markdown",
   "id": "4f95f65a",
   "metadata": {},
   "source": [
    "### Score displacement: tendency to under/over-scoring?"
   ]
  },
  {
   "cell_type": "code",
   "execution_count": null,
   "id": "c9111c27",
   "metadata": {},
   "outputs": [],
   "source": [
    "'''fig=pr.plot_mean_displacement()\n",
    "fig.show()'''"
   ]
  },
  {
   "cell_type": "markdown",
   "id": "ba23d675",
   "metadata": {},
   "source": [
    "### Scoring correlation: how similiar am I scoring with others?"
   ]
  },
  {
   "cell_type": "code",
   "execution_count": null,
   "id": "e2da4d3d",
   "metadata": {},
   "outputs": [],
   "source": [
    "'''fig=pr.plot_coefficient()\n",
    "fig.show()'''"
   ]
  },
  {
   "cell_type": "markdown",
   "id": "1bbc7886",
   "metadata": {},
   "source": [
    "## Agreement on duplication"
   ]
  },
  {
   "cell_type": "code",
   "execution_count": null,
   "id": "44be292b",
   "metadata": {},
   "outputs": [],
   "source": [
    "'''# pre-process to remove None\n",
    "dup_agree_check = sort_by_controversial.copy()\n",
    "\n",
    "for k in range(1,NUMBER_OF_QUANTIFIERS_PER_PRAISE+1):\n",
    "    col = 'DUPLICATE ID '+str(k)\n",
    "    dup_agree_check.loc[dup_agree_check[col].isnull(),col]=0\n",
    "\n",
    "dup_agree_check['DUPLICATION AGREED'] = [len(set(kk))==1 for kk in dup_agree_check[col_dupids].values]'''"
   ]
  },
  {
   "cell_type": "code",
   "execution_count": null,
   "id": "3faf4023",
   "metadata": {},
   "outputs": [],
   "source": [
    "'''# output the duplication disagreement\n",
    "duplication_disagreement = dup_agree_check.loc[dup_agree_check['DUPLICATION AGREED']!=True,:]\n",
    "\n",
    "duplication_disagreement = duplication_disagreement.drop(['SPREAD']+col_scores+col_dismissed, axis=1)\n",
    "\n",
    "md(f'Among **{len(dup_agree_check)}** praises, **{len(duplication_disagreement)} ({len(duplication_disagreement)/len(praise_distribution)*100:.2f}%)** do not agree on duplication')'''"
   ]
  },
  {
   "cell_type": "markdown",
   "id": "e60212a2",
   "metadata": {},
   "source": [
    "Praise instances with disagreements in duplication are collected in 'results/duplication_examination.csv'. To compare, look at the last 4 columns: 'DUPLICATE MSG 1/2/3' and 'ORIGINAL MSG'."
   ]
  },
  {
   "cell_type": "code",
   "execution_count": null,
   "id": "0dcaeb92",
   "metadata": {},
   "outputs": [],
   "source": [
    "'''duplication_disagreement['ORIGINAL MSG']=duplication_disagreement['REASON'] # replicate this column just after the other messages for easy comparison\n",
    "\n",
    "duplication_disagreement.to_csv('duplication_examination.csv')'''"
   ]
  },
  {
   "cell_type": "markdown",
   "id": "23ac3793",
   "metadata": {},
   "source": [
    "## Agreement on dismissal"
   ]
  },
  {
   "cell_type": "code",
   "execution_count": null,
   "id": "201537d9",
   "metadata": {},
   "outputs": [],
   "source": [
    "'''# pre-process to remove None\n",
    "dism_agree_check = sort_by_controversial.copy()\n",
    "\n",
    "for k in range(1,NUMBER_OF_QUANTIFIERS_PER_PRAISE+1):\n",
    "    col = 'DISMISSED '+str(k)\n",
    "    dism_agree_check.loc[dism_agree_check[col].isnull(),col]=0\n",
    "\n",
    "\n",
    "dism_agree_check['DISMISSAL AGREED'] = [len(set(kk))==1 for kk in dism_agree_check[col_dismissed].values]\n",
    "\n",
    "dismiss_disagreement = dism_agree_check.loc[dism_agree_check['DISMISSAL AGREED']==False,:]\n",
    "dismiss_disagreement= dismiss_disagreement.drop(col_scores+col_dupids+['SPREAD'],axis=1)'''"
   ]
  },
  {
   "cell_type": "code",
   "execution_count": null,
   "id": "8ec07ef5",
   "metadata": {},
   "outputs": [],
   "source": [
    "\n",
    "'''dismiss_disagreement['ORIGINAL MSG']=dismiss_disagreement['REASON'] # replicate this column just after the other messages for easy comparison\n",
    "\n",
    "dismiss_disagreement.to_csv('dismissal_disagreed.csv')\n",
    "\n",
    "md(f'Among **{len(dism_agree_check)}** praises, **{len(dismiss_disagreement)} ({len(dismiss_disagreement)/len(praise_distribution)*100:.2f}%)** do not agree on dismissal')'''\n",
    "\n"
   ]
  },
  {
   "cell_type": "markdown",
   "id": "74295e31",
   "metadata": {},
   "source": [
    "Praise instances with disagreements in dismissal are collected in'results/dismissal_disaggreed.csv'. You can further look into who dismissed and who did not. \n",
    "\n"
   ]
  }
 ],
 "metadata": {
  "celltoolbar": "Tags",
  "hide_input": false,
  "kernelspec": {
   "display_name": "Python 3.10.5 64-bit",
   "language": "python",
   "name": "python3"
  },
  "language_info": {
   "codemirror_mode": {
    "name": "ipython",
    "version": 3
   },
   "file_extension": ".py",
   "mimetype": "text/x-python",
   "name": "python",
   "nbconvert_exporter": "python",
   "pygments_lexer": "ipython3",
   "version": "3.10.5"
  },
  "toc": {
   "base_numbering": 1,
   "nav_menu": {},
   "number_sections": true,
   "sideBar": true,
   "skip_h1_title": false,
   "title_cell": "Table of Contents",
   "title_sidebar": "Contents",
   "toc_cell": false,
   "toc_position": {
    "height": "calc(100% - 180px)",
    "left": "10px",
    "top": "150px",
    "width": "303.188px"
   },
   "toc_section_display": true,
   "toc_window_display": true
  },
  "vscode": {
   "interpreter": {
    "hash": "aee8b7b246df8f9039afb4144a1f6fd8d2ca17a180786b69acc140d282b71a49"
   }
  }
 },
 "nbformat": 4,
 "nbformat_minor": 5
}
