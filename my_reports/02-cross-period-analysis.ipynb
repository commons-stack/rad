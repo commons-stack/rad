{
 "cells": [
  {
   "cell_type": "code",
   "execution_count": null,
   "id": "5fe4a709",
   "metadata": {
    "tags": [
     "parameters"
    ]
   },
   "outputs": [],
   "source": [
    "parameters_path = \"\"\n",
    "parameters_path = \"../test_data/period-1/parameters.json\"\n"
   ]
  },
  {
   "cell_type": "code",
   "execution_count": null,
   "id": "79cda764",
   "metadata": {},
   "outputs": [],
   "source": [
    "from rad import importer\n",
    "\n",
    "import rad.praise.analysis as pr_analysis\n",
    "import rad.praise.export as pr_export\n",
    "import os\n",
    "import pandas as pd\n",
    "from IPython.display import Markdown as md\n",
    "import plotly.graph_objects as go\n",
    "import plotly.express as px\n",
    "\n",
    "#load the files\n",
    "\n",
    "#paths = [\"../test_data/cross_period_exp/round-11/parameters.json\",\"../test_data/cross_period_exp/round-12/parameters.json\",\"../test_data/cross_period_exp/round-13/parameters.json\",\"../test_data/cross_period_exp/round-14/parameters.json\"]\n",
    "#path = \"../test_data/cross_period_exp\"\n",
    "\n",
    "#print(os.listdir(\".\"))\n",
    "\n",
    "categ_keywords = {'attendance':'join|attend|show up|participat','discussion':'question|ask|discuss|discussion','work':'help|work|design|make|write|hack|edit','lead':'host|lead|initiate|form|organize|steward','share':'share|spread','twitter':'twitter|tweet','hack':'hack|test','general':'support|awesome','IRL':'trip|conference'}\n",
    "\n",
    "\n",
    "NUMBER_OF_PERIODS = 8 \n",
    "STEP_SIZE = 'W'\n",
    "\n",
    "\n",
    "#(rwdObj, rwdDist) = importer.load_multiple_periods(path, config={\"mode\":\"root_folder\"})\n",
    "(rwdObj, rwdDist) = importer.load_multiple_periods(parameters_path)\n",
    "\n",
    "\n",
    "#print(rwdDist)\n",
    "\n",
    "#rwdDist['DATE'] = rwdDist.to_datetime(rwdDist['DATE'])\n",
    "\n",
    "allrounds_distribution_data = pr_analysis.cross_period_helpers.combine_distribution_table(rwdDist[\"praise\"])\n",
    "\n",
    "\n",
    "\n",
    "\n",
    "allrounds_df = pr_analysis.cross_period_helpers.combine_quantification_data(rwdDist[\"praise\"])\n",
    "\n",
    "\n",
    "\n",
    "#print(allrounds_df)\n"
   ]
  },
  {
   "cell_type": "markdown",
   "id": "326ca887",
   "metadata": {},
   "source": [
    "# Cross-Period Analysis Report\n",
    "This report aims to offer a perspective on the activity inside the praise system over several rounds."
   ]
  },
  {
   "cell_type": "code",
   "execution_count": null,
   "id": "61409884",
   "metadata": {},
   "outputs": [],
   "source": [
    "md(f\"This report will cover <b>{NUMBER_OF_PERIODS}</b> weeks, divided into blocks of <b>{STEP_SIZE}</b> weeks each.\")\n"
   ]
  },
  {
   "cell_type": "markdown",
   "id": "60167805",
   "metadata": {},
   "source": [
    "# General Statistics\n",
    "The full range will be subdivided into the following periods:"
   ]
  },
  {
   "cell_type": "code",
   "execution_count": null,
   "id": "a538fc73",
   "metadata": {},
   "outputs": [],
   "source": [
    "end_date = allrounds_df[\"DATE\"].max().ceil(\"D\")\n",
    "\n",
    "\n",
    "\n",
    "dates=pd.date_range(end=end_date, periods=NUMBER_OF_PERIODS, freq=STEP_SIZE)\n",
    "\n",
    "print(dates)"
   ]
  },
  {
   "cell_type": "code",
   "execution_count": null,
   "id": "d18bc3d7",
   "metadata": {
    "scrolled": false
   },
   "outputs": [],
   "source": [
    "\"\"\" round_stats \"\"\"\n",
    "\n",
    "round_stats = pr_analysis.cross_period_round_stats.run(allrounds_df)\n",
    "\n",
    "#print(round_stats)\n",
    "#print(round_stats.iloc[0][\"round_user_list\"])\n",
    "#print(type(round_stats.iloc[0][\"round_user_list\"]))"
   ]
  },
  {
   "cell_type": "markdown",
   "id": "1be6baf2",
   "metadata": {},
   "source": [
    "## Praise Involvement"
   ]
  },
  {
   "cell_type": "markdown",
   "id": "822d322d",
   "metadata": {},
   "source": [
    "### How much praise? \n",
    "This graph shows the trend of total number of praise instances across time."
   ]
  },
  {
   "cell_type": "code",
   "execution_count": null,
   "id": "3e24a823",
   "metadata": {},
   "outputs": [],
   "source": [
    "pr_analysis.cross_period_round_stats.printGraph(allrounds_df, _config={\"x\":\"period_start_time\", \"y\":\"total_praise\"})\n"
   ]
  },
  {
   "cell_type": "markdown",
   "id": "3eef7b85",
   "metadata": {},
   "source": [
    "### How many people give and receive praise?\n",
    "Counting the unique ID of praise givers and receivers, we can visualize the change across time. In the figure, the blue line represents the amount of praise receivers and thered line the amount of givers."
   ]
  },
  {
   "cell_type": "code",
   "execution_count": null,
   "id": "06c0a647",
   "metadata": {},
   "outputs": [],
   "source": [
    "pr_analysis.cross_period_round_stats.printGraph(allrounds_df, _config={\"x\":\"period_start_time\", \"y\":[\"total_praise_receivers\",\"total_praise_givers\"]})\n"
   ]
  },
  {
   "cell_type": "markdown",
   "id": "fc4ca3a0",
   "metadata": {},
   "source": [
    "## Quantifier Involvement\n",
    "Showing how many quantifiers are involved in each round."
   ]
  },
  {
   "cell_type": "code",
   "execution_count": null,
   "id": "68eacac2",
   "metadata": {},
   "outputs": [],
   "source": [
    "pr_analysis.cross_period_round_stats.printGraph(allrounds_df, _config={\"x\":\"period_start_time\", \"y\":\"total_quantifiers\"})"
   ]
  },
  {
   "cell_type": "markdown",
   "id": "148db817",
   "metadata": {},
   "source": [
    "### Quantifier trend"
   ]
  },
  {
   "cell_type": "markdown",
   "id": "2e4ae456",
   "metadata": {},
   "source": [
    "### average score displacement: tendency to under/over-estimate?"
   ]
  },
  {
   "cell_type": "code",
   "execution_count": null,
   "id": "ec886aa7",
   "metadata": {},
   "outputs": [],
   "source": [
    "pr_analysis.cross_period_quantifier_stats.printGraph(allrounds_df,_config={\"y\":\"pearson_coef\"} )"
   ]
  },
  {
   "cell_type": "markdown",
   "id": "36527731",
   "metadata": {},
   "source": [
    "### average score correlation coefficient: how much do i agree with other people?"
   ]
  },
  {
   "cell_type": "code",
   "execution_count": null,
   "id": "f8121c07",
   "metadata": {},
   "outputs": [],
   "source": [
    "pr_analysis.cross_period_quantifier_stats.printGraph(allrounds_df,_config={\"y\":\"av_score_displacement\"} )"
   ]
  },
  {
   "cell_type": "markdown",
   "id": "0bd05bfc",
   "metadata": {},
   "source": [
    "# System Health Evaluation"
   ]
  },
  {
   "cell_type": "markdown",
   "id": "526f8477",
   "metadata": {},
   "source": [
    "## Number of new TEC members involved in praise (either giving or receiving)\n",
    "Counting the round-by-round change of unique IDs being either praise giver or praise receiver."
   ]
  },
  {
   "cell_type": "markdown",
   "id": "b60e4c03",
   "metadata": {},
   "source": [
    "The blue line represents new IDs in this round, the red line represents IDs that are absent in this round but were present in the last round. The green line shows the net difference, with above 0 meaning more people joined praise than people left and below 0 meaning the opposite."
   ]
  },
  {
   "cell_type": "code",
   "execution_count": null,
   "id": "9a688024",
   "metadata": {},
   "outputs": [],
   "source": [
    "pr_analysis.cross_period_round_stats.printGraph(allrounds_df, _config={\"x\":\"period_start_time\", \"y\":[\"round_user_new\",\"round_user_left\",\"round_net_user_diff\"]})\n"
   ]
  },
  {
   "cell_type": "markdown",
   "id": "bc6e2a29",
   "metadata": {},
   "source": [
    "## Distribution Equality"
   ]
  },
  {
   "cell_type": "markdown",
   "id": "699f3461",
   "metadata": {},
   "source": [
    "### Nakamoto Coefficient\n",
    "\n",
    "The Nakamato Coefficient is defined as the smallest number of accounts who control at least 50% of the resource. Although its significance relates to the prospect of a 51% attack on a network, which may not be relevant in our context, we can still use it as an intuitive measure of how many individuals received the majority of rewards.\n",
    "\n",
    "Bigger coefficient means more distributed (i.e. needs more people to pass 50%), smaller means more concentrated power. The number should always be an integer."
   ]
  },
  {
   "cell_type": "code",
   "execution_count": null,
   "id": "50215949",
   "metadata": {},
   "outputs": [],
   "source": [
    "# TODO: DOESNT FIT DIRECTLY INTO TIME-BASED ROUND STATS, REVIEW LATER\n",
    "\"\"\" \n",
    "def nakamoto_coeff(x, key):\n",
    "    value_sum= x[key].sum()\n",
    "    x['PERCENTAGE'] = x[key] / value_sum\n",
    "    sorted_x = x.sort_values(by='PERCENTAGE', ascending=False)\n",
    "    tot_sum = np.array(sorted_x['PERCENTAGE'].cumsum())\n",
    "    try:\n",
    "        winner = np.array([k for k in range(len(tot_sum))\n",
    "                          if tot_sum[k] > 0.5]).min() + 1\n",
    "    except:\n",
    "        winner = -1\n",
    "    return winner\n",
    "def nakamoto_coeff_ratio(x, key):\n",
    "    winner = nakamoto_coeff(x, key)\n",
    "    ratio = winner / len(x)\n",
    "    return ratio \"\"\"\n",
    "\n",
    "\"\"\" round_stats['nakamoto']  = [nakamoto_coeff(allrounds_finaldist[round_name],'PRAISE REWARDS') for round_name in roundname_list]\n",
    "round_stats['nakamoto_ratio']= [nakamoto_coeff_ratio(allrounds_finaldist[round_name],'PRAISE REWARDS') for round_name in roundname_list]\n",
    "px.line(round_stats,x='period_start_time',y='nakamoto',markers=True,title='Minimum number of people receiving 50% of total rewards')\n",
    "\n",
    "px.line(round_stats,x='period_start_time',y='nakamoto_ratio',markers=True,title='Ratio of people accumulating 50% of total rewards in relation to total number of receivers in that round') \"\"\"\n"
   ]
  },
  {
   "cell_type": "markdown",
   "id": "9071942b",
   "metadata": {},
   "source": [
    "# Categorizing praise based on the praise reason"
   ]
  },
  {
   "cell_type": "code",
   "execution_count": null,
   "id": "3277c78f",
   "metadata": {},
   "outputs": [],
   "source": [
    "#categ_praise_df,category_df = categorize_praise(master_allrounds,categ_keywords,save_csv=True)\n",
    "\n"
   ]
  },
  {
   "cell_type": "markdown",
   "id": "e4d4b99a",
   "metadata": {},
   "source": [
    "##  the average, min, max score of each category\n"
   ]
  },
  {
   "cell_type": "code",
   "execution_count": null,
   "id": "e7c6dbbc",
   "metadata": {},
   "outputs": [],
   "source": [
    "#TODO Fix print\n",
    "res = pr_analysis.cross_period_category_analysis.printDescription(allrounds_df, categ_keywords, _config={\"mode\":\"summary-table\", \"num\":\"2\"})\n",
    "#print(res)"
   ]
  },
  {
   "cell_type": "code",
   "execution_count": null,
   "id": "f6585784",
   "metadata": {},
   "outputs": [],
   "source": [
    "#TODO Fix print\n",
    "\n",
    "pr_analysis.cross_period_category_analysis.printGraph(allrounds_df, categ_keywords, _config={\"mode\":\"avg-stats\", \"num\":\"3\"})\n",
    "\n"
   ]
  },
  {
   "cell_type": "markdown",
   "id": "e850a9cd",
   "metadata": {},
   "source": [
    "## Top 3 highest scored praise in each category\n",
    "A convenient way to check if the categorization keywords are reasonable."
   ]
  },
  {
   "cell_type": "code",
   "execution_count": null,
   "id": "cea8ccfa",
   "metadata": {
    "scrolled": true
   },
   "outputs": [],
   "source": [
    "#TODO fix styling\n",
    "\n",
    "pr_analysis.cross_period_category_analysis.printDescription(allrounds_df, categ_keywords, _config={\"mode\":\"top-scored\", \"num\":\"3\"})"
   ]
  },
  {
   "cell_type": "markdown",
   "id": "30deb699",
   "metadata": {},
   "source": [
    "## trend across time"
   ]
  },
  {
   "cell_type": "code",
   "execution_count": null,
   "id": "79c5932f",
   "metadata": {},
   "outputs": [],
   "source": [
    "#test\n",
    "#test_df = pr_analysis.cross_period_category_analysis.run(allrounds_df, categ_keywords)\n",
    "#df = pr_analysis.cross_period_category_analysis.get_categ_stats(test_df, categ_keywords)\n",
    "#df\n"
   ]
  },
  {
   "cell_type": "code",
   "execution_count": null,
   "id": "86244914",
   "metadata": {},
   "outputs": [],
   "source": [
    "\"\"\" px.line(round_stats.filter(like='num'),title='number of praise in each category, across time') \"\"\"\n",
    "\n",
    "pr_analysis.cross_period_category_analysis.printGraph(allrounds_df, categ_keywords, _config={\"mode\":\"trend\", \"y\":\"num\"})\n",
    "\n"
   ]
  },
  {
   "cell_type": "code",
   "execution_count": null,
   "id": "94a4fd3c",
   "metadata": {},
   "outputs": [],
   "source": [
    "\"\"\" px.line(round_stats.filter(like='_avg_score'),title='mean score of each category, across time') \"\"\"\n",
    "\n",
    "pr_analysis.cross_period_category_analysis.printGraph(allrounds_df, categ_keywords, _config={\"mode\":\"trend\", \"y\":\"_avg_score\"})\n"
   ]
  }
 ],
 "metadata": {
  "celltoolbar": "Tags",
  "hide_input": false,
  "kernelspec": {
   "display_name": "Python 3 (ipykernel)",
   "language": "python",
   "name": "python3"
  },
  "language_info": {
   "codemirror_mode": {
    "name": "ipython",
    "version": 3
   },
   "file_extension": ".py",
   "mimetype": "text/x-python",
   "name": "python",
   "nbconvert_exporter": "python",
   "pygments_lexer": "ipython3",
   "version": "3.10.5"
  },
  "toc": {
   "base_numbering": 1,
   "nav_menu": {},
   "number_sections": true,
   "sideBar": true,
   "skip_h1_title": false,
   "title_cell": "Table of Contents",
   "title_sidebar": "Contents",
   "toc_cell": false,
   "toc_position": {},
   "toc_section_display": true,
   "toc_window_display": true
  },
  "vscode": {
   "interpreter": {
    "hash": "916dbcbb3f70747c44a77c7bcd40155683ae19c65e1c03b4aa3499c5328201f1"
   }
  }
 },
 "nbformat": 4,
 "nbformat_minor": 5
}
