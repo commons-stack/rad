{
 "cells": [
  {
   "cell_type": "code",
   "execution_count": 1,
   "metadata": {
    "tags": [
     "parameters"
    ]
   },
   "outputs": [],
   "source": [
    "parameters_path = \"\""
   ]
  },
  {
   "cell_type": "code",
   "execution_count": 2,
   "metadata": {},
   "outputs": [],
   "source": [
    "\n",
    "from rad import importer\n",
    "\n",
    "import rad.praise.analysis as pr_analysis\n",
    "import rad.praise.export as pr_export\n",
    "import os\n",
    "\n"
   ]
  },
  {
   "cell_type": "code",
   "execution_count": 3,
   "metadata": {},
   "outputs": [
    {
     "name": "stdout",
     "output_type": "stream",
     "text": [
      "{'praise': [<rad.praise.distribution.standard_praise.PraiseDistribution object at 0x7f11440530d0>], 'straight_distribution': [<rad.straight_distribution.distribution.straightDistribution.StraightDistribution object at 0x7f10fac16ad0>]}\n",
      "     index      USER IDENTITY                                USER ADDRESS  \\\n",
      "0        0       Tam2140#9361  0xcf79c7eaec5bdc1a9e32d099c5d6bdf67e4cf6e8   \n",
      "1        1     Juankbell#7458  0x7d547666209755fb833f9b37eebea38ebf513abb   \n",
      "2        2  griff (💜, 💜)#8888  0x839395e20bbb182fa440d08f850e6c7a8f6f0780   \n",
      "3        3       Vyvy-vi#5040  0x2fa130927814b590623031e846f059df9554fdde   \n",
      "4        4      durgadas#9280  0xff6d6a7718a234a84f740480dbb07f6c09cf1cd5   \n",
      "..     ...                ...                                         ...   \n",
      "115    115         Kojak#5611  0xe3181f4596509af72d684d89947df309f41f65ff   \n",
      "116    116        Ronald#6940  0x1210ba92eb82cc256213c78f0ef9d5212c7034a9   \n",
      "117    117          Loie#2921                        missing user address   \n",
      "118    118         blume#0146  0x88f5b00db5b39070a3a80ffada765b9cf8c2584b   \n",
      "119    119         s_ben#7872                        missing user address   \n",
      "\n",
      "     PRAISE_REWARD  QUANT_REWARD  NR_OF_PRAISES_QUANTIFIED  TOTAL TO RECEIVE  \n",
      "0       219.187924      3.190376                      31.0        222.378300  \n",
      "1       129.320920      0.000000                       0.0        129.320920  \n",
      "2       120.118460      0.000000                       0.0        120.118460  \n",
      "3       104.952192     11.835266                     115.0        116.787459  \n",
      "4        99.997368      0.000000                       0.0         99.997368  \n",
      "..             ...           ...                       ...               ...  \n",
      "115       0.450439      0.000000                       0.0          0.450439  \n",
      "116       0.450439      0.000000                       0.0          0.450439  \n",
      "117       0.450439      0.000000                       0.0          0.450439  \n",
      "118       0.450439      0.000000                       0.0          0.450439  \n",
      "119       0.450439      0.000000                       0.0          0.450439  \n",
      "\n",
      "[120 rows x 7 columns]\n",
      "<class 'pandas.core.frame.DataFrame'>\n"
     ]
    }
   ],
   "source": [
    "#print(os.listdir())\n",
    "paths = [\"../test_data/period-1/parameters.json\"]\n",
    "(rwdOj, rwdDist) = importer.load_multiple_periods(paths, config={\"mode\":\"file_list\"})\n",
    "\n",
    "print(rwdDist)\n",
    "\n",
    "buf1 = pr_analysis.cross_period_helpers.combine_distribution_table(rwdDist[\"praise\"])\n",
    "\n",
    "\n",
    "print(buf1)\n",
    "\n",
    "\n",
    "buf2 = pr_analysis.cross_period_helpers.combine_quantifier_data(rwdDist[\"praise\"])\n",
    "\n",
    "print(buf2)"
   ]
  },
  {
   "cell_type": "code",
   "execution_count": null,
   "metadata": {},
   "outputs": [],
   "source": []
  }
 ],
 "metadata": {
  "celltoolbar": "Tags",
  "kernelspec": {
   "display_name": "Python 3 (ipykernel)",
   "language": "python",
   "name": "python3"
  },
  "language_info": {
   "codemirror_mode": {
    "name": "ipython",
    "version": 3
   },
   "file_extension": ".py",
   "mimetype": "text/x-python",
   "name": "python",
   "nbconvert_exporter": "python",
   "pygments_lexer": "ipython3",
   "version": "3.10.5"
  },
  "vscode": {
   "interpreter": {
    "hash": "aee8b7b246df8f9039afb4144a1f6fd8d2ca17a180786b69acc140d282b71a49"
   }
  }
 },
 "nbformat": 4,
 "nbformat_minor": 2
}
