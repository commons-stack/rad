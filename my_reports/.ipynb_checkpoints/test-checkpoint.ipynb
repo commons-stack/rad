{
 "cells": [
  {
   "cell_type": "code",
   "execution_count": 1,
   "metadata": {
    "tags": [
     "parameters"
    ]
   },
   "outputs": [],
   "source": [
    "parameters_path = \"\""
   ]
  },
  {
   "cell_type": "code",
   "execution_count": 2,
   "metadata": {},
   "outputs": [],
   "source": [
    "\n",
    "from rad import importer\n",
    "\n",
    "import rad.praise.analysis as pr_analysis\n",
    "import rad.praise.export as pr_export\n",
    "import os\n",
    "import pandas as pd\n",
    "\n"
   ]
  },
  {
   "cell_type": "code",
   "execution_count": 3,
   "metadata": {},
   "outputs": [
    {
     "name": "stdout",
     "output_type": "stream",
     "text": [
      "{'praise': [<rad.praise.distribution.standard_praise.PraiseDistribution object at 0x7fa17b26f6a0>, <rad.praise.distribution.standard_praise.PraiseDistribution object at 0x7fa17b253610>, <rad.praise.distribution.standard_praise.PraiseDistribution object at 0x7fa131d0b190>, <rad.praise.distribution.standard_praise.PraiseDistribution object at 0x7fa131d0aaa0>]}\n",
      "     index        USER IDENTITY                                USER ADDRESS  \\\n",
      "0        0      Mount Manu#3530  0xa2ef65aececb83cd1bd3579a8669779099317952   \n",
      "1        1        GideonRo#3175  0xb08f0ca73e8a59a1b7970e22b8ed2f9142c3fa53   \n",
      "2        2         liviade#1387  0xf8d1d34956cea24718cf8687588d6fedbc6d9aa6   \n",
      "3        3       Juankbell#7458  0x7d547666209755fb833f9b37eebea38ebf513abb   \n",
      "4        4  chuygarcia.eth#6692  0xb22981ba3fe1de2325935c91a3b717168fb86714   \n",
      "..     ...                  ...                                         ...   \n",
      "398     70    ShahinMridha#9154  0xe33e95e19f927f364d617e35ffb3e92aa29a62b7   \n",
      "399     71     Crypto Zach#6753  0xa6bba3fd4493e614c97e1dfc39fd55759aea4f9a   \n",
      "400     72    Rohekbenitez#8753  0x6c965b656c450259a6d4d95a2e68fb4319eecbc0   \n",
      "401     73           paul2#3057  0x809c9f8dd8ca93a41c3adca4972fa234c28f7714   \n",
      "402     74    logonaut.eth#9437  0xb0ccf43ada6cbaa26dcf4907117b496d49f74242   \n",
      "\n",
      "     PRAISE_REWARD  QUANT_REWARD  NR_OF_PRAISES_QUANTIFIED  TOTAL TO RECEIVE  \\\n",
      "0        89.941964           0.0                       0.0         89.941964   \n",
      "1        85.057911           0.0                       0.0         85.057911   \n",
      "2        73.050363           0.0                       0.0         73.050363   \n",
      "3        62.817408           0.0                       0.0         62.817408   \n",
      "4        62.277178           0.0                       0.0         62.277178   \n",
      "..             ...           ...                       ...               ...   \n",
      "398       1.436423           0.0                       0.0          1.436423   \n",
      "399       1.338746           0.0                       0.0          1.338746   \n",
      "400       0.959530           0.0                       0.0          0.959530   \n",
      "401       0.384961           0.0                       0.0          0.384961   \n",
      "402       0.287285           0.0                       0.0          0.287285   \n",
      "\n",
      "     DIST_ROUND  \n",
      "0             0  \n",
      "1             0  \n",
      "2             0  \n",
      "3             0  \n",
      "4             0  \n",
      "..          ...  \n",
      "398           3  \n",
      "399           3  \n",
      "400           3  \n",
      "401           3  \n",
      "402           3  \n",
      "\n",
      "[403 rows x 8 columns]\n",
      "<class 'list'>\n",
      "      level_0  index                        ID                      DATE  \\\n",
      "0           0     78  6271d63880e3d475393f0e83  2022-05-04T01:26:16.733Z   \n",
      "1           1    106  6272d90e80e3d475393f0f5c  2022-05-04T19:50:38.654Z   \n",
      "2           2    134  6272ddbe80e3d475393f1014  2022-05-04T20:10:38.869Z   \n",
      "3           3     88  6272a4f780e3d475393f0ec5  2022-05-04T16:08:23.770Z   \n",
      "4           4    378  627969b080e3d475393f15d8  2022-05-09T19:21:20.782Z   \n",
      "...       ...    ...                       ...                       ...   \n",
      "1734      229    146  62bb38bbe5133f37b7976841  2022-06-28T17:22:03.650Z   \n",
      "1735      230    156  62bc786ce5133f37b79768a1  2022-06-29T16:06:04.496Z   \n",
      "1736      231    195  62bde5fce5133f37b7976a19  2022-06-30T18:05:48.262Z   \n",
      "1737      232    102  62b7637ae5133f37b79766af  2022-06-25T19:35:22.764Z   \n",
      "1738      233     38  62b374c0e5133f37b7976394  2022-06-22T20:00:00.479Z   \n",
      "\n",
      "                   TO USER ACCOUNT          FROM USER ACCOUNT  \\\n",
      "0                   kristofer#1475              mattyjee#8621   \n",
      "1                  Mount Manu#3530               liviade#1387   \n",
      "2              chuygarcia.eth#6692               Tam2140#9361   \n",
      "3              chuygarcia.eth#6692             Juankbell#7458   \n",
      "4                  Mount Manu#3530               bear100#9085   \n",
      "...                            ...                        ...   \n",
      "1734               Mount Manu#3530            acidlazzer#5796   \n",
      "1735           irenioskamoska#7519                 bends#3537   \n",
      "1736                  bear100#9085              GideonRo#3175   \n",
      "1737  Davide | ValueUnbanking#1449  pat.zip (TE Academy)#5266   \n",
      "1738                 Zeptimus#3359       divine_comedian#5493   \n",
      "\n",
      "                                                 REASON  SCORE 1  SCORE 2  \\\n",
      "0     for calling me out when i made a rude comment ...      8.0     21.0   \n",
      "1     for transcribing weeks and weeks of Praise fro...      5.0    144.0   \n",
      "2     for being the TEC fam who went to Amsterdam an...     13.0    144.0   \n",
      "3     for traveling out of country, or out of contin...      5.0    144.0   \n",
      "4     For his consistency and effort transcribing al...      8.0    144.0   \n",
      "...                                                 ...      ...      ...   \n",
      "1734  for joining and hosting today´s Marketing TEAM...      3.0      3.0   \n",
      "1735      for contributing to a productive gravity sync      5.0      5.0   \n",
      "1736  for organizing the Sampo Clarity base, thinkin...     13.0     13.0   \n",
      "1737  Thank you for preparing and hosting session #5...     34.0     34.0   \n",
      "1738          for coming to the weekly rewards WG sync!      3.0      3.0   \n",
      "\n",
      "      SCORE 3  ...  DISMISSED 3 DISMISSED 4      QUANTIFIER 1 USERNAME  \\\n",
      "0         3.0  ...        False       False          eduardovegap#0422   \n",
      "1        13.0  ...        False       False              missgene#7773   \n",
      "2         5.0  ...        False       False              missgene#7773   \n",
      "3        13.0  ...        False       False              missgene#7773   \n",
      "4         8.0  ...        False       False              missgene#7773   \n",
      "...       ...  ...          ...         ...                        ...   \n",
      "1734      NaN  ...        False       False            hanners717#2022   \n",
      "1735      NaN  ...        False       False            hanners717#2022   \n",
      "1736      NaN  ...        False       False  pat.zip (TE Academy)#5266   \n",
      "1737      NaN  ...        False       False  pat.zip (TE Academy)#5266   \n",
      "1738      NaN  ...        False       False            hanners717#2022   \n",
      "\n",
      "          QUANTIFIER 2 USERNAME QUANTIFIER 3 USERNAME  QUANTIFIER 4 USERNAME  \\\n",
      "0                 tigeroid#2951            bends#3537       boonjue.eth#7124   \n",
      "1     pat.zip (TE Academy)#5266     Usua◎ Silver#2618      osycross(🦎🦎)#5943   \n",
      "2     pat.zip (TE Academy)#5266            bends#3537       boonjue.eth#7124   \n",
      "3     pat.zip (TE Academy)#5266            bends#3537       boonjue.eth#7124   \n",
      "4     pat.zip (TE Academy)#5266     Usua◎ Silver#2618      osycross(🦎🦎)#5943   \n",
      "...                         ...                   ...                    ...   \n",
      "1734               bear100#9085            tonga#3112        Mike Brunt#0745   \n",
      "1735               bear100#9085            tonga#3112        Mike Brunt#0745   \n",
      "1736       divine_comedian#5493            tonga#3112        Mike Brunt#0745   \n",
      "1737       divine_comedian#5493            tonga#3112        innov8tor3#3988   \n",
      "1738       divine_comedian#5493            tonga#3112        innov8tor3#3988   \n",
      "\n",
      "      AVG SCORE  SPREAD  MAX SCORE DIST_ROUND  \n",
      "0         44.00   141.0      144.0          0  \n",
      "1         54.00   139.0      144.0          0  \n",
      "2         76.50   139.0      144.0          0  \n",
      "3         41.75   139.0      144.0          0  \n",
      "4         10.13   136.0      144.0          0  \n",
      "...         ...     ...        ...        ...  \n",
      "1734       3.00     0.0        3.0          3  \n",
      "1735       5.00     0.0        5.0          3  \n",
      "1736      13.00     0.0       13.0          3  \n",
      "1737      34.00     0.0       34.0          3  \n",
      "1738       3.00     0.0        3.0          3  \n",
      "\n",
      "[1739 rows x 27 columns]\n"
     ]
    }
   ],
   "source": [
    "#print(os.listdir())\n",
    "paths = [\"../test_data/cross_period_exp/round-11/parameters.json\",\"../test_data/cross_period_exp/round-12/parameters.json\",\"../test_data/cross_period_exp/round-13/parameters.json\",\"../test_data/cross_period_exp/round-14/parameters.json\"]\n",
    "(rwdOj, rwdDist) = importer.load_multiple_periods(paths, config={\"mode\":\"file_list\"})\n",
    "\n",
    "print(rwdDist)\n",
    "\n",
    "buf1 = pr_analysis.cross_period_helpers.combine_distribution_table(rwdDist[\"praise\"])\n",
    "\n",
    "\n",
    "print(buf1)\n",
    "\n",
    "\n",
    "buf2 = pr_analysis.cross_period_helpers.combine_quantifier_data(rwdDist[\"praise\"])\n",
    "\n",
    "print(buf2)"
   ]
  },
  {
   "cell_type": "code",
   "execution_count": 4,
   "metadata": {},
   "outputs": [
    {
     "ename": "NameError",
     "evalue": "name 'pd' is not defined",
     "output_type": "error",
     "traceback": [
      "\u001b[0;31m---------------------------------------------------------------------------\u001b[0m",
      "\u001b[0;31mNameError\u001b[0m                                 Traceback (most recent call last)",
      "Input \u001b[0;32mIn [4]\u001b[0m, in \u001b[0;36m<cell line: 1>\u001b[0;34m()\u001b[0m\n\u001b[0;32m----> 1\u001b[0m buf2\u001b[38;5;241m.\u001b[39mgroupby(\u001b[43mpd\u001b[49m\u001b[38;5;241m.\u001b[39mGrouper(key\u001b[38;5;241m=\u001b[39m\u001b[38;5;124m'\u001b[39m\u001b[38;5;124mDATE\u001b[39m\u001b[38;5;124m'\u001b[39m, axis\u001b[38;5;241m=\u001b[39m\u001b[38;5;241m0\u001b[39m, \n\u001b[1;32m      2\u001b[0m                       freq\u001b[38;5;241m=\u001b[39m\u001b[38;5;124m'\u001b[39m\u001b[38;5;124mW\u001b[39m\u001b[38;5;124m'\u001b[39m))\n",
      "\u001b[0;31mNameError\u001b[0m: name 'pd' is not defined"
     ]
    }
   ],
   "source": [
    "buf2.groupby(pd.Grouper(key='DATE', axis=0, \n",
    "                      freq='W'))"
   ]
  }
 ],
 "metadata": {
  "celltoolbar": "Tags",
  "kernelspec": {
   "display_name": "Python 3 (ipykernel)",
   "language": "python",
   "name": "python3"
  },
  "language_info": {
   "codemirror_mode": {
    "name": "ipython",
    "version": 3
   },
   "file_extension": ".py",
   "mimetype": "text/x-python",
   "name": "python",
   "nbconvert_exporter": "python",
   "pygments_lexer": "ipython3",
   "version": "3.10.5"
  },
  "vscode": {
   "interpreter": {
    "hash": "aee8b7b246df8f9039afb4144a1f6fd8d2ca17a180786b69acc140d282b71a49"
   }
  }
 },
 "nbformat": 4,
 "nbformat_minor": 2
}
