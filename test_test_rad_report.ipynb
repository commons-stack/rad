{
 "cells": [
  {
   "cell_type": "code",
   "execution_count": null,
   "id": "651ccaf9",
   "metadata": {
    "tags": [
     "parameters"
    ]
   },
   "outputs": [],
   "source": [
    "input_params= {}"
   ]
  },
  {
   "cell_type": "code",
   "execution_count": null,
   "id": "1b66cc52",
   "metadata": {},
   "outputs": [],
   "source": [
    "import pandas as pd\n",
    "import numpy as np\n",
    "import plotly.express as px\n",
    "import importlib"
   ]
  },
  {
   "cell_type": "markdown",
   "id": "29c39921",
   "metadata": {},
   "source": [
    "# TEST RAD REPORT\n",
    "This is a header template. It is saved in the /reports folder and is a regular notebook which can be adapted."
   ]
  },
  {
   "cell_type": "code",
   "execution_count": null,
   "id": "b14c6c6f",
   "metadata": {},
   "outputs": [],
   "source": [
    "current_analysis = general_summary\n",
    "#print(current_analysis)"
   ]
  },
  {
   "cell_type": "code",
   "execution_count": null,
   "id": "922e1bbb",
   "metadata": {},
   "outputs": [],
   "source": [
    "import importlib\n",
    "mod = importlib.import_module(current_analysis[\"module\"])\n",
    "#display(Markdown(mod.header))\n",
    "#display(Markdown(mod.description))\n",
    "mod.printDescription(current_analysis[\"data\"], current_analysis[\"config\"])\n",
    "mod.printGraph(current_analysis[\"data\"], current_analysis[\"config\"])"
   ]
  },
  {
   "cell_type": "code",
   "execution_count": null,
   "id": "f162a568",
   "metadata": {},
   "outputs": [],
   "source": [
    "current_analysis = praise_score_distribution\n",
    "#print(current_analysis)"
   ]
  },
  {
   "cell_type": "code",
   "execution_count": null,
   "id": "f4e50978",
   "metadata": {},
   "outputs": [],
   "source": [
    "import importlib\n",
    "mod = importlib.import_module(current_analysis[\"module\"])\n",
    "#display(Markdown(mod.header))\n",
    "#display(Markdown(mod.description))\n",
    "mod.printDescription(current_analysis[\"data\"], current_analysis[\"config\"])\n",
    "mod.printGraph(current_analysis[\"data\"], current_analysis[\"config\"])"
   ]
  },
  {
   "cell_type": "code",
   "execution_count": null,
   "id": "0adf1fbb",
   "metadata": {},
   "outputs": [],
   "source": [
    "current_analysis = top_ten_praise\n",
    "#print(current_analysis)"
   ]
  },
  {
   "cell_type": "code",
   "execution_count": null,
   "id": "62be9264",
   "metadata": {},
   "outputs": [],
   "source": [
    "import importlib\n",
    "mod = importlib.import_module(current_analysis[\"module\"])\n",
    "#display(Markdown(mod.header))\n",
    "#display(Markdown(mod.description))\n",
    "mod.printDescription(current_analysis[\"data\"], current_analysis[\"config\"])\n",
    "mod.printGraph(current_analysis[\"data\"], current_analysis[\"config\"])"
   ]
  },
  {
   "cell_type": "code",
   "execution_count": null,
   "id": "92ea5c03",
   "metadata": {},
   "outputs": [],
   "source": [
    "current_analysis = rewardboard_overview\n",
    "#print(current_analysis)"
   ]
  },
  {
   "cell_type": "code",
   "execution_count": null,
   "id": "04ff94b6",
   "metadata": {},
   "outputs": [],
   "source": [
    "import importlib\n",
    "mod = importlib.import_module(current_analysis[\"module\"])\n",
    "#display(Markdown(mod.header))\n",
    "#display(Markdown(mod.description))\n",
    "mod.printDescription(current_analysis[\"data\"], current_analysis[\"config\"])\n",
    "mod.printGraph(current_analysis[\"data\"], current_analysis[\"config\"])"
   ]
  },
  {
   "cell_type": "code",
   "execution_count": null,
   "id": "7d2daac1",
   "metadata": {},
   "outputs": [],
   "source": [
    "current_analysis = praise_histogram\n",
    "#print(current_analysis)"
   ]
  },
  {
   "cell_type": "code",
   "execution_count": null,
   "id": "41f65def",
   "metadata": {},
   "outputs": [],
   "source": [
    "import importlib\n",
    "mod = importlib.import_module(current_analysis[\"module\"])\n",
    "#display(Markdown(mod.header))\n",
    "#display(Markdown(mod.description))\n",
    "mod.printDescription(current_analysis[\"data\"], current_analysis[\"config\"])\n",
    "mod.printGraph(current_analysis[\"data\"], current_analysis[\"config\"])"
   ]
  },
  {
   "cell_type": "code",
   "execution_count": null,
   "id": "9a30e4dc",
   "metadata": {},
   "outputs": [],
   "source": [
    "current_analysis = epoch_praise_flow\n",
    "#print(current_analysis)"
   ]
  },
  {
   "cell_type": "code",
   "execution_count": null,
   "id": "559a3e6c",
   "metadata": {},
   "outputs": [],
   "source": [
    "import importlib\n",
    "mod = importlib.import_module(current_analysis[\"module\"])\n",
    "#display(Markdown(mod.header))\n",
    "#display(Markdown(mod.description))\n",
    "mod.printDescription(current_analysis[\"data\"], current_analysis[\"config\"])\n",
    "mod.printGraph(current_analysis[\"data\"], current_analysis[\"config\"])"
   ]
  },
  {
   "cell_type": "markdown",
   "id": "d8811227",
   "metadata": {},
   "source": [
    "# END OF NOTEBOOK SUMMARY\n",
    "This is a FOOTER template. It is saved in the /reports folder and is a regular notebook which can be adapted.\n"
   ]
  }
 ],
 "metadata": {},
 "nbformat": 4,
 "nbformat_minor": 5
}
