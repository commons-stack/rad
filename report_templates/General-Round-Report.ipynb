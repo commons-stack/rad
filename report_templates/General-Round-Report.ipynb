{
 "cells": [
  {
   "cell_type": "code",
   "execution_count": null,
   "id": "2c1f4ceb",
   "metadata": {
    "tags": [
     "parameters"
    ]
   },
   "outputs": [],
   "source": [
    "parameters_path = \"\"\n"
   ]
  },
  {
   "cell_type": "code",
   "execution_count": null,
   "id": "careful-unemployment",
   "metadata": {
    "scrolled": true,
    "tags": [
     "hide_input"
    ]
   },
   "outputs": [],
   "source": [
    "from rad import importer\n",
    "\n",
    "import rad.praise.analysis as pr_analysis\n",
    "\n",
    "#load the praise objects\n",
    "(reward_system_objects, distribution_objects) = importer.load_sources_from_json(parameters_path)\n"
   ]
  },
  {
   "cell_type": "markdown",
   "id": "indonesian-image",
   "metadata": {},
   "source": [
    "# Rewards Analytics and Distribution Dashboard for Quantification Review\n",
    "This document processes the outputs of the praise reward system and performs an analysis of the resulting token reward distribution. "
   ]
  },
  {
   "cell_type": "markdown",
   "id": "532eeef9",
   "metadata": {},
   "source": [
    "## General round summary"
   ]
  },
  {
   "cell_type": "code",
   "execution_count": null,
   "id": "0b29daa7",
   "metadata": {},
   "outputs": [],
   "source": [
    "pr_analysis.report_summary.printDescription(distribution_objects['tec_praise_dist'])\n",
    "pr_analysis.report_summary.printGraph(distribution_objects['tec_praise_dist'])"
   ]
  },
  {
   "cell_type": "markdown",
   "id": "spoken-provider",
   "metadata": {},
   "source": [
    "# Praise Data Visualization\n",
    "\n"
   ]
  },
  {
   "cell_type": "code",
   "execution_count": null,
   "id": "595d0243",
   "metadata": {},
   "outputs": [],
   "source": [
    "pr_analysis.rating_distribution.printDescription(distribution_objects['tec_praise_dist'])\n",
    "pr_analysis.rating_distribution.printGraph(distribution_objects['tec_praise_dist'])"
   ]
  },
  {
   "cell_type": "markdown",
   "id": "f45d9e4c",
   "metadata": {},
   "source": [
    "### Top 10 highest rated contributions\n"
   ]
  },
  {
   "cell_type": "code",
   "execution_count": null,
   "id": "7e26acd2",
   "metadata": {},
   "outputs": [],
   "source": [
    "#from rad_module.praise.analysis import highest_rated_contributions\n",
    "#display(Markdown(mod.header))\n",
    "#display(Markdown(mod.description))\n",
    "pr_analysis.highest_rated_contributions.printDescription(distribution_objects['tec_praise_dist'])\n",
    "pr_analysis.highest_rated_contributions.printGraph(distribution_objects['tec_praise_dist'])"
   ]
  },
  {
   "cell_type": "markdown",
   "id": "12f4e252",
   "metadata": {},
   "source": [
    "### Praise Reward Distribution\n",
    "\n",
    "We can now take a look at the distribution of the received praise rewards. You can toggle the inclusion of the different sources by clicking on the legend. "
   ]
  },
  {
   "cell_type": "code",
   "execution_count": null,
   "id": "a3f4e76c",
   "metadata": {},
   "outputs": [],
   "source": [
    "\n",
    "pr_analysis.distribution_histogram.printDescription(distribution_objects['tec_praise_dist'])\n",
    "pr_analysis.distribution_histogram.printGraph(distribution_objects['tec_praise_dist'], {\"x\":\"USER IDENTITY\", \"y\":[\"QUANT_REWARD\", \"PRAISE_REWARD\"]})\n"
   ]
  },
  {
   "cell_type": "markdown",
   "id": "7c852260",
   "metadata": {},
   "source": [
    "### Praise Giving Distribution\n",
    "We can also take a look at the amount of praise different users gave. \n"
   ]
  },
  {
   "cell_type": "code",
   "execution_count": null,
   "id": "dd56c0c1",
   "metadata": {
    "scrolled": true
   },
   "outputs": [],
   "source": [
    "\n",
    "pr_analysis.praise_giver_histogram.printDescription(distribution_objects['tec_praise_dist'])\n",
    "pr_analysis.praise_giver_histogram.printGraph(distribution_objects['tec_praise_dist'])\n",
    "\n",
    "\n",
    "\n"
   ]
  },
  {
   "cell_type": "markdown",
   "id": "sufficient-drain",
   "metadata": {},
   "source": [
    "### Praise Flows\n",
    "\n",
    "Now for something more fun: let's surface the top \"praise flows\" from the data. Thanks to @inventandchill for this awesome visualization! \n",
    "On one side we have the top 15 praise givers separately, on the other the top 25 receivers. The people outside the selection get aggregated into the \"REST FROM\" and \"REST TO\" categories."
   ]
  },
  {
   "cell_type": "code",
   "execution_count": null,
   "id": "competent-cleveland",
   "metadata": {
    "jupyter": {
     "source_hidden": true
    }
   },
   "outputs": [],
   "source": [
    "# Config specifying how many of the top users to show\n",
    "#NUMBER_OF_SENDERS: The left side. X largest ones + one bucket for the rest\n",
    "#NUMBER_OF_RECEIVERS: The right side. Y largest ones + one bucket for the rest \n",
    "\n",
    "config = {\n",
    "    \"num-senders\" : 15, \n",
    "    \"num-receivers\" : 25 \n",
    "}\n",
    "\n",
    "pr_analysis.praise_flow.printDescription(distribution_objects['tec_praise_dist'], config)\n",
    "pr_analysis.praise_flow.printGraph(distribution_objects['tec_praise_dist'], config)\n"
   ]
  }
 ],
 "metadata": {
  "celltoolbar": "Tags",
  "hide_input": false,
  "kernelspec": {
   "display_name": "Python 3",
   "language": "python",
   "name": "python3"
  },
  "language_info": {
   "codemirror_mode": {
    "name": "ipython",
    "version": 3
   },
   "file_extension": ".py",
   "mimetype": "text/x-python",
   "name": "python",
   "nbconvert_exporter": "python",
   "pygments_lexer": "ipython3",
   "version": "3.10.6"
  },
  "toc": {
   "base_numbering": 1,
   "nav_menu": {},
   "number_sections": true,
   "sideBar": true,
   "skip_h1_title": false,
   "title_cell": "Table of Contents",
   "title_sidebar": "Contents",
   "toc_cell": false,
   "toc_position": {
    "height": "calc(100% - 180px)",
    "left": "10px",
    "top": "150px",
    "width": "303.188px"
   },
   "toc_section_display": true,
   "toc_window_display": true
  },
  "vscode": {
   "interpreter": {
    "hash": "916dbcbb3f70747c44a77c7bcd40155683ae19c65e1c03b4aa3499c5328201f1"
   }
  }
 },
 "nbformat": 4,
 "nbformat_minor": 5
}
