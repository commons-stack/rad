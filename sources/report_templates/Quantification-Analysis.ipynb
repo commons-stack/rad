{
 "cells": [
  {
   "cell_type": "code",
   "execution_count": null,
   "id": "2c1f4ceb",
   "metadata": {
    "tags": [
     "parameters"
    ]
   },
   "outputs": [],
   "source": [
    "parameters_path = \"\"\n"
   ]
  },
  {
   "cell_type": "code",
   "execution_count": null,
   "id": "careful-unemployment",
   "metadata": {
    "scrolled": true,
    "tags": [
     "hide_input"
    ]
   },
   "outputs": [],
   "source": [
    "from rad import importer\n",
    "\n",
    "import rad.praise.analysis as pr_analysis\n",
    "\n",
    "\n",
    "\n",
    "#load the praise objects\n",
    "(reward_system_objects, distribution_objects) = importer.load_sources_from_json(parameters_path)\n"
   ]
  },
  {
   "cell_type": "markdown",
   "id": "f7017899",
   "metadata": {
    "papermill": {
     "duration": 0.209823,
     "end_time": "2022-04-13T21:20:13.465387",
     "exception": false,
     "start_time": "2022-04-13T21:20:13.255564",
     "status": "completed"
    },
    "tags": []
   },
   "source": [
    "# Quantifier Data\n",
    "Now let's take a closer look at the quantification process and the quantifiers:\n"
   ]
  },
  {
   "cell_type": "markdown",
   "id": "f60f5f42",
   "metadata": {
    "papermill": {
     "duration": 0.210179,
     "end_time": "2022-04-13T21:20:13.881434",
     "exception": false,
     "start_time": "2022-04-13T21:20:13.671255",
     "status": "completed"
    },
    "tags": []
   },
   "source": [
    "## Praise Outliers\n",
    "To aid the revision process, we highlight disagreements between quantifiers."
   ]
  },
  {
   "cell_type": "markdown",
   "id": "2dc1ab13",
   "metadata": {},
   "source": [
    "### Outliers sort by spreads\n",
    "\n",
    "This graphic visualizes controversial praise ratings by sorting them by the \"spread\" between the highest and lowest received score. <br>\n",
    "\n",
    "Please keep in mind that this is a visual aid. If there are several praise instances with similar spread and quant score, all but one end up \"hidden\" on the chart. For an exhaustive list, take a look at the exported file \"praise_outliers.csv\" ."
   ]
  },
  {
   "cell_type": "code",
   "execution_count": null,
   "id": "5433be7c",
   "metadata": {},
   "outputs": [],
   "source": [
    "pr_analysis.sort_by_controversial.printDescription(distribution_objects['tec_praise_dist'])\n",
    "pr_analysis.sort_by_controversial.printGraph(distribution_objects['tec_praise_dist'])\n"
   ]
  },
  {
   "cell_type": "markdown",
   "id": "2d9cadd1",
   "metadata": {
    "papermill": {
     "duration": 0.215617,
     "end_time": "2022-04-13T21:20:15.767379",
     "exception": false,
     "start_time": "2022-04-13T21:20:15.551762",
     "status": "completed"
    },
    "tags": []
   },
   "source": [
    "## Praise score by quantifier -- outliers among the quantifiers?\n",
    "\n",
    "Let's see how different quantifiers behaved by showing the range of praise scores they gave.\n",
    "\n",
    "To interpret the box plot:\n",
    "\n",
    "- Bottom horizontal line of box plot is minimum value\n",
    "\n",
    "- First horizontal line of rectangle shape of box plot is First quartile or 25%\n",
    "\n",
    "- Second horizontal line of rectangle shape of box plot is Second quartile or 50% or median.\n",
    "\n",
    "- Third horizontal line of rectangle shape of box plot is third quartile or 75%\n",
    "\n",
    "- Top horizontal line of rectangle shape of box plot is maximum value.\n",
    "\n",
    "\n"
   ]
  },
  {
   "cell_type": "code",
   "execution_count": null,
   "id": "17817789",
   "metadata": {
    "execution": {
     "iopub.execute_input": "2022-04-13T21:20:16.205233Z",
     "iopub.status.busy": "2022-04-13T21:20:16.205027Z",
     "iopub.status.idle": "2022-04-13T21:20:16.263571Z",
     "shell.execute_reply": "2022-04-13T21:20:16.263168Z"
    },
    "papermill": {
     "duration": 0.278811,
     "end_time": "2022-04-13T21:20:16.265747",
     "exception": false,
     "start_time": "2022-04-13T21:20:15.986936",
     "status": "completed"
    },
    "tags": []
   },
   "outputs": [],
   "source": [
    "'''quant_boxplot = quantifier_rating_table[['QUANT_ID', 'QUANT_VALUE']].copy()\n",
    "fig_box = px.box(quant_boxplot, x=\"QUANT_ID\", y=\"QUANT_VALUE\", points=False)\n",
    "fig_box'''\n",
    "pr_analysis.quantifier_boxplot.printDescription(distribution_objects['tec_praise_dist'])\n",
    "pr_analysis.quantifier_boxplot.printGraph(distribution_objects['tec_praise_dist'])"
   ]
  },
  {
   "cell_type": "code",
   "execution_count": null,
   "id": "8f351c9a",
   "metadata": {},
   "outputs": [],
   "source": [
    "'''\n",
    "pr = praise_tools.praise_quantifier(praisedata=praise_distribution,quantifiertable=quantifier_rating_table)\n",
    "'''"
   ]
  },
  {
   "cell_type": "markdown",
   "id": "4f95f65a",
   "metadata": {},
   "source": [
    "### Score displacement: tendency to under/over-scoring?"
   ]
  },
  {
   "cell_type": "code",
   "execution_count": null,
   "id": "c9111c27",
   "metadata": {},
   "outputs": [],
   "source": [
    "'''fig=pr.plot_mean_displacement()\n",
    "fig.show()'''\n",
    "pr_analysis.quantifier_scoring_analysis.printGraph(distribution_objects['tec_praise_dist'], {\"mode\":\"displacement\"})"
   ]
  },
  {
   "cell_type": "markdown",
   "id": "ba23d675",
   "metadata": {},
   "source": [
    "### Scoring correlation: how similiar am I scoring with others?"
   ]
  },
  {
   "cell_type": "code",
   "execution_count": null,
   "id": "e2da4d3d",
   "metadata": {},
   "outputs": [],
   "source": [
    "'''fig=pr.plot_coefficient()\n",
    "fig.show()'''\n",
    "pr_analysis.quantifier_scoring_analysis.printGraph(distribution_objects['tec_praise_dist'], {\"mode\":\"correlation\"})"
   ]
  },
  {
   "cell_type": "markdown",
   "id": "1bbc7886",
   "metadata": {},
   "source": [
    "## Agreement on duplication"
   ]
  },
  {
   "cell_type": "code",
   "execution_count": null,
   "id": "44be292b",
   "metadata": {},
   "outputs": [],
   "source": [
    "pr_analysis.quantifier_scoring_analysis.printGraph(distribution_objects['tec_praise_dist'], {\"mode\":\"displacement\"})"
   ]
  },
  {
   "cell_type": "code",
   "execution_count": null,
   "id": "3faf4023",
   "metadata": {},
   "outputs": [],
   "source": [
    "pr_analysis.agreement_check.printDescription(distribution_objects['tec_praise_dist'], {})\n",
    "pr_analysis.agreement_check.printGraph(distribution_objects['tec_praise_dist'], {\"value\": \"duplication\"})"
   ]
  },
  {
   "cell_type": "markdown",
   "id": "e60212a2",
   "metadata": {},
   "source": [
    "Praise instances with disagreements in duplication are collected in 'results/duplication_examination.csv'. To compare, look at the last 4 columns: 'DUPLICATE MSG 1/2/3' and 'ORIGINAL MSG'."
   ]
  },
  {
   "cell_type": "code",
   "execution_count": null,
   "id": "0dcaeb92",
   "metadata": {},
   "outputs": [],
   "source": [
    "'''duplication_disagreement['ORIGINAL MSG']=duplication_disagreement['REASON'] # replicate this column just after the other messages for easy comparison\n",
    "\n",
    "duplication_disagreement.to_csv('duplication_examination.csv')'''"
   ]
  },
  {
   "cell_type": "markdown",
   "id": "23ac3793",
   "metadata": {},
   "source": [
    "## Agreement on dismissal"
   ]
  },
  {
   "cell_type": "code",
   "execution_count": null,
   "id": "201537d9",
   "metadata": {},
   "outputs": [],
   "source": []
  },
  {
   "cell_type": "code",
   "execution_count": null,
   "id": "8ec07ef5",
   "metadata": {},
   "outputs": [],
   "source": [
    "\n",
    "\n",
    "pr_analysis.agreement_check.printDescription(distribution_objects['tec_praise_dist'], {})\n",
    "pr_analysis.agreement_check.printGraph(distribution_objects['tec_praise_dist'], {\"value\": \"dismissal\"})\n"
   ]
  },
  {
   "cell_type": "markdown",
   "id": "74295e31",
   "metadata": {},
   "source": [
    "Praise instances with disagreements in dismissal are collected in'results/dismissal_disaggreed.csv'. You can further look into who dismissed and who did not. \n",
    "\n"
   ]
  }
 ],
 "metadata": {
  "celltoolbar": "Tags",
  "hide_input": false,
  "kernelspec": {
   "display_name": "Python 3",
   "language": "python",
   "name": "python3"
  },
  "language_info": {
   "codemirror_mode": {
    "name": "ipython",
    "version": 3
   },
   "file_extension": ".py",
   "mimetype": "text/x-python",
   "name": "python",
   "nbconvert_exporter": "python",
   "pygments_lexer": "ipython3",
   "version": "3.10.6"
  },
  "toc": {
   "base_numbering": 1,
   "nav_menu": {},
   "number_sections": true,
   "sideBar": true,
   "skip_h1_title": false,
   "title_cell": "Table of Contents",
   "title_sidebar": "Contents",
   "toc_cell": false,
   "toc_position": {
    "height": "calc(100% - 180px)",
    "left": "10px",
    "top": "150px",
    "width": "303.188px"
   },
   "toc_section_display": true,
   "toc_window_display": true
  },
  "vscode": {
   "interpreter": {
    "hash": "916dbcbb3f70747c44a77c7bcd40155683ae19c65e1c03b4aa3499c5328201f1"
   }
  }
 },
 "nbformat": 4,
 "nbformat_minor": 5
}
